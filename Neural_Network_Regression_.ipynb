{
  "nbformat": 4,
  "nbformat_minor": 0,
  "metadata": {
    "colab": {
      "provenance": [],
      "authorship_tag": "ABX9TyNvPfZBYzhkBRDCC9i0kyaf",
      "include_colab_link": true
    },
    "kernelspec": {
      "name": "python3",
      "display_name": "Python 3"
    },
    "language_info": {
      "name": "python"
    }
  },
  "cells": [
    {
      "cell_type": "markdown",
      "metadata": {
        "id": "view-in-github",
        "colab_type": "text"
      },
      "source": [
        "<a href=\"https://colab.research.google.com/github/vatankumar/Tensorflow-understanding/blob/main/Neural_Network_Regression_.ipynb\" target=\"_parent\"><img src=\"https://colab.research.google.com/assets/colab-badge.svg\" alt=\"Open In Colab\"/></a>"
      ]
    },
    {
      "cell_type": "code",
      "execution_count": 1,
      "metadata": {
        "colab": {
          "base_uri": "https://localhost:8080/"
        },
        "id": "1Zm_6Y37_tN6",
        "outputId": "d2d616eb-13e9-42b6-fe68-3e04c0ec675a"
      },
      "outputs": [
        {
          "output_type": "stream",
          "name": "stdout",
          "text": [
            "2.15.0\n"
          ]
        }
      ],
      "source": [
        "import tensorflow as tf\n",
        "print(tf.__version__)"
      ]
    },
    {
      "cell_type": "code",
      "source": [
        "\n",
        "# Introduction to Regression with Neural networks in Tensorflow\n",
        "import numpy as np\n",
        "import matplotlib.pyplot as plt"
      ],
      "metadata": {
        "id": "PE2X1tX9_6Mn"
      },
      "execution_count": 2,
      "outputs": []
    },
    {
      "cell_type": "markdown",
      "source": [
        "Create the data to view and fit"
      ],
      "metadata": {
        "id": "l0LDill-Topr"
      }
    },
    {
      "cell_type": "code",
      "source": [
        "# Create features\n",
        "X = np.array([-7.0,-4.0,-1.0,2.0,5.0,8.0,11.0,14.0])\n",
        "\n",
        "\n",
        "# create labels\n",
        "y = np.array([3.0,6.0,9.0,12.0,15.0,18.0,21.0,24.0])\n",
        "\n",
        "# visualize\n",
        "plt.scatter(X,y)"
      ],
      "metadata": {
        "colab": {
          "base_uri": "https://localhost:8080/",
          "height": 452
        },
        "id": "9-SnnEbnJCZ8",
        "outputId": "f9b95067-fc64-4434-b5e6-42e41e93173e"
      },
      "execution_count": 3,
      "outputs": [
        {
          "output_type": "execute_result",
          "data": {
            "text/plain": [
              "<matplotlib.collections.PathCollection at 0x7c47272055a0>"
            ]
          },
          "metadata": {},
          "execution_count": 3
        },
        {
          "output_type": "display_data",
          "data": {
            "text/plain": [
              "<Figure size 640x480 with 1 Axes>"
            ],
            "image/png": "[encoded data removed]"
          },
          "metadata": {}
        }
      ]
    },
    {
      "cell_type": "markdown",
      "source": [
        "Input and Output Shapes"
      ],
      "metadata": {
        "id": "c4fj65MyVkMW"
      }
    },
    {
      "cell_type": "code",
      "source": [
        "# Create a demo tensor for our housing price prediction problem\n",
        "house_info = tf.constant([\"bedroom\",\"bathroom\",\"garage\"])\n",
        "house_price = tf.constant([939700])\n",
        "house_info , house_price"
      ],
      "metadata": {
        "colab": {
          "base_uri": "https://localhost:8080/"
        },
        "id": "ZBcjNOwgU739",
        "outputId": "a9de7a13-11d9-47f3-8fa8-320dff5eb5ba"
      },
      "execution_count": 4,
      "outputs": [
        {
          "output_type": "execute_result",
          "data": {
            "text/plain": [
              "(<tf.Tensor: shape=(3,), dtype=string, numpy=array([b'bedroom', b'bathroom', b'garage'], dtype=object)>,\n",
              " <tf.Tensor: shape=(1,), dtype=int32, numpy=array([939700], dtype=int32)>)"
            ]
          },
          "metadata": {},
          "execution_count": 4
        }
      ]
    },
    {
      "cell_type": "code",
      "source": [
        "input_shape = X.shape\n",
        "output_shape = y.shape\n",
        "input_shape , output_shape"
      ],
      "metadata": {
        "colab": {
          "base_uri": "https://localhost:8080/"
        },
        "id": "wqFZ7JGmW6Yw",
        "outputId": "2334e6df-10dc-49d7-b9e5-7bc34624e01f"
      },
      "execution_count": 5,
      "outputs": [
        {
          "output_type": "execute_result",
          "data": {
            "text/plain": [
              "((8,), (8,))"
            ]
          },
          "metadata": {},
          "execution_count": 5
        }
      ]
    },
    {
      "cell_type": "code",
      "source": [
        "# Convert the numpy array to tensor\n",
        "X = tf.cast(tf.constant(X), dtype=tf.float32)\n",
        "y = tf.cast(tf.constant(y), dtype=tf.float32)\n",
        "X,y"
      ],
      "metadata": {
        "colab": {
          "base_uri": "https://localhost:8080/"
        },
        "id": "sq7CH4J5X6gK",
        "outputId": "5ed38260-6e89-49c8-92eb-784766631f3c"
      },
      "execution_count": 6,
      "outputs": [
        {
          "output_type": "execute_result",
          "data": {
            "text/plain": [
              "(<tf.Tensor: shape=(8,), dtype=float32, numpy=array([-7., -4., -1.,  2.,  5.,  8., 11., 14.], dtype=float32)>,\n",
              " <tf.Tensor: shape=(8,), dtype=float32, numpy=array([ 3.,  6.,  9., 12., 15., 18., 21., 24.], dtype=float32)>)"
            ]
          },
          "metadata": {},
          "execution_count": 6
        }
      ]
    },
    {
      "cell_type": "code",
      "source": [
        "input_shape=X[0].shape\n",
        "output_shape=y[0].shape\n",
        "input_shape,output_shape"
      ],
      "metadata": {
        "colab": {
          "base_uri": "https://localhost:8080/"
        },
        "id": "yNyExxT3xley",
        "outputId": "acea9d00-ecf5-42fb-ed4f-6dfb288215d1"
      },
      "execution_count": 7,
      "outputs": [
        {
          "output_type": "execute_result",
          "data": {
            "text/plain": [
              "(TensorShape([]), TensorShape([]))"
            ]
          },
          "metadata": {},
          "execution_count": 7
        }
      ]
    },
    {
      "cell_type": "code",
      "source": [],
      "metadata": {
        "id": "Bd5HMxzkx3yu"
      },
      "execution_count": 7,
      "outputs": []
    },
    {
      "cell_type": "code",
      "source": [
        "# Set random seed\n",
        "tf.random.set_seed(42)\n",
        "\n",
        "# 1. Create a model using the Sequential API\n",
        "model = tf.keras.Sequential([\n",
        "    tf.keras.layers.Dense(1)\n",
        "])\n",
        " # 2. Compile the model\n",
        "model.compile(loss=tf.keras.losses.mae,\n",
        "              optimizer=tf.keras.optimizers.SGD(),\n",
        "              metrics = [\"mae\"]\n",
        "               )\n",
        "# 3. fit the model\n",
        "model.fit(tf.expand_dims(X,axis=-1),y,epochs=5)"
      ],
      "metadata": {
        "id": "74Jb0QYYbIZC",
        "colab": {
          "base_uri": "https://localhost:8080/"
        },
        "outputId": "5f3e52df-c58c-46c9-e43c-4158a89c33c7"
      },
      "execution_count": 8,
      "outputs": [
        {
          "output_type": "stream",
          "name": "stdout",
          "text": [
            "Epoch 1/5\n",
            "1/1 [==============================] - 1s 589ms/step - loss: 12.7611 - mae: 12.7611\n",
            "Epoch 2/5\n",
            "1/1 [==============================] - 0s 11ms/step - loss: 12.6286 - mae: 12.6286\n",
            "Epoch 3/5\n",
            "1/1 [==============================] - 0s 17ms/step - loss: 12.4961 - mae: 12.4961\n",
            "Epoch 4/5\n",
            "1/1 [==============================] - 0s 10ms/step - loss: 12.3636 - mae: 12.3636\n",
            "Epoch 5/5\n",
            "1/1 [==============================] - 0s 11ms/step - loss: 12.2311 - mae: 12.2311\n"
          ]
        },
        {
          "output_type": "execute_result",
          "data": {
            "text/plain": [
              "<keras.src.callbacks.History at 0x7c472205b850>"
            ]
          },
          "metadata": {},
          "execution_count": 8
        }
      ]
    },
    {
      "cell_type": "code",
      "source": [
        "# Check out X and y\n",
        "X,y"
      ],
      "metadata": {
        "colab": {
          "base_uri": "https://localhost:8080/"
        },
        "id": "2ieVSlKOxXrI",
        "outputId": "9facb8ad-a371-488f-9574-a9345bb444a7"
      },
      "execution_count": 9,
      "outputs": [
        {
          "output_type": "execute_result",
          "data": {
            "text/plain": [
              "(<tf.Tensor: shape=(8,), dtype=float32, numpy=array([-7., -4., -1.,  2.,  5.,  8., 11., 14.], dtype=float32)>,\n",
              " <tf.Tensor: shape=(8,), dtype=float32, numpy=array([ 3.,  6.,  9., 12., 15., 18., 21., 24.], dtype=float32)>)"
            ]
          },
          "metadata": {},
          "execution_count": 9
        }
      ]
    },
    {
      "cell_type": "code",
      "source": [
        "# Try and make a prediction using our model\n",
        "model.predict([17.0])"
      ],
      "metadata": {
        "colab": {
          "base_uri": "https://localhost:8080/"
        },
        "id": "Y8RZoVtNQKNf",
        "outputId": "3adae637-e956-45d6-cf53-ca64afe36f77"
      },
      "execution_count": 10,
      "outputs": [
        {
          "output_type": "stream",
          "name": "stdout",
          "text": [
            "1/1 [==============================] - 0s 133ms/step\n"
          ]
        },
        {
          "output_type": "execute_result",
          "data": {
            "text/plain": [
              "array([[6.614036]], dtype=float32)"
            ]
          },
          "metadata": {},
          "execution_count": 10
        }
      ]
    },
    {
      "cell_type": "code",
      "source": [],
      "metadata": {
        "id": "8y61gMiRQ7ZS"
      },
      "execution_count": 10,
      "outputs": []
    },
    {
      "cell_type": "code",
      "source": [
        "# improving your model"
      ],
      "metadata": {
        "id": "7vFJQsHNQc0r"
      },
      "execution_count": 11,
      "outputs": []
    },
    {
      "cell_type": "code",
      "source": [],
      "metadata": {
        "id": "orZ7HQJ2Q88F"
      },
      "execution_count": 11,
      "outputs": []
    },
    {
      "cell_type": "markdown",
      "source": [
        "# improving your model"
      ],
      "metadata": {
        "id": "eWuIuut5Q1nK"
      }
    },
    {
      "cell_type": "code",
      "source": [
        "# Create the model\n",
        "model = tf.keras.Sequential([\n",
        "    tf.keras.layers.Dense(1)\n",
        "])\n",
        "\n",
        "# 2 Compile the model'\n",
        "model.compile(loss=tf.keras.losses.mae,\n",
        "              optimizer=tf.keras.optimizers.SGD(),\n",
        "              metrics=['mae'])\n",
        "\n",
        "# 3 Fit the model\n",
        "\n",
        "\n",
        "model.fit(tf.expand_dims(X,axis=-1),y,epochs=100)"
      ],
      "metadata": {
        "colab": {
          "base_uri": "https://localhost:8080/"
        },
        "id": "ujBNy_PuQ-IR",
        "outputId": "8bd69d2e-de21-48b5-bfa3-0a2d7c5d6519"
      },
      "execution_count": 12,
      "outputs": [
        {
          "output_type": "stream",
          "name": "stdout",
          "text": [
            "Epoch 1/100\n",
            "1/1 [==============================] - 0s 434ms/step - loss: 19.7892 - mae: 19.7892\n",
            "Epoch 2/100\n",
            "1/1 [==============================] - 0s 13ms/step - loss: 19.5079 - mae: 19.5079\n",
            "Epoch 3/100\n",
            "1/1 [==============================] - 0s 14ms/step - loss: 19.2267 - mae: 19.2267\n",
            "Epoch 4/100\n",
            "1/1 [==============================] - 0s 15ms/step - loss: 18.9454 - mae: 18.9454\n",
            "Epoch 5/100\n",
            "1/1 [==============================] - 0s 11ms/step - loss: 18.6642 - mae: 18.6642\n",
            "Epoch 6/100\n",
            "1/1 [==============================] - 0s 12ms/step - loss: 18.3829 - mae: 18.3829\n",
            "Epoch 7/100\n",
            "1/1 [==============================] - 0s 12ms/step - loss: 18.1017 - mae: 18.1017\n",
            "Epoch 8/100\n",
            "1/1 [==============================] - 0s 18ms/step - loss: 17.8204 - mae: 17.8204\n",
            "Epoch 9/100\n",
            "1/1 [==============================] - 0s 11ms/step - loss: 17.5392 - mae: 17.5392\n",
            "Epoch 10/100\n",
            "1/1 [==============================] - 0s 11ms/step - loss: 17.2579 - mae: 17.2579\n",
            "Epoch 11/100\n",
            "1/1 [==============================] - 0s 13ms/step - loss: 16.9767 - mae: 16.9767\n",
            "Epoch 12/100\n",
            "1/1 [==============================] - 0s 14ms/step - loss: 16.6954 - mae: 16.6954\n",
            "Epoch 13/100\n",
            "1/1 [==============================] - 0s 11ms/step - loss: 16.4142 - mae: 16.4142\n",
            "Epoch 14/100\n",
            "1/1 [==============================] - 0s 11ms/step - loss: 16.1329 - mae: 16.1329\n",
            "Epoch 15/100\n",
            "1/1 [==============================] - 0s 11ms/step - loss: 15.8517 - mae: 15.8517\n",
            "Epoch 16/100\n",
            "1/1 [==============================] - 0s 14ms/step - loss: 15.5704 - mae: 15.5704\n",
            "Epoch 17/100\n",
            "1/1 [==============================] - 0s 22ms/step - loss: 15.2891 - mae: 15.2891\n",
            "Epoch 18/100\n",
            "1/1 [==============================] - 0s 12ms/step - loss: 15.0079 - mae: 15.0079\n",
            "Epoch 19/100\n",
            "1/1 [==============================] - 0s 9ms/step - loss: 14.7503 - mae: 14.7503\n",
            "Epoch 20/100\n",
            "1/1 [==============================] - 0s 12ms/step - loss: 14.6178 - mae: 14.6178\n",
            "Epoch 21/100\n",
            "1/1 [==============================] - 0s 9ms/step - loss: 14.4853 - mae: 14.4853\n",
            "Epoch 22/100\n",
            "1/1 [==============================] - 0s 14ms/step - loss: 14.3528 - mae: 14.3528\n",
            "Epoch 23/100\n",
            "1/1 [==============================] - 0s 10ms/step - loss: 14.2203 - mae: 14.2203\n",
            "Epoch 24/100\n",
            "1/1 [==============================] - 0s 9ms/step - loss: 14.0878 - mae: 14.0878\n",
            "Epoch 25/100\n",
            "1/1 [==============================] - 0s 11ms/step - loss: 13.9553 - mae: 13.9553\n",
            "Epoch 26/100\n",
            "1/1 [==============================] - 0s 19ms/step - loss: 13.8228 - mae: 13.8228\n",
            "Epoch 27/100\n",
            "1/1 [==============================] - 0s 21ms/step - loss: 13.6903 - mae: 13.6903\n",
            "Epoch 28/100\n",
            "1/1 [==============================] - 0s 22ms/step - loss: 13.5578 - mae: 13.5578\n",
            "Epoch 29/100\n",
            "1/1 [==============================] - 0s 23ms/step - loss: 13.4253 - mae: 13.4253\n",
            "Epoch 30/100\n",
            "1/1 [==============================] - 0s 14ms/step - loss: 13.2928 - mae: 13.2928\n",
            "Epoch 31/100\n",
            "1/1 [==============================] - 0s 13ms/step - loss: 13.1603 - mae: 13.1603\n",
            "Epoch 32/100\n",
            "1/1 [==============================] - 0s 13ms/step - loss: 13.0278 - mae: 13.0278\n",
            "Epoch 33/100\n",
            "1/1 [==============================] - 0s 10ms/step - loss: 12.8953 - mae: 12.8953\n",
            "Epoch 34/100\n",
            "1/1 [==============================] - 0s 14ms/step - loss: 12.7628 - mae: 12.7628\n",
            "Epoch 35/100\n",
            "1/1 [==============================] - 0s 11ms/step - loss: 12.6303 - mae: 12.6303\n",
            "Epoch 36/100\n",
            "1/1 [==============================] - 0s 12ms/step - loss: 12.4978 - mae: 12.4978\n",
            "Epoch 37/100\n",
            "1/1 [==============================] - 0s 14ms/step - loss: 12.3653 - mae: 12.3653\n",
            "Epoch 38/100\n",
            "1/1 [==============================] - 0s 13ms/step - loss: 12.2328 - mae: 12.2328\n",
            "Epoch 39/100\n",
            "1/1 [==============================] - 0s 14ms/step - loss: 12.1003 - mae: 12.1003\n",
            "Epoch 40/100\n",
            "1/1 [==============================] - 0s 11ms/step - loss: 11.9678 - mae: 11.9678\n",
            "Epoch 41/100\n",
            "1/1 [==============================] - 0s 11ms/step - loss: 11.8353 - mae: 11.8353\n",
            "Epoch 42/100\n",
            "1/1 [==============================] - 0s 11ms/step - loss: 11.7028 - mae: 11.7028\n",
            "Epoch 43/100\n",
            "1/1 [==============================] - 0s 12ms/step - loss: 11.5703 - mae: 11.5703\n",
            "Epoch 44/100\n",
            "1/1 [==============================] - 0s 12ms/step - loss: 11.4378 - mae: 11.4378\n",
            "Epoch 45/100\n",
            "1/1 [==============================] - 0s 13ms/step - loss: 11.3053 - mae: 11.3053\n",
            "Epoch 46/100\n",
            "1/1 [==============================] - 0s 11ms/step - loss: 11.1728 - mae: 11.1728\n",
            "Epoch 47/100\n",
            "1/1 [==============================] - 0s 11ms/step - loss: 11.0403 - mae: 11.0403\n",
            "Epoch 48/100\n",
            "1/1 [==============================] - 0s 9ms/step - loss: 10.9078 - mae: 10.9078\n",
            "Epoch 49/100\n",
            "1/1 [==============================] - 0s 41ms/step - loss: 10.7753 - mae: 10.7753\n",
            "Epoch 50/100\n",
            "1/1 [==============================] - 0s 13ms/step - loss: 10.6428 - mae: 10.6428\n",
            "Epoch 51/100\n",
            "1/1 [==============================] - 0s 16ms/step - loss: 10.5103 - mae: 10.5103\n",
            "Epoch 52/100\n",
            "1/1 [==============================] - 0s 16ms/step - loss: 10.3778 - mae: 10.3778\n",
            "Epoch 53/100\n",
            "1/1 [==============================] - 0s 12ms/step - loss: 10.2453 - mae: 10.2453\n",
            "Epoch 54/100\n",
            "1/1 [==============================] - 0s 14ms/step - loss: 10.1128 - mae: 10.1128\n",
            "Epoch 55/100\n",
            "1/1 [==============================] - 0s 15ms/step - loss: 9.9803 - mae: 9.9803\n",
            "Epoch 56/100\n",
            "1/1 [==============================] - 0s 15ms/step - loss: 9.8478 - mae: 9.8478\n",
            "Epoch 57/100\n",
            "1/1 [==============================] - 0s 11ms/step - loss: 9.7153 - mae: 9.7153\n",
            "Epoch 58/100\n",
            "1/1 [==============================] - 0s 16ms/step - loss: 9.5828 - mae: 9.5828\n",
            "Epoch 59/100\n",
            "1/1 [==============================] - 0s 16ms/step - loss: 9.4503 - mae: 9.4503\n",
            "Epoch 60/100\n",
            "1/1 [==============================] - 0s 20ms/step - loss: 9.3178 - mae: 9.3178\n",
            "Epoch 61/100\n",
            "1/1 [==============================] - 0s 15ms/step - loss: 9.1853 - mae: 9.1853\n",
            "Epoch 62/100\n",
            "1/1 [==============================] - 0s 11ms/step - loss: 9.0528 - mae: 9.0528\n",
            "Epoch 63/100\n",
            "1/1 [==============================] - 0s 11ms/step - loss: 8.9203 - mae: 8.9203\n",
            "Epoch 64/100\n",
            "1/1 [==============================] - 0s 10ms/step - loss: 8.7878 - mae: 8.7878\n",
            "Epoch 65/100\n",
            "1/1 [==============================] - 0s 10ms/step - loss: 8.6553 - mae: 8.6553\n",
            "Epoch 66/100\n",
            "1/1 [==============================] - 0s 10ms/step - loss: 8.5228 - mae: 8.5228\n",
            "Epoch 67/100\n",
            "1/1 [==============================] - 0s 11ms/step - loss: 8.3903 - mae: 8.3903\n",
            "Epoch 68/100\n",
            "1/1 [==============================] - 0s 15ms/step - loss: 8.2578 - mae: 8.2578\n",
            "Epoch 69/100\n",
            "1/1 [==============================] - 0s 11ms/step - loss: 8.1253 - mae: 8.1253\n",
            "Epoch 70/100\n",
            "1/1 [==============================] - 0s 11ms/step - loss: 7.9928 - mae: 7.9928\n",
            "Epoch 71/100\n",
            "1/1 [==============================] - 0s 15ms/step - loss: 7.8603 - mae: 7.8603\n",
            "Epoch 72/100\n",
            "1/1 [==============================] - 0s 11ms/step - loss: 7.7278 - mae: 7.7278\n",
            "Epoch 73/100\n",
            "1/1 [==============================] - 0s 11ms/step - loss: 7.5953 - mae: 7.5953\n",
            "Epoch 74/100\n",
            "1/1 [==============================] - 0s 14ms/step - loss: 7.4628 - mae: 7.4628\n",
            "Epoch 75/100\n",
            "1/1 [==============================] - 0s 10ms/step - loss: 7.3303 - mae: 7.3303\n",
            "Epoch 76/100\n",
            "1/1 [==============================] - 0s 11ms/step - loss: 7.1978 - mae: 7.1978\n",
            "Epoch 77/100\n",
            "1/1 [==============================] - 0s 11ms/step - loss: 7.0653 - mae: 7.0653\n",
            "Epoch 78/100\n",
            "1/1 [==============================] - 0s 10ms/step - loss: 6.9563 - mae: 6.9563\n",
            "Epoch 79/100\n",
            "1/1 [==============================] - 0s 17ms/step - loss: 6.9506 - mae: 6.9506\n",
            "Epoch 80/100\n",
            "1/1 [==============================] - 0s 17ms/step - loss: 6.9450 - mae: 6.9450\n",
            "Epoch 81/100\n",
            "1/1 [==============================] - 0s 16ms/step - loss: 6.9394 - mae: 6.9394\n",
            "Epoch 82/100\n",
            "1/1 [==============================] - 0s 24ms/step - loss: 6.9338 - mae: 6.9338\n",
            "Epoch 83/100\n",
            "1/1 [==============================] - 0s 20ms/step - loss: 6.9281 - mae: 6.9281\n",
            "Epoch 84/100\n",
            "1/1 [==============================] - 0s 21ms/step - loss: 6.9225 - mae: 6.9225\n",
            "Epoch 85/100\n",
            "1/1 [==============================] - 0s 15ms/step - loss: 6.9169 - mae: 6.9169\n",
            "Epoch 86/100\n",
            "1/1 [==============================] - 0s 14ms/step - loss: 6.9113 - mae: 6.9113\n",
            "Epoch 87/100\n",
            "1/1 [==============================] - 0s 15ms/step - loss: 6.9056 - mae: 6.9056\n",
            "Epoch 88/100\n",
            "1/1 [==============================] - 0s 15ms/step - loss: 6.9000 - mae: 6.9000\n",
            "Epoch 89/100\n",
            "1/1 [==============================] - 0s 11ms/step - loss: 6.8944 - mae: 6.8944\n",
            "Epoch 90/100\n",
            "1/1 [==============================] - 0s 10ms/step - loss: 6.8888 - mae: 6.8888\n",
            "Epoch 91/100\n",
            "1/1 [==============================] - 0s 11ms/step - loss: 6.8831 - mae: 6.8831\n",
            "Epoch 92/100\n",
            "1/1 [==============================] - 0s 15ms/step - loss: 6.8775 - mae: 6.8775\n",
            "Epoch 93/100\n",
            "1/1 [==============================] - 0s 11ms/step - loss: 6.8719 - mae: 6.8719\n",
            "Epoch 94/100\n",
            "1/1 [==============================] - 0s 10ms/step - loss: 6.8663 - mae: 6.8663\n",
            "Epoch 95/100\n",
            "1/1 [==============================] - 0s 11ms/step - loss: 6.8606 - mae: 6.8606\n",
            "Epoch 96/100\n",
            "1/1 [==============================] - 0s 11ms/step - loss: 6.8550 - mae: 6.8550\n",
            "Epoch 97/100\n",
            "1/1 [==============================] - 0s 12ms/step - loss: 6.8494 - mae: 6.8494\n",
            "Epoch 98/100\n",
            "1/1 [==============================] - 0s 11ms/step - loss: 6.8438 - mae: 6.8438\n",
            "Epoch 99/100\n",
            "1/1 [==============================] - 0s 9ms/step - loss: 6.8381 - mae: 6.8381\n",
            "Epoch 100/100\n",
            "1/1 [==============================] - 0s 9ms/step - loss: 6.8325 - mae: 6.8325\n"
          ]
        },
        {
          "output_type": "execute_result",
          "data": {
            "text/plain": [
              "<keras.src.callbacks.History at 0x7c47216c0460>"
            ]
          },
          "metadata": {},
          "execution_count": 12
        }
      ]
    },
    {
      "cell_type": "code",
      "source": [
        "# new prediciton\n",
        "model.predict([17.0])"
      ],
      "metadata": {
        "colab": {
          "base_uri": "https://localhost:8080/"
        },
        "id": "veoyFPUQWgxv",
        "outputId": "2d06292c-0dbe-4e0e-e449-5ea1252a569b"
      },
      "execution_count": 13,
      "outputs": [
        {
          "output_type": "stream",
          "name": "stdout",
          "text": [
            "1/1 [==============================] - 0s 81ms/step\n"
          ]
        },
        {
          "output_type": "execute_result",
          "data": {
            "text/plain": [
              "array([[29.274057]], dtype=float32)"
            ]
          },
          "metadata": {},
          "execution_count": 13
        }
      ]
    },
    {
      "cell_type": "code",
      "source": [
        "# Let's see if we can make another to improve our model\n",
        "# 1. Create the model (this time with an extra hidden layer with 100 hidden units)\n",
        "model = tf.keras.Sequential([\n",
        "    tf.keras.layers.Dense(100,activation='relu'),\n",
        "    tf.keras.layers.Dense(1)\n",
        "])\n",
        "\n",
        "# 2. Compile the model\n",
        "model.compile(loss='mae',\n",
        "              optimizer=tf.keras.optimizers.SGD(),\n",
        "              metrics=['mae'])\n",
        "\n",
        "# 3. Fit the model\n",
        "model.fit(tf.expand_dims(X,axis=-1),y,epochs=100)"
      ],
      "metadata": {
        "colab": {
          "base_uri": "https://localhost:8080/"
        },
        "id": "ijUbHMu1XRyh",
        "outputId": "4ae195da-b9ec-4b7c-9526-918a3a08fc16"
      },
      "execution_count": 14,
      "outputs": [
        {
          "output_type": "stream",
          "name": "stdout",
          "text": [
            "Epoch 1/100\n",
            "1/1 [==============================] - 1s 551ms/step - loss: 15.3829 - mae: 15.3829\n",
            "Epoch 2/100\n",
            "1/1 [==============================] - 0s 15ms/step - loss: 14.8564 - mae: 14.8564\n",
            "Epoch 3/100\n",
            "1/1 [==============================] - 0s 11ms/step - loss: 14.3602 - mae: 14.3602\n",
            "Epoch 4/100\n",
            "1/1 [==============================] - 0s 19ms/step - loss: 13.8769 - mae: 13.8769\n",
            "Epoch 5/100\n",
            "1/1 [==============================] - 0s 17ms/step - loss: 13.3985 - mae: 13.3985\n",
            "Epoch 6/100\n",
            "1/1 [==============================] - 0s 13ms/step - loss: 12.9296 - mae: 12.9296\n",
            "Epoch 7/100\n",
            "1/1 [==============================] - 0s 10ms/step - loss: 12.4682 - mae: 12.4682\n",
            "Epoch 8/100\n",
            "1/1 [==============================] - 0s 10ms/step - loss: 12.0076 - mae: 12.0076\n",
            "Epoch 9/100\n",
            "1/1 [==============================] - 0s 17ms/step - loss: 11.5351 - mae: 11.5351\n",
            "Epoch 10/100\n",
            "1/1 [==============================] - 0s 12ms/step - loss: 11.0482 - mae: 11.0482\n",
            "Epoch 11/100\n",
            "1/1 [==============================] - 0s 16ms/step - loss: 10.5427 - mae: 10.5427\n",
            "Epoch 12/100\n",
            "1/1 [==============================] - 0s 17ms/step - loss: 10.0141 - mae: 10.0141\n",
            "Epoch 13/100\n",
            "1/1 [==============================] - 0s 15ms/step - loss: 9.4574 - mae: 9.4574\n",
            "Epoch 14/100\n",
            "1/1 [==============================] - 0s 19ms/step - loss: 8.8790 - mae: 8.8790\n",
            "Epoch 15/100\n",
            "1/1 [==============================] - 0s 12ms/step - loss: 8.2708 - mae: 8.2708\n",
            "Epoch 16/100\n",
            "1/1 [==============================] - 0s 11ms/step - loss: 7.6213 - mae: 7.6213\n",
            "Epoch 17/100\n",
            "1/1 [==============================] - 0s 11ms/step - loss: 6.9222 - mae: 6.9222\n",
            "Epoch 18/100\n",
            "1/1 [==============================] - 0s 12ms/step - loss: 6.2148 - mae: 6.2148\n",
            "Epoch 19/100\n",
            "1/1 [==============================] - 0s 11ms/step - loss: 5.4526 - mae: 5.4526\n",
            "Epoch 20/100\n",
            "1/1 [==============================] - 0s 13ms/step - loss: 4.6215 - mae: 4.6215\n",
            "Epoch 21/100\n",
            "1/1 [==============================] - 0s 13ms/step - loss: 4.0230 - mae: 4.0230\n",
            "Epoch 22/100\n",
            "1/1 [==============================] - 0s 12ms/step - loss: 3.9288 - mae: 3.9288\n",
            "Epoch 23/100\n",
            "1/1 [==============================] - 0s 11ms/step - loss: 3.8883 - mae: 3.8883\n",
            "Epoch 24/100\n",
            "1/1 [==============================] - 0s 11ms/step - loss: 3.9036 - mae: 3.9036\n",
            "Epoch 25/100\n",
            "1/1 [==============================] - 0s 12ms/step - loss: 3.9027 - mae: 3.9027\n",
            "Epoch 26/100\n",
            "1/1 [==============================] - 0s 11ms/step - loss: 3.8862 - mae: 3.8862\n",
            "Epoch 27/100\n",
            "1/1 [==============================] - 0s 12ms/step - loss: 3.9099 - mae: 3.9099\n",
            "Epoch 28/100\n",
            "1/1 [==============================] - 0s 12ms/step - loss: 3.8607 - mae: 3.8607\n",
            "Epoch 29/100\n",
            "1/1 [==============================] - 0s 14ms/step - loss: 3.9165 - mae: 3.9165\n",
            "Epoch 30/100\n",
            "1/1 [==============================] - 0s 12ms/step - loss: 3.8513 - mae: 3.8513\n",
            "Epoch 31/100\n",
            "1/1 [==============================] - 0s 12ms/step - loss: 3.9060 - mae: 3.9060\n",
            "Epoch 32/100\n",
            "1/1 [==============================] - 0s 16ms/step - loss: 3.8578 - mae: 3.8578\n",
            "Epoch 33/100\n",
            "1/1 [==============================] - 0s 12ms/step - loss: 3.8871 - mae: 3.8871\n",
            "Epoch 34/100\n",
            "1/1 [==============================] - 0s 11ms/step - loss: 3.8730 - mae: 3.8730\n",
            "Epoch 35/100\n",
            "1/1 [==============================] - 0s 12ms/step - loss: 3.8629 - mae: 3.8629\n",
            "Epoch 36/100\n",
            "1/1 [==============================] - 0s 11ms/step - loss: 3.8797 - mae: 3.8797\n",
            "Epoch 37/100\n",
            "1/1 [==============================] - 0s 11ms/step - loss: 3.8371 - mae: 3.8371\n",
            "Epoch 38/100\n",
            "1/1 [==============================] - 0s 11ms/step - loss: 3.8866 - mae: 3.8866\n",
            "Epoch 39/100\n",
            "1/1 [==============================] - 0s 11ms/step - loss: 3.8216 - mae: 3.8216\n",
            "Epoch 40/100\n",
            "1/1 [==============================] - 0s 10ms/step - loss: 3.8821 - mae: 3.8821\n",
            "Epoch 41/100\n",
            "1/1 [==============================] - 0s 11ms/step - loss: 3.8328 - mae: 3.8328\n",
            "Epoch 42/100\n",
            "1/1 [==============================] - 0s 11ms/step - loss: 3.8643 - mae: 3.8643\n",
            "Epoch 43/100\n",
            "1/1 [==============================] - 0s 13ms/step - loss: 3.8437 - mae: 3.8437\n",
            "Epoch 44/100\n",
            "1/1 [==============================] - 0s 11ms/step - loss: 3.8384 - mae: 3.8384\n",
            "Epoch 45/100\n",
            "1/1 [==============================] - 0s 10ms/step - loss: 3.8506 - mae: 3.8506\n",
            "Epoch 46/100\n",
            "1/1 [==============================] - 0s 12ms/step - loss: 3.8124 - mae: 3.8124\n",
            "Epoch 47/100\n",
            "1/1 [==============================] - 0s 11ms/step - loss: 3.8576 - mae: 3.8576\n",
            "Epoch 48/100\n",
            "1/1 [==============================] - 0s 11ms/step - loss: 3.7930 - mae: 3.7930\n",
            "Epoch 49/100\n",
            "1/1 [==============================] - 0s 16ms/step - loss: 3.8598 - mae: 3.8598\n",
            "Epoch 50/100\n",
            "1/1 [==============================] - 0s 12ms/step - loss: 3.8085 - mae: 3.8085\n",
            "Epoch 51/100\n",
            "1/1 [==============================] - 0s 11ms/step - loss: 3.8389 - mae: 3.8389\n",
            "Epoch 52/100\n",
            "1/1 [==============================] - 0s 12ms/step - loss: 3.8155 - mae: 3.8155\n",
            "Epoch 53/100\n",
            "1/1 [==============================] - 0s 11ms/step - loss: 3.8127 - mae: 3.8127\n",
            "Epoch 54/100\n",
            "1/1 [==============================] - 0s 12ms/step - loss: 3.8226 - mae: 3.8226\n",
            "Epoch 55/100\n",
            "1/1 [==============================] - 0s 11ms/step - loss: 3.7864 - mae: 3.7864\n",
            "Epoch 56/100\n",
            "1/1 [==============================] - 0s 11ms/step - loss: 3.8298 - mae: 3.8298\n",
            "Epoch 57/100\n",
            "1/1 [==============================] - 0s 12ms/step - loss: 3.7660 - mae: 3.7660\n",
            "Epoch 58/100\n",
            "1/1 [==============================] - 0s 16ms/step - loss: 3.8384 - mae: 3.8384\n",
            "Epoch 59/100\n",
            "1/1 [==============================] - 0s 11ms/step - loss: 3.7811 - mae: 3.7811\n",
            "Epoch 60/100\n",
            "1/1 [==============================] - 0s 11ms/step - loss: 3.8121 - mae: 3.8121\n",
            "Epoch 61/100\n",
            "1/1 [==============================] - 0s 11ms/step - loss: 3.7883 - mae: 3.7883\n",
            "Epoch 62/100\n",
            "1/1 [==============================] - 0s 15ms/step - loss: 3.7857 - mae: 3.7857\n",
            "Epoch 63/100\n",
            "1/1 [==============================] - 0s 11ms/step - loss: 3.7956 - mae: 3.7956\n",
            "Epoch 64/100\n",
            "1/1 [==============================] - 0s 11ms/step - loss: 3.7591 - mae: 3.7591\n",
            "Epoch 65/100\n",
            "1/1 [==============================] - 0s 15ms/step - loss: 3.8030 - mae: 3.8030\n",
            "Epoch 66/100\n",
            "1/1 [==============================] - 0s 18ms/step - loss: 3.7455 - mae: 3.7455\n",
            "Epoch 67/100\n",
            "1/1 [==============================] - 0s 10ms/step - loss: 3.8108 - mae: 3.8108\n",
            "Epoch 68/100\n",
            "1/1 [==============================] - 0s 10ms/step - loss: 3.7548 - mae: 3.7548\n",
            "Epoch 69/100\n",
            "1/1 [==============================] - 0s 12ms/step - loss: 3.7842 - mae: 3.7842\n",
            "Epoch 70/100\n",
            "1/1 [==============================] - 0s 10ms/step - loss: 3.7622 - mae: 3.7622\n",
            "Epoch 71/100\n",
            "1/1 [==============================] - 0s 11ms/step - loss: 3.7575 - mae: 3.7575\n",
            "Epoch 72/100\n",
            "1/1 [==============================] - 0s 14ms/step - loss: 3.7696 - mae: 3.7696\n",
            "Epoch 73/100\n",
            "1/1 [==============================] - 0s 11ms/step - loss: 3.7306 - mae: 3.7306\n",
            "Epoch 74/100\n",
            "1/1 [==============================] - 0s 10ms/step - loss: 3.7812 - mae: 3.7812\n",
            "Epoch 75/100\n",
            "1/1 [==============================] - 0s 10ms/step - loss: 3.7220 - mae: 3.7220\n",
            "Epoch 76/100\n",
            "1/1 [==============================] - 0s 10ms/step - loss: 3.7818 - mae: 3.7818\n",
            "Epoch 77/100\n",
            "1/1 [==============================] - 0s 10ms/step - loss: 3.7294 - mae: 3.7294\n",
            "Epoch 78/100\n",
            "1/1 [==============================] - 0s 10ms/step - loss: 3.7549 - mae: 3.7549\n",
            "Epoch 79/100\n",
            "1/1 [==============================] - 0s 10ms/step - loss: 3.7370 - mae: 3.7370\n",
            "Epoch 80/100\n",
            "1/1 [==============================] - 0s 11ms/step - loss: 3.7278 - mae: 3.7278\n",
            "Epoch 81/100\n",
            "1/1 [==============================] - 0s 11ms/step - loss: 3.7448 - mae: 3.7448\n",
            "Epoch 82/100\n",
            "1/1 [==============================] - 0s 10ms/step - loss: 3.7026 - mae: 3.7026\n",
            "Epoch 83/100\n",
            "1/1 [==============================] - 0s 10ms/step - loss: 3.7610 - mae: 3.7610\n",
            "Epoch 84/100\n",
            "1/1 [==============================] - 0s 10ms/step - loss: 3.6975 - mae: 3.6975\n",
            "Epoch 85/100\n",
            "1/1 [==============================] - 0s 11ms/step - loss: 3.7515 - mae: 3.7515\n",
            "Epoch 86/100\n",
            "1/1 [==============================] - 0s 11ms/step - loss: 3.7052 - mae: 3.7052\n",
            "Epoch 87/100\n",
            "1/1 [==============================] - 0s 10ms/step - loss: 3.7243 - mae: 3.7243\n",
            "Epoch 88/100\n",
            "1/1 [==============================] - 0s 11ms/step - loss: 3.7130 - mae: 3.7130\n",
            "Epoch 89/100\n",
            "1/1 [==============================] - 0s 24ms/step - loss: 3.6969 - mae: 3.6969\n",
            "Epoch 90/100\n",
            "1/1 [==============================] - 0s 20ms/step - loss: 3.7208 - mae: 3.7208\n",
            "Epoch 91/100\n",
            "1/1 [==============================] - 0s 13ms/step - loss: 3.6771 - mae: 3.6771\n",
            "Epoch 92/100\n",
            "1/1 [==============================] - 0s 12ms/step - loss: 3.7373 - mae: 3.7373\n",
            "Epoch 93/100\n",
            "1/1 [==============================] - 0s 13ms/step - loss: 3.6740 - mae: 3.6740\n",
            "Epoch 94/100\n",
            "1/1 [==============================] - 0s 13ms/step - loss: 3.7199 - mae: 3.7199\n",
            "Epoch 95/100\n",
            "1/1 [==============================] - 0s 12ms/step - loss: 3.6818 - mae: 3.6818\n",
            "Epoch 96/100\n",
            "1/1 [==============================] - 0s 15ms/step - loss: 3.6923 - mae: 3.6923\n",
            "Epoch 97/100\n",
            "1/1 [==============================] - 0s 16ms/step - loss: 3.6898 - mae: 3.6898\n",
            "Epoch 98/100\n",
            "1/1 [==============================] - 0s 16ms/step - loss: 3.6647 - mae: 3.6647\n",
            "Epoch 99/100\n",
            "1/1 [==============================] - 0s 18ms/step - loss: 3.7027 - mae: 3.7027\n",
            "Epoch 100/100\n",
            "1/1 [==============================] - 0s 13ms/step - loss: 3.6446 - mae: 3.6446\n"
          ]
        },
        {
          "output_type": "execute_result",
          "data": {
            "text/plain": [
              "<keras.src.callbacks.History at 0x7c47228b6680>"
            ]
          },
          "metadata": {},
          "execution_count": 14
        }
      ]
    },
    {
      "cell_type": "code",
      "source": [
        "# Lets remind ourselves of the data\n",
        "X,y\n"
      ],
      "metadata": {
        "colab": {
          "base_uri": "https://localhost:8080/"
        },
        "id": "z6khC05Kd4gF",
        "outputId": "7f61c4e1-3868-4639-991d-900629ca35f9"
      },
      "execution_count": 15,
      "outputs": [
        {
          "output_type": "execute_result",
          "data": {
            "text/plain": [
              "(<tf.Tensor: shape=(8,), dtype=float32, numpy=array([-7., -4., -1.,  2.,  5.,  8., 11., 14.], dtype=float32)>,\n",
              " <tf.Tensor: shape=(8,), dtype=float32, numpy=array([ 3.,  6.,  9., 12., 15., 18., 21., 24.], dtype=float32)>)"
            ]
          },
          "metadata": {},
          "execution_count": 15
        }
      ]
    },
    {
      "cell_type": "code",
      "source": [
        "# Lets try to make a prediction ones again\n",
        "model.predict([17.0])"
      ],
      "metadata": {
        "colab": {
          "base_uri": "https://localhost:8080/"
        },
        "id": "pkUJacbDggox",
        "outputId": "924c7d39-00a0-44f2-935f-2cfdf4d47570"
      },
      "execution_count": 16,
      "outputs": [
        {
          "output_type": "stream",
          "name": "stdout",
          "text": [
            "1/1 [==============================] - 0s 130ms/step\n"
          ]
        },
        {
          "output_type": "execute_result",
          "data": {
            "text/plain": [
              "array([[32.934288]], dtype=float32)"
            ]
          },
          "metadata": {},
          "execution_count": 16
        }
      ]
    },
    {
      "cell_type": "code",
      "source": [
        "# more improved\n",
        "# Let's see if we can make another to improve our model\n",
        "# 1. Create the model (this time with an extra hidden layer with 100 hidden units)\n",
        "model = tf.keras.Sequential([\n",
        "    tf.keras.layers.Dense(50,activation=None),\n",
        "    tf.keras.layers.Dense(1)\n",
        "])\n",
        "\n",
        "# 2. Compile the model\n",
        "model.compile(loss='mae',\n",
        "              optimizer=tf.keras.optimizers.Adam(learning_rate=0.01),\n",
        "              metrics=['mae'])\n",
        "\n",
        "# 3. Fit the model\n",
        "model.fit(tf.expand_dims(X,axis=-1),y,epochs=100)"
      ],
      "metadata": {
        "colab": {
          "base_uri": "https://localhost:8080/"
        },
        "id": "v6jRQRYIgpka",
        "outputId": "e5c57c62-02d3-4ed0-ca61-dbe167000046"
      },
      "execution_count": 17,
      "outputs": [
        {
          "output_type": "stream",
          "name": "stdout",
          "text": [
            "Epoch 1/100\n",
            "1/1 [==============================] - 2s 2s/step - loss: 12.9496 - mae: 12.9496\n",
            "Epoch 2/100\n",
            "1/1 [==============================] - 0s 22ms/step - loss: 12.2980 - mae: 12.2980\n",
            "Epoch 3/100\n",
            "1/1 [==============================] - 0s 29ms/step - loss: 11.6449 - mae: 11.6449\n",
            "Epoch 4/100\n",
            "1/1 [==============================] - 0s 27ms/step - loss: 10.9891 - mae: 10.9891\n",
            "Epoch 5/100\n",
            "1/1 [==============================] - 0s 20ms/step - loss: 10.3278 - mae: 10.3278\n",
            "Epoch 6/100\n",
            "1/1 [==============================] - 0s 18ms/step - loss: 9.6581 - mae: 9.6581\n",
            "Epoch 7/100\n",
            "1/1 [==============================] - 0s 19ms/step - loss: 8.9768 - mae: 8.9768\n",
            "Epoch 8/100\n",
            "1/1 [==============================] - 0s 17ms/step - loss: 8.2807 - mae: 8.2807\n",
            "Epoch 9/100\n",
            "1/1 [==============================] - 0s 19ms/step - loss: 7.5668 - mae: 7.5668\n",
            "Epoch 10/100\n",
            "1/1 [==============================] - 0s 24ms/step - loss: 6.8627 - mae: 6.8627\n",
            "Epoch 11/100\n",
            "1/1 [==============================] - 0s 17ms/step - loss: 6.7913 - mae: 6.7913\n",
            "Epoch 12/100\n",
            "1/1 [==============================] - 0s 20ms/step - loss: 7.0584 - mae: 7.0584\n",
            "Epoch 13/100\n",
            "1/1 [==============================] - 0s 21ms/step - loss: 7.2151 - mae: 7.2151\n",
            "Epoch 14/100\n",
            "1/1 [==============================] - 0s 21ms/step - loss: 7.2780 - mae: 7.2780\n",
            "Epoch 15/100\n",
            "1/1 [==============================] - 0s 18ms/step - loss: 7.2624 - mae: 7.2624\n",
            "Epoch 16/100\n",
            "1/1 [==============================] - 0s 33ms/step - loss: 7.1818 - mae: 7.1818\n",
            "Epoch 17/100\n",
            "1/1 [==============================] - 0s 33ms/step - loss: 7.0480 - mae: 7.0480\n",
            "Epoch 18/100\n",
            "1/1 [==============================] - 0s 26ms/step - loss: 6.8711 - mae: 6.8711\n",
            "Epoch 19/100\n",
            "1/1 [==============================] - 0s 29ms/step - loss: 6.6601 - mae: 6.6601\n",
            "Epoch 20/100\n",
            "1/1 [==============================] - 0s 24ms/step - loss: 6.4223 - mae: 6.4223\n",
            "Epoch 21/100\n",
            "1/1 [==============================] - 0s 20ms/step - loss: 6.1641 - mae: 6.1641\n",
            "Epoch 22/100\n",
            "1/1 [==============================] - 0s 17ms/step - loss: 6.1047 - mae: 6.1047\n",
            "Epoch 23/100\n",
            "1/1 [==============================] - 0s 24ms/step - loss: 6.0575 - mae: 6.0575\n",
            "Epoch 24/100\n",
            "1/1 [==============================] - 0s 25ms/step - loss: 6.1981 - mae: 6.1981\n",
            "Epoch 25/100\n",
            "1/1 [==============================] - 0s 16ms/step - loss: 6.2377 - mae: 6.2377\n",
            "Epoch 26/100\n",
            "1/1 [==============================] - 0s 21ms/step - loss: 6.1700 - mae: 6.1700\n",
            "Epoch 27/100\n",
            "1/1 [==============================] - 0s 30ms/step - loss: 6.0088 - mae: 6.0088\n",
            "Epoch 28/100\n",
            "1/1 [==============================] - 0s 22ms/step - loss: 5.7638 - mae: 5.7638\n",
            "Epoch 29/100\n",
            "1/1 [==============================] - 0s 19ms/step - loss: 5.5697 - mae: 5.5697\n",
            "Epoch 30/100\n",
            "1/1 [==============================] - 0s 22ms/step - loss: 5.4574 - mae: 5.4574\n",
            "Epoch 31/100\n",
            "1/1 [==============================] - 0s 20ms/step - loss: 5.3822 - mae: 5.3822\n",
            "Epoch 32/100\n",
            "1/1 [==============================] - 0s 17ms/step - loss: 5.3823 - mae: 5.3823\n",
            "Epoch 33/100\n",
            "1/1 [==============================] - 0s 28ms/step - loss: 5.3349 - mae: 5.3349\n",
            "Epoch 34/100\n",
            "1/1 [==============================] - 0s 20ms/step - loss: 5.2437 - mae: 5.2437\n",
            "Epoch 35/100\n",
            "1/1 [==============================] - 0s 19ms/step - loss: 5.1123 - mae: 5.1123\n",
            "Epoch 36/100\n",
            "1/1 [==============================] - 0s 27ms/step - loss: 4.9445 - mae: 4.9445\n",
            "Epoch 37/100\n",
            "1/1 [==============================] - 0s 38ms/step - loss: 4.7455 - mae: 4.7455\n",
            "Epoch 38/100\n",
            "1/1 [==============================] - 0s 19ms/step - loss: 4.6478 - mae: 4.6478\n",
            "Epoch 39/100\n",
            "1/1 [==============================] - 0s 22ms/step - loss: 4.5421 - mae: 4.5421\n",
            "Epoch 40/100\n",
            "1/1 [==============================] - 0s 18ms/step - loss: 4.4281 - mae: 4.4281\n",
            "Epoch 41/100\n",
            "1/1 [==============================] - 0s 18ms/step - loss: 4.3059 - mae: 4.3059\n",
            "Epoch 42/100\n",
            "1/1 [==============================] - 0s 17ms/step - loss: 4.1778 - mae: 4.1778\n",
            "Epoch 43/100\n",
            "1/1 [==============================] - 0s 18ms/step - loss: 4.0246 - mae: 4.0246\n",
            "Epoch 44/100\n",
            "1/1 [==============================] - 0s 15ms/step - loss: 3.8661 - mae: 3.8661\n",
            "Epoch 45/100\n",
            "1/1 [==============================] - 0s 62ms/step - loss: 3.6992 - mae: 3.6992\n",
            "Epoch 46/100\n",
            "1/1 [==============================] - 0s 28ms/step - loss: 3.5237 - mae: 3.5237\n",
            "Epoch 47/100\n",
            "1/1 [==============================] - 0s 29ms/step - loss: 3.3985 - mae: 3.3985\n",
            "Epoch 48/100\n",
            "1/1 [==============================] - 0s 14ms/step - loss: 3.2365 - mae: 3.2365\n",
            "Epoch 49/100\n",
            "1/1 [==============================] - 0s 45ms/step - loss: 3.0156 - mae: 3.0156\n",
            "Epoch 50/100\n",
            "1/1 [==============================] - 0s 17ms/step - loss: 2.8045 - mae: 2.8045\n",
            "Epoch 51/100\n",
            "1/1 [==============================] - 0s 20ms/step - loss: 2.6160 - mae: 2.6160\n",
            "Epoch 52/100\n",
            "1/1 [==============================] - 0s 23ms/step - loss: 2.4653 - mae: 2.4653\n",
            "Epoch 53/100\n",
            "1/1 [==============================] - 0s 16ms/step - loss: 2.1884 - mae: 2.1884\n",
            "Epoch 54/100\n",
            "1/1 [==============================] - 0s 79ms/step - loss: 1.9502 - mae: 1.9502\n",
            "Epoch 55/100\n",
            "1/1 [==============================] - 0s 12ms/step - loss: 1.7002 - mae: 1.7002\n",
            "Epoch 56/100\n",
            "1/1 [==============================] - 0s 12ms/step - loss: 1.5016 - mae: 1.5016\n",
            "Epoch 57/100\n",
            "1/1 [==============================] - 0s 19ms/step - loss: 1.2373 - mae: 1.2373\n",
            "Epoch 58/100\n",
            "1/1 [==============================] - 0s 16ms/step - loss: 0.9183 - mae: 0.9183\n",
            "Epoch 59/100\n",
            "1/1 [==============================] - 0s 42ms/step - loss: 0.6988 - mae: 0.6988\n",
            "Epoch 60/100\n",
            "1/1 [==============================] - 0s 26ms/step - loss: 0.3412 - mae: 0.3412\n",
            "Epoch 61/100\n",
            "1/1 [==============================] - 0s 26ms/step - loss: 0.2107 - mae: 0.2107\n",
            "Epoch 62/100\n",
            "1/1 [==============================] - 0s 24ms/step - loss: 0.3047 - mae: 0.3047\n",
            "Epoch 63/100\n",
            "1/1 [==============================] - 0s 21ms/step - loss: 0.4940 - mae: 0.4940\n",
            "Epoch 64/100\n",
            "1/1 [==============================] - 0s 15ms/step - loss: 0.7246 - mae: 0.7246\n",
            "Epoch 65/100\n",
            "1/1 [==============================] - 0s 15ms/step - loss: 0.7674 - mae: 0.7674\n",
            "Epoch 66/100\n",
            "1/1 [==============================] - 0s 22ms/step - loss: 0.8132 - mae: 0.8132\n",
            "Epoch 67/100\n",
            "1/1 [==============================] - 0s 14ms/step - loss: 0.8749 - mae: 0.8749\n",
            "Epoch 68/100\n",
            "1/1 [==============================] - 0s 37ms/step - loss: 0.8255 - mae: 0.8255\n",
            "Epoch 69/100\n",
            "1/1 [==============================] - 0s 57ms/step - loss: 0.7238 - mae: 0.7238\n",
            "Epoch 70/100\n",
            "1/1 [==============================] - 0s 27ms/step - loss: 0.7140 - mae: 0.7140\n",
            "Epoch 71/100\n",
            "1/1 [==============================] - 0s 17ms/step - loss: 0.4950 - mae: 0.4950\n",
            "Epoch 72/100\n",
            "1/1 [==============================] - 0s 20ms/step - loss: 0.5568 - mae: 0.5568\n",
            "Epoch 73/100\n",
            "1/1 [==============================] - 0s 19ms/step - loss: 0.4395 - mae: 0.4395\n",
            "Epoch 74/100\n",
            "1/1 [==============================] - 0s 22ms/step - loss: 0.0323 - mae: 0.0323\n",
            "Epoch 75/100\n",
            "1/1 [==============================] - 0s 14ms/step - loss: 0.1766 - mae: 0.1766\n",
            "Epoch 76/100\n",
            "1/1 [==============================] - 0s 17ms/step - loss: 0.3308 - mae: 0.3308\n",
            "Epoch 77/100\n",
            "1/1 [==============================] - 0s 25ms/step - loss: 0.3695 - mae: 0.3695\n",
            "Epoch 78/100\n",
            "1/1 [==============================] - 0s 36ms/step - loss: 0.4866 - mae: 0.4866\n",
            "Epoch 79/100\n",
            "1/1 [==============================] - 0s 19ms/step - loss: 0.5026 - mae: 0.5026\n",
            "Epoch 80/100\n",
            "1/1 [==============================] - 0s 19ms/step - loss: 0.3873 - mae: 0.3873\n",
            "Epoch 81/100\n",
            "1/1 [==============================] - 0s 56ms/step - loss: 0.4277 - mae: 0.4277\n",
            "Epoch 82/100\n",
            "1/1 [==============================] - 0s 31ms/step - loss: 0.3181 - mae: 0.3181\n",
            "Epoch 83/100\n",
            "1/1 [==============================] - 0s 32ms/step - loss: 0.2813 - mae: 0.2813\n",
            "Epoch 84/100\n",
            "1/1 [==============================] - 0s 19ms/step - loss: 0.1632 - mae: 0.1632\n",
            "Epoch 85/100\n",
            "1/1 [==============================] - 0s 25ms/step - loss: 0.2333 - mae: 0.2333\n",
            "Epoch 86/100\n",
            "1/1 [==============================] - 0s 29ms/step - loss: 0.2628 - mae: 0.2628\n",
            "Epoch 87/100\n",
            "1/1 [==============================] - 0s 23ms/step - loss: 0.2643 - mae: 0.2643\n",
            "Epoch 88/100\n",
            "1/1 [==============================] - 0s 22ms/step - loss: 0.3312 - mae: 0.3312\n",
            "Epoch 89/100\n",
            "1/1 [==============================] - 0s 19ms/step - loss: 0.2253 - mae: 0.2253\n",
            "Epoch 90/100\n",
            "1/1 [==============================] - 0s 44ms/step - loss: 0.3814 - mae: 0.3814\n",
            "Epoch 91/100\n",
            "1/1 [==============================] - 0s 21ms/step - loss: 0.3639 - mae: 0.3639\n",
            "Epoch 92/100\n",
            "1/1 [==============================] - 0s 30ms/step - loss: 0.0680 - mae: 0.0680\n",
            "Epoch 93/100\n",
            "1/1 [==============================] - 0s 22ms/step - loss: 0.4282 - mae: 0.4282\n",
            "Epoch 94/100\n",
            "1/1 [==============================] - 0s 20ms/step - loss: 0.5558 - mae: 0.5558\n",
            "Epoch 95/100\n",
            "1/1 [==============================] - 0s 20ms/step - loss: 0.3835 - mae: 0.3835\n",
            "Epoch 96/100\n",
            "1/1 [==============================] - 0s 22ms/step - loss: 0.2295 - mae: 0.2295\n",
            "Epoch 97/100\n",
            "1/1 [==============================] - 0s 16ms/step - loss: 0.3501 - mae: 0.3501\n",
            "Epoch 98/100\n",
            "1/1 [==============================] - 0s 29ms/step - loss: 0.3126 - mae: 0.3126\n",
            "Epoch 99/100\n",
            "1/1 [==============================] - 0s 23ms/step - loss: 0.1333 - mae: 0.1333\n",
            "Epoch 100/100\n",
            "1/1 [==============================] - 0s 16ms/step - loss: 0.2417 - mae: 0.2417\n"
          ]
        },
        {
          "output_type": "execute_result",
          "data": {
            "text/plain": [
              "<keras.src.callbacks.History at 0x7c47227a9b40>"
            ]
          },
          "metadata": {},
          "execution_count": 17
        }
      ]
    },
    {
      "cell_type": "code",
      "source": [
        "# Lets try to make a prediction ones again\n",
        "model.predict([17.0])"
      ],
      "metadata": {
        "colab": {
          "base_uri": "https://localhost:8080/"
        },
        "id": "ql4B3smtiMMX",
        "outputId": "a87e052d-c95d-49ae-d98c-748cd992e159"
      },
      "execution_count": 18,
      "outputs": [
        {
          "output_type": "stream",
          "name": "stdout",
          "text": [
            "1/1 [==============================] - 0s 283ms/step\n"
          ]
        },
        {
          "output_type": "execute_result",
          "data": {
            "text/plain": [
              "array([[27.693169]], dtype=float32)"
            ]
          },
          "metadata": {},
          "execution_count": 18
        }
      ]
    },
    {
      "cell_type": "markdown",
      "source": [
        " # Evaluting the model"
      ],
      "metadata": {
        "id": "4x1ejfoJkkI-"
      }
    },
    {
      "cell_type": "code",
      "source": [
        "# written in the notebook'"
      ],
      "metadata": {
        "id": "diRJXEU_ikdb"
      },
      "execution_count": 19,
      "outputs": []
    },
    {
      "cell_type": "code",
      "source": [
        "# make a bigger dataset\n",
        "X = tf.range(-100,100,4)\n",
        "X"
      ],
      "metadata": {
        "id": "ivElZo8imobc",
        "outputId": "5cdc344e-cc5d-4ca6-9bb1-4b31d8130e2b",
        "colab": {
          "base_uri": "https://localhost:8080/"
        }
      },
      "execution_count": 20,
      "outputs": [
        {
          "output_type": "execute_result",
          "data": {
            "text/plain": [
              "<tf.Tensor: shape=(50,), dtype=int32, numpy=\n",
              "array([-100,  -96,  -92,  -88,  -84,  -80,  -76,  -72,  -68,  -64,  -60,\n",
              "        -56,  -52,  -48,  -44,  -40,  -36,  -32,  -28,  -24,  -20,  -16,\n",
              "        -12,   -8,   -4,    0,    4,    8,   12,   16,   20,   24,   28,\n",
              "         32,   36,   40,   44,   48,   52,   56,   60,   64,   68,   72,\n",
              "         76,   80,   84,   88,   92,   96], dtype=int32)>"
            ]
          },
          "metadata": {},
          "execution_count": 20
        }
      ]
    },
    {
      "cell_type": "code",
      "source": [
        "y = X+10\n",
        "y"
      ],
      "metadata": {
        "id": "UAJ6ZRqknoNV",
        "outputId": "1fd606b4-5fd8-40e2-8e83-f33caba742cd",
        "colab": {
          "base_uri": "https://localhost:8080/"
        }
      },
      "execution_count": 21,
      "outputs": [
        {
          "output_type": "execute_result",
          "data": {
            "text/plain": [
              "<tf.Tensor: shape=(50,), dtype=int32, numpy=\n",
              "array([-90, -86, -82, -78, -74, -70, -66, -62, -58, -54, -50, -46, -42,\n",
              "       -38, -34, -30, -26, -22, -18, -14, -10,  -6,  -2,   2,   6,  10,\n",
              "        14,  18,  22,  26,  30,  34,  38,  42,  46,  50,  54,  58,  62,\n",
              "        66,  70,  74,  78,  82,  86,  90,  94,  98, 102, 106], dtype=int32)>"
            ]
          },
          "metadata": {},
          "execution_count": 21
        }
      ]
    },
    {
      "cell_type": "code",
      "source": [
        "import matplotlib.pyplot as plt\n",
        "plt.scatter(X,y)"
      ],
      "metadata": {
        "id": "jLgjBXqBm6he",
        "outputId": "e1b4123e-cdef-4241-efe7-ec0e01b493ce",
        "colab": {
          "base_uri": "https://localhost:8080/",
          "height": 447
        }
      },
      "execution_count": 22,
      "outputs": [
        {
          "output_type": "execute_result",
          "data": {
            "text/plain": [
              "<matplotlib.collections.PathCollection at 0x7c4720cf8550>"
            ]
          },
          "metadata": {},
          "execution_count": 22
        },
        {
          "output_type": "display_data",
          "data": {
            "text/plain": [
              "<Figure size 640x480 with 1 Axes>"
            ],
            "image/png": "[encoded data removed]"
          },
          "metadata": {}
        }
      ]
    },
    {
      "cell_type": "code",
      "source": [
        "# Split the data into train and test sets\n",
        "X_train = X[:40]\n",
        "y_train = y[:40]\n",
        "\n",
        "X_test = X[40:]\n",
        "y_test = y[40:]\n",
        "len(X_train) , len(X_test) , len(y_train) , len(y_test)"
      ],
      "metadata": {
        "id": "18X_F5zDneQR",
        "outputId": "0fdfdd0d-f939-4eed-99e5-b3f2e8f230c0",
        "colab": {
          "base_uri": "https://localhost:8080/"
        }
      },
      "execution_count": 23,
      "outputs": [
        {
          "output_type": "execute_result",
          "data": {
            "text/plain": [
              "(40, 10, 40, 10)"
            ]
          },
          "metadata": {},
          "execution_count": 23
        }
      ]
    },
    {
      "cell_type": "markdown",
      "source": [
        "Visualing the data\n",
        "Now we've got our data in training and test sets .... let's visualize it again"
      ],
      "metadata": {
        "id": "o-62OwwFB3EZ"
      }
    },
    {
      "cell_type": "code",
      "source": [
        "plt.figure(figsize=(10,7))\n",
        "# plot training data in blue\n",
        "plt.scatter(X_train ,y_train , c='b' , label = \"training data\")\n",
        "# plot test data in green\n",
        "plt.scatter(X_test , y_test, c='g' , label = 'testing data')\n",
        "# show a legend\n",
        "plt.legend()"
      ],
      "metadata": {
        "id": "V0BlizFSu1Cs",
        "outputId": "f42e6172-58de-4c30-817b-864c9dc45b42",
        "colab": {
          "base_uri": "https://localhost:8080/",
          "height": 616
        }
      },
      "execution_count": 25,
      "outputs": [
        {
          "output_type": "execute_result",
          "data": {
            "text/plain": [
              "<matplotlib.legend.Legend at 0x7c471073ec50>"
            ]
          },
          "metadata": {},
          "execution_count": 25
        },
        {
          "output_type": "display_data",
          "data": {
            "text/plain": [
              "<Figure size 1000x700 with 1 Axes>"
            ],
            "image/png": "[encoded data removed]"
          },
          "metadata": {}
        }
      ]
    },
    {
      "cell_type": "code",
      "source": [
        "# let build the  neural network for our data\n",
        "\n",
        "# 1. Create a model\n",
        "\n",
        "model = tf.keras.Sequential([\n",
        "    tf.keras.layers.Dense(1)\n",
        "])\n",
        "\n",
        "# 2. Compile the model\n",
        "\n",
        "model.compile(loss=tf.keras.losses.mae,\n",
        "              optimizer=tf.keras.optimizers.SGD(),\n",
        "              metrics=['mae'])\n",
        "\n",
        "# 3. Fit the model\n",
        "model.fit(tf.expand_dims(X_train,axis=-1),y_train , epochs=100)"
      ],
      "metadata": {
        "id": "rhWK-HdAC2xk",
        "outputId": "e99f8d13-182a-47ce-d332-058853e57b07",
        "colab": {
          "base_uri": "https://localhost:8080/"
        }
      },
      "execution_count": 27,
      "outputs": [
        {
          "output_type": "stream",
          "name": "stdout",
          "text": [
            "Epoch 1/100\n",
            "2/2 [==============================] - 0s 8ms/step - loss: 20.5286 - mae: 20.5286\n",
            "Epoch 2/100\n",
            "2/2 [==============================] - 0s 7ms/step - loss: 10.5685 - mae: 10.5685\n",
            "Epoch 3/100\n",
            "2/2 [==============================] - 0s 9ms/step - loss: 11.0436 - mae: 11.0436\n",
            "Epoch 4/100\n",
            "2/2 [==============================] - 0s 6ms/step - loss: 9.3300 - mae: 9.3300\n",
            "Epoch 5/100\n",
            "2/2 [==============================] - 0s 7ms/step - loss: 10.2043 - mae: 10.2043\n",
            "Epoch 6/100\n",
            "2/2 [==============================] - 0s 7ms/step - loss: 9.4618 - mae: 9.4618\n",
            "Epoch 7/100\n",
            "2/2 [==============================] - 0s 7ms/step - loss: 8.5960 - mae: 8.5960\n",
            "Epoch 8/100\n",
            "2/2 [==============================] - 0s 10ms/step - loss: 9.0416 - mae: 9.0416\n",
            "Epoch 9/100\n",
            "2/2 [==============================] - 0s 10ms/step - loss: 18.8252 - mae: 18.8252\n",
            "Epoch 10/100\n",
            "2/2 [==============================] - 0s 11ms/step - loss: 10.1516 - mae: 10.1516\n",
            "Epoch 11/100\n",
            "2/2 [==============================] - 0s 9ms/step - loss: 8.4096 - mae: 8.4096\n",
            "Epoch 12/100\n",
            "2/2 [==============================] - 0s 7ms/step - loss: 10.6928 - mae: 10.6928\n",
            "Epoch 13/100\n",
            "2/2 [==============================] - 0s 8ms/step - loss: 9.8061 - mae: 9.8061\n",
            "Epoch 14/100\n",
            "2/2 [==============================] - 0s 7ms/step - loss: 16.0893 - mae: 16.0893\n",
            "Epoch 15/100\n",
            "2/2 [==============================] - 0s 7ms/step - loss: 11.3387 - mae: 11.3387\n",
            "Epoch 16/100\n",
            "2/2 [==============================] - 0s 8ms/step - loss: 8.5538 - mae: 8.5538\n",
            "Epoch 17/100\n",
            "2/2 [==============================] - 0s 7ms/step - loss: 13.6737 - mae: 13.6737\n",
            "Epoch 18/100\n",
            "2/2 [==============================] - 0s 7ms/step - loss: 11.5128 - mae: 11.5128\n",
            "Epoch 19/100\n",
            "2/2 [==============================] - 0s 8ms/step - loss: 17.8448 - mae: 17.8448\n",
            "Epoch 20/100\n",
            "2/2 [==============================] - 0s 8ms/step - loss: 14.9799 - mae: 14.9799\n",
            "Epoch 21/100\n",
            "2/2 [==============================] - 0s 8ms/step - loss: 10.8550 - mae: 10.8550\n",
            "Epoch 22/100\n",
            "2/2 [==============================] - 0s 8ms/step - loss: 8.6074 - mae: 8.6074\n",
            "Epoch 23/100\n",
            "2/2 [==============================] - 0s 8ms/step - loss: 9.6912 - mae: 9.6912\n",
            "Epoch 24/100\n",
            "2/2 [==============================] - 0s 8ms/step - loss: 8.5780 - mae: 8.5780\n",
            "Epoch 25/100\n",
            "2/2 [==============================] - 0s 7ms/step - loss: 11.6000 - mae: 11.6000\n",
            "Epoch 26/100\n",
            "2/2 [==============================] - 0s 7ms/step - loss: 15.1167 - mae: 15.1167\n",
            "Epoch 27/100\n",
            "2/2 [==============================] - 0s 7ms/step - loss: 11.8646 - mae: 11.8646\n",
            "Epoch 28/100\n",
            "2/2 [==============================] - 0s 7ms/step - loss: 13.9056 - mae: 13.9056\n",
            "Epoch 29/100\n",
            "2/2 [==============================] - 0s 7ms/step - loss: 9.5979 - mae: 9.5979\n",
            "Epoch 30/100\n",
            "2/2 [==============================] - 0s 7ms/step - loss: 17.1583 - mae: 17.1583\n",
            "Epoch 31/100\n",
            "2/2 [==============================] - 0s 7ms/step - loss: 22.8955 - mae: 22.8955\n",
            "Epoch 32/100\n",
            "2/2 [==============================] - 0s 8ms/step - loss: 7.9082 - mae: 7.9082\n",
            "Epoch 33/100\n",
            "2/2 [==============================] - 0s 7ms/step - loss: 14.1142 - mae: 14.1142\n",
            "Epoch 34/100\n",
            "2/2 [==============================] - 0s 8ms/step - loss: 12.3552 - mae: 12.3552\n",
            "Epoch 35/100\n",
            "2/2 [==============================] - 0s 7ms/step - loss: 8.2592 - mae: 8.2592\n",
            "Epoch 36/100\n",
            "2/2 [==============================] - 0s 10ms/step - loss: 10.4829 - mae: 10.4829\n",
            "Epoch 37/100\n",
            "2/2 [==============================] - 0s 7ms/step - loss: 10.1266 - mae: 10.1266\n",
            "Epoch 38/100\n",
            "2/2 [==============================] - 0s 7ms/step - loss: 11.3253 - mae: 11.3253\n",
            "Epoch 39/100\n",
            "2/2 [==============================] - 0s 8ms/step - loss: 14.7363 - mae: 14.7363\n",
            "Epoch 40/100\n",
            "2/2 [==============================] - 0s 7ms/step - loss: 12.8667 - mae: 12.8667\n",
            "Epoch 41/100\n",
            "2/2 [==============================] - 0s 9ms/step - loss: 9.2545 - mae: 9.2545\n",
            "Epoch 42/100\n",
            "2/2 [==============================] - 0s 8ms/step - loss: 11.0044 - mae: 11.0044\n",
            "Epoch 43/100\n",
            "2/2 [==============================] - 0s 8ms/step - loss: 8.3277 - mae: 8.3277\n",
            "Epoch 44/100\n",
            "2/2 [==============================] - 0s 8ms/step - loss: 13.0575 - mae: 13.0575\n",
            "Epoch 45/100\n",
            "2/2 [==============================] - 0s 7ms/step - loss: 13.6556 - mae: 13.6556\n",
            "Epoch 46/100\n",
            "2/2 [==============================] - 0s 9ms/step - loss: 8.2700 - mae: 8.2700\n",
            "Epoch 47/100\n",
            "2/2 [==============================] - 0s 8ms/step - loss: 8.7231 - mae: 8.7231\n",
            "Epoch 48/100\n",
            "2/2 [==============================] - 0s 10ms/step - loss: 10.0252 - mae: 10.0252\n",
            "Epoch 49/100\n",
            "2/2 [==============================] - 0s 8ms/step - loss: 8.5082 - mae: 8.5082\n",
            "Epoch 50/100\n",
            "2/2 [==============================] - 0s 7ms/step - loss: 9.0152 - mae: 9.0152\n",
            "Epoch 51/100\n",
            "2/2 [==============================] - 0s 8ms/step - loss: 9.3684 - mae: 9.3684\n",
            "Epoch 52/100\n",
            "2/2 [==============================] - 0s 8ms/step - loss: 14.0224 - mae: 14.0224\n",
            "Epoch 53/100\n",
            "2/2 [==============================] - 0s 8ms/step - loss: 15.4143 - mae: 15.4143\n",
            "Epoch 54/100\n",
            "2/2 [==============================] - 0s 8ms/step - loss: 10.9115 - mae: 10.9115\n",
            "Epoch 55/100\n",
            "2/2 [==============================] - 0s 8ms/step - loss: 15.4482 - mae: 15.4482\n",
            "Epoch 56/100\n",
            "2/2 [==============================] - 0s 8ms/step - loss: 9.1363 - mae: 9.1363\n",
            "Epoch 57/100\n",
            "2/2 [==============================] - 0s 7ms/step - loss: 9.6777 - mae: 9.6777\n",
            "Epoch 58/100\n",
            "2/2 [==============================] - 0s 8ms/step - loss: 8.9875 - mae: 8.9875\n",
            "Epoch 59/100\n",
            "2/2 [==============================] - 0s 8ms/step - loss: 10.2144 - mae: 10.2144\n",
            "Epoch 60/100\n",
            "2/2 [==============================] - 0s 8ms/step - loss: 8.1707 - mae: 8.1707\n",
            "Epoch 61/100\n",
            "2/2 [==============================] - 0s 8ms/step - loss: 10.0497 - mae: 10.0497\n",
            "Epoch 62/100\n",
            "2/2 [==============================] - 0s 8ms/step - loss: 7.0261 - mae: 7.0261\n",
            "Epoch 63/100\n",
            "2/2 [==============================] - 0s 9ms/step - loss: 12.6885 - mae: 12.6885\n",
            "Epoch 64/100\n",
            "2/2 [==============================] - 0s 13ms/step - loss: 12.6364 - mae: 12.6364\n",
            "Epoch 65/100\n",
            "2/2 [==============================] - 0s 8ms/step - loss: 9.4479 - mae: 9.4479\n",
            "Epoch 66/100\n",
            "2/2 [==============================] - 0s 8ms/step - loss: 11.5264 - mae: 11.5264\n",
            "Epoch 67/100\n",
            "2/2 [==============================] - 0s 9ms/step - loss: 8.0214 - mae: 8.0214\n",
            "Epoch 68/100\n",
            "2/2 [==============================] - 0s 10ms/step - loss: 8.5531 - mae: 8.5531\n",
            "Epoch 69/100\n",
            "2/2 [==============================] - 0s 8ms/step - loss: 12.2322 - mae: 12.2322\n",
            "Epoch 70/100\n",
            "2/2 [==============================] - 0s 9ms/step - loss: 8.9392 - mae: 8.9392\n",
            "Epoch 71/100\n",
            "2/2 [==============================] - 0s 9ms/step - loss: 9.9135 - mae: 9.9135\n",
            "Epoch 72/100\n",
            "2/2 [==============================] - 0s 11ms/step - loss: 9.9550 - mae: 9.9550\n",
            "Epoch 73/100\n",
            "2/2 [==============================] - 0s 10ms/step - loss: 12.4142 - mae: 12.4142\n",
            "Epoch 74/100\n",
            "2/2 [==============================] - 0s 8ms/step - loss: 10.5853 - mae: 10.5853\n",
            "Epoch 75/100\n",
            "2/2 [==============================] - 0s 11ms/step - loss: 9.6129 - mae: 9.6129\n",
            "Epoch 76/100\n",
            "2/2 [==============================] - 0s 10ms/step - loss: 11.0747 - mae: 11.0747\n",
            "Epoch 77/100\n",
            "2/2 [==============================] - 0s 8ms/step - loss: 8.2626 - mae: 8.2626\n",
            "Epoch 78/100\n",
            "2/2 [==============================] - 0s 8ms/step - loss: 8.9449 - mae: 8.9449\n",
            "Epoch 79/100\n",
            "2/2 [==============================] - 0s 8ms/step - loss: 19.8110 - mae: 19.8110\n",
            "Epoch 80/100\n",
            "2/2 [==============================] - 0s 8ms/step - loss: 17.7916 - mae: 17.7916\n",
            "Epoch 81/100\n",
            "2/2 [==============================] - 0s 9ms/step - loss: 7.0802 - mae: 7.0802\n",
            "Epoch 82/100\n",
            "2/2 [==============================] - 0s 9ms/step - loss: 10.3886 - mae: 10.3886\n",
            "Epoch 83/100\n",
            "2/2 [==============================] - 0s 8ms/step - loss: 9.8094 - mae: 9.8094\n",
            "Epoch 84/100\n",
            "2/2 [==============================] - 0s 9ms/step - loss: 7.9360 - mae: 7.9360\n",
            "Epoch 85/100\n",
            "2/2 [==============================] - 0s 7ms/step - loss: 9.4495 - mae: 9.4495\n",
            "Epoch 86/100\n",
            "2/2 [==============================] - 0s 7ms/step - loss: 9.4930 - mae: 9.4930\n",
            "Epoch 87/100\n",
            "2/2 [==============================] - 0s 7ms/step - loss: 11.4437 - mae: 11.4437\n",
            "Epoch 88/100\n",
            "2/2 [==============================] - 0s 8ms/step - loss: 9.9407 - mae: 9.9407\n",
            "Epoch 89/100\n",
            "2/2 [==============================] - 0s 8ms/step - loss: 7.2446 - mae: 7.2446\n",
            "Epoch 90/100\n",
            "2/2 [==============================] - 0s 11ms/step - loss: 12.7040 - mae: 12.7040\n",
            "Epoch 91/100\n",
            "2/2 [==============================] - 0s 13ms/step - loss: 7.3087 - mae: 7.3087\n",
            "Epoch 92/100\n",
            "2/2 [==============================] - 0s 8ms/step - loss: 7.6729 - mae: 7.6729\n",
            "Epoch 93/100\n",
            "2/2 [==============================] - 0s 8ms/step - loss: 7.1089 - mae: 7.1089\n",
            "Epoch 94/100\n",
            "2/2 [==============================] - 0s 7ms/step - loss: 12.5500 - mae: 12.5500\n",
            "Epoch 95/100\n",
            "2/2 [==============================] - 0s 8ms/step - loss: 9.9241 - mae: 9.9241\n",
            "Epoch 96/100\n",
            "2/2 [==============================] - 0s 7ms/step - loss: 9.1259 - mae: 9.1259\n",
            "Epoch 97/100\n",
            "2/2 [==============================] - 0s 8ms/step - loss: 12.0643 - mae: 12.0643\n",
            "Epoch 98/100\n",
            "2/2 [==============================] - 0s 8ms/step - loss: 9.0709 - mae: 9.0709\n",
            "Epoch 99/100\n",
            "2/2 [==============================] - 0s 8ms/step - loss: 8.4862 - mae: 8.4862\n",
            "Epoch 100/100\n",
            "2/2 [==============================] - 0s 7ms/step - loss: 14.4396 - mae: 14.4396\n"
          ]
        },
        {
          "output_type": "execute_result",
          "data": {
            "text/plain": [
              "<keras.src.callbacks.History at 0x7c470be61300>"
            ]
          },
          "metadata": {},
          "execution_count": 27
        }
      ]
    },
    {
      "cell_type": "markdown",
      "source": [
        " visualizing the model\n",
        ""
      ],
      "metadata": {
        "id": "BIOjSL2dFSMn"
      }
    },
    {
      "cell_type": "code",
      "source": [
        "# Lets's create a model which builds automatically by defining the input_shape argument\n",
        "\n",
        "tf.random.set_seed(42)\n",
        "\n",
        "# create a model same as above\n",
        "\n",
        "model = tf.keras.Sequential([\n",
        "    tf.keras.layers.Dense(1,input_shape=[1])\n",
        "])\n",
        " # compile the model\n",
        "\n",
        "model.compile(loss=tf.keras.losses.mae,\n",
        "               optimizer=tf.keras.optimizers.SGD(),\n",
        "               metrics=['mae'])"
      ],
      "metadata": {
        "id": "i4jI2daZEqBH"
      },
      "execution_count": 38,
      "outputs": []
    },
    {
      "cell_type": "code",
      "source": [
        "model.summary()"
      ],
      "metadata": {
        "id": "0z3NE2PQFMEI",
        "outputId": "44ae5416-2e37-4a50-da33-eab98978e1a7",
        "colab": {
          "base_uri": "https://localhost:8080/"
        }
      },
      "execution_count": 32,
      "outputs": [
        {
          "output_type": "stream",
          "name": "stdout",
          "text": [
            "Model: \"sequential_6\"\n",
            "_________________________________________________________________\n",
            " Layer (type)                Output Shape              Param #   \n",
            "=================================================================\n",
            " dense_8 (Dense)             (None, 1)                 2         \n",
            "                                                                 \n",
            "=================================================================\n",
            "Total params: 2 (8.00 Byte)\n",
            "Trainable params: 2 (8.00 Byte)\n",
            "Non-trainable params: 0 (0.00 Byte)\n",
            "_________________________________________________________________\n"
          ]
        }
      ]
    },
    {
      "cell_type": "code",
      "source": [],
      "metadata": {
        "id": "epT1qHtEG7Vq"
      },
      "execution_count": 34,
      "outputs": []
    },
    {
      "cell_type": "markdown",
      "source": [
        "# param = X,y that why 2 param\n",
        "# trainable parameters - these are the parameters (patterns) the model can update as it trains\n",
        "# Non-trainable params - these parameters aren't updated during training ( this is typical when you bring in already learn patterns or parametrers from other models during **transfer learning**)\n",
        "** resources ** for a ,=more in-depth overview of the trainable parameters within a layer , check out MIT's introduction to deep learning video."
      ],
      "metadata": {
        "id": "W1hwtUlYUanc"
      }
    },
    {
      "cell_type": "code",
      "source": [
        "# let fit model to the training data"
      ],
      "metadata": {
        "id": "C8JI_2KjSuiq"
      },
      "execution_count": 35,
      "outputs": []
    },
    {
      "cell_type": "code",
      "source": [
        "model.fit(X_train,y_train,epochs=100,verbose=0)"
      ],
      "metadata": {
        "id": "X_qo1Fl8YaOh",
        "outputId": "318b1310-9ce0-4ae3-fcd2-ea144f1f7195",
        "colab": {
          "base_uri": "https://localhost:8080/"
        }
      },
      "execution_count": 39,
      "outputs": [
        {
          "output_type": "execute_result",
          "data": {
            "text/plain": [
              "<keras.src.callbacks.History at 0x7c470bc90f40>"
            ]
          },
          "metadata": {},
          "execution_count": 39
        }
      ]
    },
    {
      "cell_type": "code",
      "source": [
        "model.summary()"
      ],
      "metadata": {
        "id": "V2ef26vhYqio",
        "outputId": "b1cb5dc0-62a4-4263-dc64-532e43b20751",
        "colab": {
          "base_uri": "https://localhost:8080/"
        }
      },
      "execution_count": 40,
      "outputs": [
        {
          "output_type": "stream",
          "name": "stdout",
          "text": [
            "Model: \"sequential_7\"\n",
            "_________________________________________________________________\n",
            " Layer (type)                Output Shape              Param #   \n",
            "=================================================================\n",
            " dense_9 (Dense)             (None, 1)                 2         \n",
            "                                                                 \n",
            "=================================================================\n",
            "Total params: 2 (8.00 Byte)\n",
            "Trainable params: 2 (8.00 Byte)\n",
            "Non-trainable params: 0 (0.00 Byte)\n",
            "_________________________________________________________________\n"
          ]
        }
      ]
    },
    {
      "cell_type": "code",
      "source": [
        "from tensorflow.keras.utils import plot_model\n",
        "plot_model(model=model ,show_shapes=True)"
      ],
      "metadata": {
        "id": "aTb4ezz8ZFY3",
        "outputId": "7282b1ec-2648-4356-b8b7-9abfee545350",
        "colab": {
          "base_uri": "https://localhost:8080/",
          "height": 201
        }
      },
      "execution_count": 42,
      "outputs": [
        {
          "output_type": "execute_result",
          "data": {
            "image/png": "[encoded data removed]",
            "text/plain": [
              "<IPython.core.display.Image object>"
            ]
          },
          "metadata": {},
          "execution_count": 42
        }
      ]
    },
    {
      "cell_type": "code",
      "source": [
        "# Lets's create a model which builds automatically by defining the input_shape argument\n",
        "\n",
        "tf.random.set_seed(42)\n",
        "\n",
        "# create a model same as above\n",
        "\n",
        "model = tf.keras.Sequential([\n",
        "    tf.keras.layers.Dense(10,input_shape=[1], name = \"input_layer\"),\n",
        "    tf.keras.layers.Dense(1,name=\"output_layer\")\n",
        "],name=\"model_one\")\n",
        " # compile the model\n",
        "\n",
        "model.compile(loss=tf.keras.losses.mae,\n",
        "               optimizer=tf.keras.optimizers.SGD(),\n",
        "               metrics=['mae'])"
      ],
      "metadata": {
        "id": "nerdTsuWaCHn"
      },
      "execution_count": 66,
      "outputs": []
    },
    {
      "cell_type": "code",
      "source": [
        "model.summary()"
      ],
      "metadata": {
        "id": "XZ_4P1x_bVtj",
        "outputId": "9bd756f4-3aad-4fe7-ba24-f460e890cfc7",
        "colab": {
          "base_uri": "https://localhost:8080/"
        }
      },
      "execution_count": 67,
      "outputs": [
        {
          "output_type": "stream",
          "name": "stdout",
          "text": [
            "Model: \"model_one\"\n",
            "_________________________________________________________________\n",
            " Layer (type)                Output Shape              Param #   \n",
            "=================================================================\n",
            " input_layer (Dense)         (None, 10)                20        \n",
            "                                                                 \n",
            " output_layer (Dense)        (None, 1)                 11        \n",
            "                                                                 \n",
            "=================================================================\n",
            "Total params: 31 (124.00 Byte)\n",
            "Trainable params: 31 (124.00 Byte)\n",
            "Non-trainable params: 0 (0.00 Byte)\n",
            "_________________________________________________________________\n"
          ]
        }
      ]
    },
    {
      "cell_type": "code",
      "source": [
        "y_pred=model.predict(X_test)"
      ],
      "metadata": {
        "id": "83XR9Z10bXRq",
        "outputId": "676c648b-f1b6-4633-bd05-e2df00924cbe",
        "colab": {
          "base_uri": "https://localhost:8080/"
        }
      },
      "execution_count": 68,
      "outputs": [
        {
          "output_type": "stream",
          "name": "stderr",
          "text": [
            "WARNING:tensorflow:6 out of the last 7 calls to <function Model.make_predict_function.<locals>.predict_function at 0x7c4710fd23b0> triggered tf.function retracing. Tracing is expensive and the excessive number of tracings could be due to (1) creating @tf.function repeatedly in a loop, (2) passing tensors with different shapes, (3) passing Python objects instead of tensors. For (1), please define your @tf.function outside of the loop. For (2), @tf.function has reduce_retracing=True option that can avoid unnecessary retracing. For (3), please refer to https://www.tensorflow.org/guide/function#controlling_retracing and https://www.tensorflow.org/api_docs/python/tf/function for  more details.\n"
          ]
        },
        {
          "output_type": "stream",
          "name": "stdout",
          "text": [
            "1/1 [==============================] - 0s 55ms/step\n"
          ]
        }
      ]
    },
    {
      "cell_type": "code",
      "source": [
        "y_pred,y_test"
      ],
      "metadata": {
        "id": "kioIlmeLf_BA",
        "outputId": "9b52f483-d139-4eab-be09-804651aef037",
        "colab": {
          "base_uri": "https://localhost:8080/"
        }
      },
      "execution_count": 72,
      "outputs": [
        {
          "output_type": "execute_result",
          "data": {
            "text/plain": [
              "(array([[14.210555],\n",
              "        [15.157921],\n",
              "        [16.105293],\n",
              "        [17.052666],\n",
              "        [18.000034],\n",
              "        [18.947405],\n",
              "        [19.89478 ],\n",
              "        [20.842146],\n",
              "        [21.789513],\n",
              "        [22.736885]], dtype=float32),\n",
              " <tf.Tensor: shape=(10,), dtype=int32, numpy=array([ 70,  74,  78,  82,  86,  90,  94,  98, 102, 106], dtype=int32)>)"
            ]
          },
          "metadata": {},
          "execution_count": 72
        }
      ]
    },
    {
      "cell_type": "code",
      "source": [
        "def  plot_predictions(train_data=X_train,\n",
        "                      train_labels=y_train,\n",
        "                      test_data=X_test,\n",
        "                      test_labels=y_test,\n",
        "                      predictions=y_pred):\n",
        "\n",
        "  plt.figure(figsize=(10,7))\n",
        "  plt.scatter(train_data,train_labels,c=\"b\",label = \"training data\")\n",
        "  plt.scatter(test_data,test_labels,c=\"g\",label=\"testing data\")\n",
        "  plt.scatter(test_data , predictions , c=\"r\" , label = \"predicitons\")\n",
        "\n",
        "  plt.legend();"
      ],
      "metadata": {
        "id": "gZmcPwcZcbgv"
      },
      "execution_count": 69,
      "outputs": []
    },
    {
      "cell_type": "code",
      "source": [
        "plot_predictions()"
      ],
      "metadata": {
        "id": "--mPpcfkfHLI",
        "outputId": "ce1a481c-dd40-44cd-a7ff-1716629f54db",
        "colab": {
          "base_uri": "https://localhost:8080/",
          "height": 599
        }
      },
      "execution_count": 70,
      "outputs": [
        {
          "output_type": "display_data",
          "data": {
            "text/plain": [
              "<Figure size 1000x700 with 1 Axes>"
            ],
            "image/png": "[encoded data removed]"
          },
          "metadata": {}
        }
      ]
    },
    {
      "cell_type": "markdown",
      "source": [
        "Evaluting our model's predictions with regression evaluation metrics"
      ],
      "metadata": {
        "id": "qu0GgkfrgetP"
      }
    },
    {
      "cell_type": "code",
      "source": [
        "# Depending on the problem you are working on there will be different evaluation to evaluate your model's performance\n",
        "\n",
        "# since we're working on a regression . two of the main metrics :\n",
        "# MAE - mean absolute error , \" on average , how wrong is each of my model's predicitons\"\n",
        "# MSE - mean square error , \"square the average errors\"\n"
      ],
      "metadata": {
        "id": "D_omks58fSCH"
      },
      "execution_count": 73,
      "outputs": []
    },
    {
      "cell_type": "code",
      "source": [
        "# Evaluate the model on the test\n",
        "model.evaluate(X_test,y_test)"
      ],
      "metadata": {
        "id": "qtqucBDmjgaw",
        "outputId": "c5e5a17d-0eda-427e-837c-f78e2c8a5db4",
        "colab": {
          "base_uri": "https://localhost:8080/"
        }
      },
      "execution_count": 74,
      "outputs": [
        {
          "output_type": "stream",
          "name": "stdout",
          "text": [
            "1/1 [==============================] - 0s 377ms/step - loss: 69.5263 - mae: 69.5263\n"
          ]
        },
        {
          "output_type": "execute_result",
          "data": {
            "text/plain": [
              "[69.52628326416016, 69.52628326416016]"
            ]
          },
          "metadata": {},
          "execution_count": 74
        }
      ]
    },
    {
      "cell_type": "code",
      "source": [
        "# Calculate the mean absolute error\n",
        "# tf.keras.losses.MAE()\n",
        "mae=tf.metrics.mean_absolute_error(y_true=y_test,\n",
        "                               y_pred=y_pred)\n",
        "mae"
      ],
      "metadata": {
        "id": "2v-id4u7ms6V",
        "outputId": "747e7677-672d-44c9-f51b-697b23a03a5f",
        "colab": {
          "base_uri": "https://localhost:8080/"
        }
      },
      "execution_count": 75,
      "outputs": [
        {
          "output_type": "execute_result",
          "data": {
            "text/plain": [
              "<tf.Tensor: shape=(10,), dtype=float32, numpy=\n",
              "array([73.789444, 72.84208 , 71.89471 , 70.947334, 69.99997 , 69.0526  ,\n",
              "       68.105225, 67.15785 , 66.21049 , 65.263115], dtype=float32)>"
            ]
          },
          "metadata": {},
          "execution_count": 75
        }
      ]
    },
    {
      "cell_type": "code",
      "source": [],
      "metadata": {
        "id": "NHJpafr6oZOk"
      },
      "execution_count": null,
      "outputs": []
    }
  ]
}