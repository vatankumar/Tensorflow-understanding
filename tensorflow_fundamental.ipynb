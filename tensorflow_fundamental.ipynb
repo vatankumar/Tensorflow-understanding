{
  "nbformat": 4,
  "nbformat_minor": 0,
  "metadata": {
    "colab": {
      "provenance": [],
      "authorship_tag": "ABX9TyM8LKbB21u55QuXaooLgsqQ",
      "include_colab_link": true
    },
    "kernelspec": {
      "name": "python3",
      "display_name": "Python 3"
    },
    "language_info": {
      "name": "python"
    }
  },
  "cells": [
    {
      "cell_type": "markdown",
      "metadata": {
        "id": "view-in-github",
        "colab_type": "text"
      },
      "source": [
        "<a href=\"https://colab.research.google.com/github/vatankumar/Tensorflow-understanding/blob/main/tensorflow_fundamental.ipynb\" target=\"_parent\"><img src=\"https://colab.research.google.com/assets/colab-badge.svg\" alt=\"Open In Colab\"/></a>"
      ]
    },
    {
      "cell_type": "code",
      "execution_count": 1,
      "metadata": {
        "id": "_47srhRhHiap"
      },
      "outputs": [],
      "source": [
        "import pandas as pd\n",
        "import numpy as np\n",
        "import tensorflow as tf"
      ]
    },
    {
      "cell_type": "code",
      "source": [],
      "metadata": {
        "id": "sqEnbldwJw-X"
      },
      "execution_count": 1,
      "outputs": []
    },
    {
      "cell_type": "code",
      "source": [
        "\n",
        "print(tf.__version__)"
      ],
      "metadata": {
        "colab": {
          "base_uri": "https://localhost:8080/"
        },
        "id": "FfyOlaMJKLJv",
        "outputId": "57e2a3e3-aae4-4011-ff80-c7a48ff7b082"
      },
      "execution_count": 2,
      "outputs": [
        {
          "output_type": "stream",
          "name": "stdout",
          "text": [
            "2.12.0\n"
          ]
        }
      ]
    },
    {
      "cell_type": "code",
      "source": [
        "# create tesnors with tf.constant()\n",
        "scaler = tf.constant(7)\n",
        "scaler"
      ],
      "metadata": {
        "colab": {
          "base_uri": "https://localhost:8080/"
        },
        "id": "33yg0zI6KRtA",
        "outputId": "b04246c8-f897-4acb-d555-81331f62eaf5"
      },
      "execution_count": 3,
      "outputs": [
        {
          "output_type": "execute_result",
          "data": {
            "text/plain": [
              "<tf.Tensor: shape=(), dtype=int32, numpy=7>"
            ]
          },
          "metadata": {},
          "execution_count": 3
        }
      ]
    },
    {
      "cell_type": "code",
      "source": [
        "scaler.ndim"
      ],
      "metadata": {
        "colab": {
          "base_uri": "https://localhost:8080/"
        },
        "id": "1bHItr7XLdI9",
        "outputId": "8a281aa2-ce65-4915-9707-5a4dcd52ac6c"
      },
      "execution_count": 4,
      "outputs": [
        {
          "output_type": "execute_result",
          "data": {
            "text/plain": [
              "0"
            ]
          },
          "metadata": {},
          "execution_count": 4
        }
      ]
    },
    {
      "cell_type": "code",
      "source": [
        "# create a vector\n",
        "vector = tf.constant([10,10])\n",
        "vector"
      ],
      "metadata": {
        "colab": {
          "base_uri": "https://localhost:8080/"
        },
        "id": "wt9a0uWAL7xM",
        "outputId": "27c8a7e3-d958-4667-fd84-1726a16d8e08"
      },
      "execution_count": 5,
      "outputs": [
        {
          "output_type": "execute_result",
          "data": {
            "text/plain": [
              "<tf.Tensor: shape=(2,), dtype=int32, numpy=array([10, 10], dtype=int32)>"
            ]
          },
          "metadata": {},
          "execution_count": 5
        }
      ]
    },
    {
      "cell_type": "code",
      "source": [
        "vector.ndim"
      ],
      "metadata": {
        "colab": {
          "base_uri": "https://localhost:8080/"
        },
        "id": "ZUtCgojHMGZ8",
        "outputId": "5cdc1b75-817e-4925-f05d-0e799653142f"
      },
      "execution_count": 6,
      "outputs": [
        {
          "output_type": "execute_result",
          "data": {
            "text/plain": [
              "1"
            ]
          },
          "metadata": {},
          "execution_count": 6
        }
      ]
    },
    {
      "cell_type": "code",
      "source": [
        "# create another matrix\n",
        "another_matrix = tf.constant([[10.,7.]])\n",
        "another_matrix"
      ],
      "metadata": {
        "colab": {
          "base_uri": "https://localhost:8080/"
        },
        "id": "sykFYzHJMMC3",
        "outputId": "ae413b41-4e30-4f60-8dfa-6519888a7b1e"
      },
      "execution_count": 7,
      "outputs": [
        {
          "output_type": "execute_result",
          "data": {
            "text/plain": [
              "<tf.Tensor: shape=(1, 2), dtype=float32, numpy=array([[10.,  7.]], dtype=float32)>"
            ]
          },
          "metadata": {},
          "execution_count": 7
        }
      ]
    },
    {
      "cell_type": "code",
      "source": [
        "tf.Variable"
      ],
      "metadata": {
        "colab": {
          "base_uri": "https://localhost:8080/"
        },
        "id": "qBffEj6GM8q6",
        "outputId": "c26f9a20-23ca-46af-9219-547338d324eb"
      },
      "execution_count": 8,
      "outputs": [
        {
          "output_type": "execute_result",
          "data": {
            "text/plain": [
              "tensorflow.python.ops.variables.Variable"
            ]
          },
          "metadata": {},
          "execution_count": 8
        }
      ]
    },
    {
      "cell_type": "markdown",
      "source": [
        "**creating random tensor**"
      ],
      "metadata": {
        "id": "1OZZ0HgG_k-H"
      }
    },
    {
      "cell_type": "markdown",
      "source": [
        "random tensor are the tensors of some abitrary size which contains random numbers"
      ],
      "metadata": {
        "id": "AoGCNc8l_3zF"
      }
    },
    {
      "cell_type": "code",
      "source": [
        "random_1 = tf.random.Generator.from_seed(42)\n",
        "random_1 = random_1.normal(shape=(3,2))\n",
        "random_2 = tf.random.Generator.from_seed(42)\n",
        "random_2 = random_2.normal(shape=(3,2))\n",
        "\n",
        "\n",
        "# are they equal \n",
        "random_1,random_2,random_1 == random_2"
      ],
      "metadata": {
        "id": "yxt1TCzLPiZ4",
        "colab": {
          "base_uri": "https://localhost:8080/"
        },
        "outputId": "17af8ac6-1bb1-422f-8820-a12566226cf4"
      },
      "execution_count": 9,
      "outputs": [
        {
          "output_type": "execute_result",
          "data": {
            "text/plain": [
              "(<tf.Tensor: shape=(3, 2), dtype=float32, numpy=\n",
              " array([[-0.7565803 , -0.06854702],\n",
              "        [ 0.07595026, -1.2573844 ],\n",
              "        [-0.23193763, -1.8107855 ]], dtype=float32)>,\n",
              " <tf.Tensor: shape=(3, 2), dtype=float32, numpy=\n",
              " array([[-0.7565803 , -0.06854702],\n",
              "        [ 0.07595026, -1.2573844 ],\n",
              "        [-0.23193763, -1.8107855 ]], dtype=float32)>,\n",
              " <tf.Tensor: shape=(3, 2), dtype=bool, numpy=\n",
              " array([[ True,  True],\n",
              "        [ True,  True],\n",
              "        [ True,  True]])>)"
            ]
          },
          "metadata": {},
          "execution_count": 9
        }
      ]
    },
    {
      "cell_type": "code",
      "source": [
        "# shuffle the orders of elements in the tensor"
      ],
      "metadata": {
        "id": "kL62DID-Bujm"
      },
      "execution_count": 10,
      "outputs": []
    },
    {
      "cell_type": "code",
      "source": [
        "not_shuffled = tf.constant([[10,7],[3,4],[2,5]])\n",
        "tf.random.shuffle(not_shuffled)"
      ],
      "metadata": {
        "colab": {
          "base_uri": "https://localhost:8080/"
        },
        "id": "xNTrMn8IEgcS",
        "outputId": "dec2c4dc-a9a3-4d25-cae8-be361af176b8"
      },
      "execution_count": 11,
      "outputs": [
        {
          "output_type": "execute_result",
          "data": {
            "text/plain": [
              "<tf.Tensor: shape=(3, 2), dtype=int32, numpy=\n",
              "array([[ 3,  4],\n",
              "       [ 2,  5],\n",
              "       [10,  7]], dtype=int32)>"
            ]
          },
          "metadata": {},
          "execution_count": 11
        }
      ]
    },
    {
      "cell_type": "markdown",
      "source": [
        "** the global seed is set but the operation seed is not set, we get different results for every call to the random op, but the same sequence for every re-run of the program**"
      ],
      "metadata": {
        "id": "eQ_k9c_pH26G"
      }
    },
    {
      "cell_type": "code",
      "source": [
        "tf.random.set_seed(42) # global level random seed\n",
        "tf.random.shuffle(not_shuffled,seed=42) # operation level random seed"
      ],
      "metadata": {
        "colab": {
          "base_uri": "https://localhost:8080/"
        },
        "id": "FQeBnmDPF3-Y",
        "outputId": "fbf442c3-f97b-42f7-8125-8484a176eb8a"
      },
      "execution_count": 12,
      "outputs": [
        {
          "output_type": "execute_result",
          "data": {
            "text/plain": [
              "<tf.Tensor: shape=(3, 2), dtype=int32, numpy=\n",
              "array([[10,  7],\n",
              "       [ 3,  4],\n",
              "       [ 2,  5]], dtype=int32)>"
            ]
          },
          "metadata": {},
          "execution_count": 12
        }
      ]
    },
    {
      "cell_type": "code",
      "source": [
        "# other ways to make tensors\n",
        "# create a tensor for all ones\n",
        "\n",
        "tf.ones([3,3])"
      ],
      "metadata": {
        "colab": {
          "base_uri": "https://localhost:8080/"
        },
        "id": "G_z2NPE7HbFb",
        "outputId": "6f030999-76d3-4180-f6db-090d7b228505"
      },
      "execution_count": 13,
      "outputs": [
        {
          "output_type": "execute_result",
          "data": {
            "text/plain": [
              "<tf.Tensor: shape=(3, 3), dtype=float32, numpy=\n",
              "array([[1., 1., 1.],\n",
              "       [1., 1., 1.],\n",
              "       [1., 1., 1.]], dtype=float32)>"
            ]
          },
          "metadata": {},
          "execution_count": 13
        }
      ]
    },
    {
      "cell_type": "code",
      "source": [
        "# create a tensor for all zeros\n",
        "tf.zeros(shape=(3,3))"
      ],
      "metadata": {
        "colab": {
          "base_uri": "https://localhost:8080/"
        },
        "id": "r2IdexZVJyFz",
        "outputId": "98dc47c3-5e16-4648-80d7-50b433519b4b"
      },
      "execution_count": 14,
      "outputs": [
        {
          "output_type": "execute_result",
          "data": {
            "text/plain": [
              "<tf.Tensor: shape=(3, 3), dtype=float32, numpy=\n",
              "array([[0., 0., 0.],\n",
              "       [0., 0., 0.],\n",
              "       [0., 0., 0.]], dtype=float32)>"
            ]
          },
          "metadata": {},
          "execution_count": 14
        }
      ]
    },
    {
      "cell_type": "code",
      "source": [
        "# the difference between numpy array and tensorflow tensor is that tensors can be run on GPU computing"
      ],
      "metadata": {
        "id": "Bt5fVyjBKFbq"
      },
      "execution_count": 15,
      "outputs": []
    },
    {
      "cell_type": "code",
      "source": [
        "# to convert numpy array into tensor\n",
        "numpy_A = np.arange(1,25,dtype=np.int32)\n",
        "numpy_A"
      ],
      "metadata": {
        "colab": {
          "base_uri": "https://localhost:8080/"
        },
        "id": "uVhi9qCqv6cp",
        "outputId": "73137801-19bd-4e8e-ebf8-85cbd56dc008"
      },
      "execution_count": 16,
      "outputs": [
        {
          "output_type": "execute_result",
          "data": {
            "text/plain": [
              "array([ 1,  2,  3,  4,  5,  6,  7,  8,  9, 10, 11, 12, 13, 14, 15, 16, 17,\n",
              "       18, 19, 20, 21, 22, 23, 24], dtype=int32)"
            ]
          },
          "metadata": {},
          "execution_count": 16
        }
      ]
    },
    {
      "cell_type": "code",
      "source": [
        "A=tf.constant(numpy_A,shape=(2,3,4))\n",
        "B=tf.constant(numpy_A)\n",
        "A,B"
      ],
      "metadata": {
        "colab": {
          "base_uri": "https://localhost:8080/"
        },
        "id": "5mmWwXv2wU_v",
        "outputId": "4a7e6028-97c1-4bf8-9720-4421e7d94ecc"
      },
      "execution_count": 17,
      "outputs": [
        {
          "output_type": "execute_result",
          "data": {
            "text/plain": [
              "(<tf.Tensor: shape=(2, 3, 4), dtype=int32, numpy=\n",
              " array([[[ 1,  2,  3,  4],\n",
              "         [ 5,  6,  7,  8],\n",
              "         [ 9, 10, 11, 12]],\n",
              " \n",
              "        [[13, 14, 15, 16],\n",
              "         [17, 18, 19, 20],\n",
              "         [21, 22, 23, 24]]], dtype=int32)>,\n",
              " <tf.Tensor: shape=(24,), dtype=int32, numpy=\n",
              " array([ 1,  2,  3,  4,  5,  6,  7,  8,  9, 10, 11, 12, 13, 14, 15, 16, 17,\n",
              "        18, 19, 20, 21, 22, 23, 24], dtype=int32)>)"
            ]
          },
          "metadata": {},
          "execution_count": 17
        }
      ]
    },
    {
      "cell_type": "code",
      "source": [
        "# Getting more information from tensor\n"
      ],
      "metadata": {
        "id": "N1oH2L2Vwbx8"
      },
      "execution_count": 18,
      "outputs": []
    },
    {
      "cell_type": "code",
      "source": [
        "rank_4_tensor = tf.zeros(shape=[2,3,4,5])\n",
        "rank_4_tensor"
      ],
      "metadata": {
        "colab": {
          "base_uri": "https://localhost:8080/"
        },
        "id": "BNH9l6mtyzQs",
        "outputId": "fb056d27-9bcb-417b-b1cc-0cd0781d91e8"
      },
      "execution_count": 19,
      "outputs": [
        {
          "output_type": "execute_result",
          "data": {
            "text/plain": [
              "<tf.Tensor: shape=(2, 3, 4, 5), dtype=float32, numpy=\n",
              "array([[[[0., 0., 0., 0., 0.],\n",
              "         [0., 0., 0., 0., 0.],\n",
              "         [0., 0., 0., 0., 0.],\n",
              "         [0., 0., 0., 0., 0.]],\n",
              "\n",
              "        [[0., 0., 0., 0., 0.],\n",
              "         [0., 0., 0., 0., 0.],\n",
              "         [0., 0., 0., 0., 0.],\n",
              "         [0., 0., 0., 0., 0.]],\n",
              "\n",
              "        [[0., 0., 0., 0., 0.],\n",
              "         [0., 0., 0., 0., 0.],\n",
              "         [0., 0., 0., 0., 0.],\n",
              "         [0., 0., 0., 0., 0.]]],\n",
              "\n",
              "\n",
              "       [[[0., 0., 0., 0., 0.],\n",
              "         [0., 0., 0., 0., 0.],\n",
              "         [0., 0., 0., 0., 0.],\n",
              "         [0., 0., 0., 0., 0.]],\n",
              "\n",
              "        [[0., 0., 0., 0., 0.],\n",
              "         [0., 0., 0., 0., 0.],\n",
              "         [0., 0., 0., 0., 0.],\n",
              "         [0., 0., 0., 0., 0.]],\n",
              "\n",
              "        [[0., 0., 0., 0., 0.],\n",
              "         [0., 0., 0., 0., 0.],\n",
              "         [0., 0., 0., 0., 0.],\n",
              "         [0., 0., 0., 0., 0.]]]], dtype=float32)>"
            ]
          },
          "metadata": {},
          "execution_count": 19
        }
      ]
    },
    {
      "cell_type": "code",
      "source": [
        "rank_4_tensor.shape , rank_4_tensor.ndim , tf.size(rank_4_tensor)"
      ],
      "metadata": {
        "colab": {
          "base_uri": "https://localhost:8080/"
        },
        "id": "OR7apYiFz8cN",
        "outputId": "bab295dc-86ad-478b-9d29-53287b10358e"
      },
      "execution_count": 20,
      "outputs": [
        {
          "output_type": "execute_result",
          "data": {
            "text/plain": [
              "(TensorShape([2, 3, 4, 5]), 4, <tf.Tensor: shape=(), dtype=int32, numpy=120>)"
            ]
          },
          "metadata": {},
          "execution_count": 20
        }
      ]
    },
    {
      "cell_type": "code",
      "source": [
        "# indexing tensor\n",
        "# Tensors can be indexed just like python list"
      ],
      "metadata": {
        "id": "Jy04BK2y1Yyx"
      },
      "execution_count": 21,
      "outputs": []
    },
    {
      "cell_type": "code",
      "source": [
        "some_list = [1,2,3,4,5,6,7,8,9,10]"
      ],
      "metadata": {
        "id": "BIUJOhv23ukQ"
      },
      "execution_count": 22,
      "outputs": []
    },
    {
      "cell_type": "code",
      "source": [
        "some_list[::-2]"
      ],
      "metadata": {
        "id": "KSiUd5BC83xm",
        "outputId": "8df4b456-fe2a-4bef-dbc6-85bd9c9392b3",
        "colab": {
          "base_uri": "https://localhost:8080/"
        }
      },
      "execution_count": 23,
      "outputs": [
        {
          "output_type": "execute_result",
          "data": {
            "text/plain": [
              "[10, 8, 6, 4, 2]"
            ]
          },
          "metadata": {},
          "execution_count": 23
        }
      ]
    },
    {
      "cell_type": "code",
      "source": [
        "rank_4_tensor[:1,:1,:1,:]"
      ],
      "metadata": {
        "id": "LP42anOK92uU",
        "outputId": "be170d74-ac38-4b36-c44c-fac424ed5f99",
        "colab": {
          "base_uri": "https://localhost:8080/"
        }
      },
      "execution_count": 24,
      "outputs": [
        {
          "output_type": "execute_result",
          "data": {
            "text/plain": [
              "<tf.Tensor: shape=(1, 1, 1, 5), dtype=float32, numpy=array([[[[0., 0., 0., 0., 0.]]]], dtype=float32)>"
            ]
          },
          "metadata": {},
          "execution_count": 24
        }
      ]
    },
    {
      "cell_type": "code",
      "source": [
        "rank_2_tensor = tf.constant([[10,12],[5,6]])\n",
        "rank_2_tensor"
      ],
      "metadata": {
        "id": "MMVBK4oDBOLW",
        "outputId": "eeb1ddc2-b376-402b-ab17-b3501721fce8",
        "colab": {
          "base_uri": "https://localhost:8080/"
        }
      },
      "execution_count": 25,
      "outputs": [
        {
          "output_type": "execute_result",
          "data": {
            "text/plain": [
              "<tf.Tensor: shape=(2, 2), dtype=int32, numpy=\n",
              "array([[10, 12],\n",
              "       [ 5,  6]], dtype=int32)>"
            ]
          },
          "metadata": {},
          "execution_count": 25
        }
      ]
    },
    {
      "cell_type": "code",
      "source": [
        "# Add in extra dimension to our rank 2 tensor\n",
        "rank_3_tensor = rank_2_tensor[...,tf.newaxis]\n"
      ],
      "metadata": {
        "id": "zrKqfG-RCFUW"
      },
      "execution_count": 26,
      "outputs": []
    },
    {
      "cell_type": "code",
      "source": [
        "rank_3_tensor"
      ],
      "metadata": {
        "id": "kHUzOE1fqBYi",
        "outputId": "231e9784-48be-4cbb-8653-0fcf2658d1e3",
        "colab": {
          "base_uri": "https://localhost:8080/"
        }
      },
      "execution_count": 27,
      "outputs": [
        {
          "output_type": "execute_result",
          "data": {
            "text/plain": [
              "<tf.Tensor: shape=(2, 2, 1), dtype=int32, numpy=\n",
              "array([[[10],\n",
              "        [12]],\n",
              "\n",
              "       [[ 5],\n",
              "        [ 6]]], dtype=int32)>"
            ]
          },
          "metadata": {},
          "execution_count": 27
        }
      ]
    },
    {
      "cell_type": "code",
      "source": [
        "# Alternative of tf.newaxis\n",
        "tf.expand_dims(rank_2_tensor,axis=0)"
      ],
      "metadata": {
        "id": "jOHRZ17eqD0y",
        "outputId": "bb425de0-d88f-4d61-ad80-ded781d2b983",
        "colab": {
          "base_uri": "https://localhost:8080/"
        }
      },
      "execution_count": 28,
      "outputs": [
        {
          "output_type": "execute_result",
          "data": {
            "text/plain": [
              "<tf.Tensor: shape=(1, 2, 2), dtype=int32, numpy=\n",
              "array([[[10, 12],\n",
              "        [ 5,  6]]], dtype=int32)>"
            ]
          },
          "metadata": {},
          "execution_count": 28
        }
      ]
    },
    {
      "cell_type": "code",
      "source": [
        "# You can add values to a tensor also using operator\n",
        "tensor = tf.constant([[1,2],[5,6]])\n",
        "tensor ** 2"
      ],
      "metadata": {
        "id": "EzdfUrkDrLQq",
        "outputId": "fd78a550-107c-408e-faba-84eaa6ce1a9f",
        "colab": {
          "base_uri": "https://localhost:8080/"
        }
      },
      "execution_count": 29,
      "outputs": [
        {
          "output_type": "execute_result",
          "data": {
            "text/plain": [
              "<tf.Tensor: shape=(2, 2), dtype=int32, numpy=\n",
              "array([[ 1,  4],\n",
              "       [25, 36]], dtype=int32)>"
            ]
          },
          "metadata": {},
          "execution_count": 29
        }
      ]
    },
    {
      "cell_type": "code",
      "source": [
        "# Matrix Multiplication  in tensorflow \n",
        "tf.matmul(tensor,tensor)"
      ],
      "metadata": {
        "id": "Y9eFRoVPsG9-",
        "outputId": "4476317d-690f-47de-bd1f-5737916c8032",
        "colab": {
          "base_uri": "https://localhost:8080/"
        }
      },
      "execution_count": 30,
      "outputs": [
        {
          "output_type": "execute_result",
          "data": {
            "text/plain": [
              "<tf.Tensor: shape=(2, 2), dtype=int32, numpy=\n",
              "array([[11, 14],\n",
              "       [35, 46]], dtype=int32)>"
            ]
          },
          "metadata": {},
          "execution_count": 30
        }
      ]
    },
    {
      "cell_type": "code",
      "source": [
        "tensor @ tensor"
      ],
      "metadata": {
        "id": "ji_fzCuRHHel",
        "outputId": "2858fd8d-a71d-44be-a044-f9645419a989",
        "colab": {
          "base_uri": "https://localhost:8080/"
        }
      },
      "execution_count": 31,
      "outputs": [
        {
          "output_type": "execute_result",
          "data": {
            "text/plain": [
              "<tf.Tensor: shape=(2, 2), dtype=int32, numpy=\n",
              "array([[11, 14],\n",
              "       [35, 46]], dtype=int32)>"
            ]
          },
          "metadata": {},
          "execution_count": 31
        }
      ]
    },
    {
      "cell_type": "code",
      "source": [
        "# Aggregating tensors"
      ],
      "metadata": {
        "id": "hNUWNnd3IBg-"
      },
      "execution_count": 32,
      "outputs": []
    },
    {
      "cell_type": "code",
      "source": [
        "# Get the absolute values\n",
        "D = tf.constant([-7,-10])\n",
        "D"
      ],
      "metadata": {
        "id": "C94BBfkqJliG",
        "outputId": "a1fe9784-9874-47ff-821a-c6da1aa7899a",
        "colab": {
          "base_uri": "https://localhost:8080/"
        }
      },
      "execution_count": 33,
      "outputs": [
        {
          "output_type": "execute_result",
          "data": {
            "text/plain": [
              "<tf.Tensor: shape=(2,), dtype=int32, numpy=array([ -7, -10], dtype=int32)>"
            ]
          },
          "metadata": {},
          "execution_count": 33
        }
      ]
    },
    {
      "cell_type": "code",
      "source": [
        "tf.abs(D)"
      ],
      "metadata": {
        "id": "O9lCSb99M_Wu",
        "outputId": "f62daae9-f368-425f-fde6-c7a74b71cdda",
        "colab": {
          "base_uri": "https://localhost:8080/"
        }
      },
      "execution_count": 34,
      "outputs": [
        {
          "output_type": "execute_result",
          "data": {
            "text/plain": [
              "<tf.Tensor: shape=(2,), dtype=int32, numpy=array([ 7, 10], dtype=int32)>"
            ]
          },
          "metadata": {},
          "execution_count": 34
        }
      ]
    },
    {
      "cell_type": "code",
      "source": [
        "# Let's go through the following forms of aggregation:\n",
        "# * get the min\n",
        "# * get the max\n",
        "# * Get the mean of tensor\n",
        "# * Get the sum of tensor"
      ],
      "metadata": {
        "id": "14tENc9gNGjY"
      },
      "execution_count": 35,
      "outputs": []
    },
    {
      "cell_type": "code",
      "source": [
        "E = tf.constant(np.random.randint(0,100,size=50))\n",
        "E"
      ],
      "metadata": {
        "id": "gnmLrMoyOi7i",
        "outputId": "17d2f3c9-144c-47be-dcd2-0e8c0ed12ff3",
        "colab": {
          "base_uri": "https://localhost:8080/"
        }
      },
      "execution_count": 36,
      "outputs": [
        {
          "output_type": "execute_result",
          "data": {
            "text/plain": [
              "<tf.Tensor: shape=(50,), dtype=int64, numpy=\n",
              "array([99, 63,  2, 87, 98, 59, 42, 81, 64, 74, 26,  7, 73, 14, 91, 12, 39,\n",
              "       71, 54,  3, 86, 42, 51, 54, 62, 19,  9, 74, 72, 18,  1,  7, 21, 58,\n",
              "       99, 14, 67,  8, 35, 65, 69, 41, 89, 15, 96, 62, 81, 85, 66, 40])>"
            ]
          },
          "metadata": {},
          "execution_count": 36
        }
      ]
    },
    {
      "cell_type": "code",
      "source": [
        "tf.size(E),E.shape,E.ndim"
      ],
      "metadata": {
        "id": "DhqxzeovPaz6",
        "outputId": "27cf7213-f5b3-4cd7-c8a9-5b8bd0ddd4bb",
        "colab": {
          "base_uri": "https://localhost:8080/"
        }
      },
      "execution_count": 37,
      "outputs": [
        {
          "output_type": "execute_result",
          "data": {
            "text/plain": [
              "(<tf.Tensor: shape=(), dtype=int32, numpy=50>, TensorShape([50]), 1)"
            ]
          },
          "metadata": {},
          "execution_count": 37
        }
      ]
    },
    {
      "cell_type": "code",
      "source": [
        "tf.reduce_min(E)"
      ],
      "metadata": {
        "id": "3Ehk6Rb7Plm2",
        "outputId": "7300bb14-2110-4615-fe03-50460e829f1e",
        "colab": {
          "base_uri": "https://localhost:8080/"
        }
      },
      "execution_count": 38,
      "outputs": [
        {
          "output_type": "execute_result",
          "data": {
            "text/plain": [
              "<tf.Tensor: shape=(), dtype=int64, numpy=1>"
            ]
          },
          "metadata": {},
          "execution_count": 38
        }
      ]
    },
    {
      "cell_type": "code",
      "source": [
        "tf.reduce_max(E)"
      ],
      "metadata": {
        "id": "Dre7UD69P62G",
        "outputId": "ce33df50-b4cc-4cfa-8609-1b84d4e61b7e",
        "colab": {
          "base_uri": "https://localhost:8080/"
        }
      },
      "execution_count": 39,
      "outputs": [
        {
          "output_type": "execute_result",
          "data": {
            "text/plain": [
              "<tf.Tensor: shape=(), dtype=int64, numpy=99>"
            ]
          },
          "metadata": {},
          "execution_count": 39
        }
      ]
    },
    {
      "cell_type": "code",
      "source": [
        "tf.reduce_mean(E)"
      ],
      "metadata": {
        "id": "ksckG7S1P9YU",
        "outputId": "503bf244-113d-4384-b00c-798b8962cfcc",
        "colab": {
          "base_uri": "https://localhost:8080/"
        }
      },
      "execution_count": 40,
      "outputs": [
        {
          "output_type": "execute_result",
          "data": {
            "text/plain": [
              "<tf.Tensor: shape=(), dtype=int64, numpy=51>"
            ]
          },
          "metadata": {},
          "execution_count": 40
        }
      ]
    },
    {
      "cell_type": "code",
      "source": [
        "tf.reduce_sum(E)"
      ],
      "metadata": {
        "id": "huoMQNhaQD3v",
        "outputId": "3dee6e2f-c09e-4564-b697-2d3d212c222e",
        "colab": {
          "base_uri": "https://localhost:8080/"
        }
      },
      "execution_count": 41,
      "outputs": [
        {
          "output_type": "execute_result",
          "data": {
            "text/plain": [
              "<tf.Tensor: shape=(), dtype=int64, numpy=2565>"
            ]
          },
          "metadata": {},
          "execution_count": 41
        }
      ]
    },
    {
      "cell_type": "code",
      "source": [
        "# To find the variance of the tensor we have to first import the new library called tensorflow_probability as tfp"
      ],
      "metadata": {
        "id": "bC-4mzrCQHQd"
      },
      "execution_count": 46,
      "outputs": []
    },
    {
      "cell_type": "code",
      "source": [
        "import tensorflow_probability as tfp\n",
        "tfp.stats.variance(E)"
      ],
      "metadata": {
        "id": "A1PcyU8JQmd7",
        "outputId": "189efc5e-96ce-4ce6-ed7d-8b5f652fcf1c",
        "colab": {
          "base_uri": "https://localhost:8080/"
        }
      },
      "execution_count": 47,
      "outputs": [
        {
          "output_type": "execute_result",
          "data": {
            "text/plain": [
              "<tf.Tensor: shape=(), dtype=int64, numpy=921>"
            ]
          },
          "metadata": {},
          "execution_count": 47
        }
      ]
    },
    {
      "cell_type": "code",
      "source": [],
      "metadata": {
        "id": "yNQlXadCQ7l6"
      },
      "execution_count": null,
      "outputs": []
    },
    {
      "cell_type": "markdown",
      "source": [
        "Find the positional maximum and minimum "
      ],
      "metadata": {
        "id": "N80gb_MrWXE_"
      }
    },
    {
      "cell_type": "code",
      "source": [],
      "metadata": {
        "id": "ZP1Zdmy3WaWa"
      },
      "execution_count": null,
      "outputs": []
    }
  ]
}