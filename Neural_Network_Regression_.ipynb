{
  "nbformat": 4,
  "nbformat_minor": 0,
  "metadata": {
    "colab": {
      "provenance": [],
      "authorship_tag": "ABX9TyMKcKLimUm14iQPpFWd4c40",
      "include_colab_link": true
    },
    "kernelspec": {
      "name": "python3",
      "display_name": "Python 3"
    },
    "language_info": {
      "name": "python"
    }
  },
  "cells": [
    {
      "cell_type": "markdown",
      "metadata": {
        "id": "view-in-github",
        "colab_type": "text"
      },
      "source": [
        "<a href=\"https://colab.research.google.com/github/vatankumar/Tensorflow-understanding/blob/main/Neural_Network_Regression_.ipynb\" target=\"_parent\"><img src=\"https://colab.research.google.com/assets/colab-badge.svg\" alt=\"Open In Colab\"/></a>"
      ]
    },
    {
      "cell_type": "code",
      "execution_count": 1,
      "metadata": {
        "colab": {
          "base_uri": "https://localhost:8080/"
        },
        "id": "1Zm_6Y37_tN6",
        "outputId": "bfdd8f32-0726-4027-ce4a-9ad5bf769168"
      },
      "outputs": [
        {
          "output_type": "stream",
          "name": "stdout",
          "text": [
            "2.14.0\n"
          ]
        }
      ],
      "source": [
        "import tensorflow as tf\n",
        "print(tf.__version__)"
      ]
    },
    {
      "cell_type": "code",
      "source": [
        "\n",
        "# Introduction to Regression with Neural networks in Tensorflow\n",
        "import numpy as np\n",
        "import matplotlib.pyplot as plt"
      ],
      "metadata": {
        "id": "PE2X1tX9_6Mn"
      },
      "execution_count": 2,
      "outputs": []
    },
    {
      "cell_type": "markdown",
      "source": [
        "Create the data to view and fit"
      ],
      "metadata": {
        "id": "l0LDill-Topr"
      }
    },
    {
      "cell_type": "code",
      "source": [
        "# Create features\n",
        "X = np.array([-7.0,-4.0,-1.0,2.0,5.0,8.0,11.0,14.0])\n",
        "\n",
        "\n",
        "# create labels\n",
        "y = np.array([3.0,6.0,9.0,12.0,15.0,18.0,21.0,24.0])\n",
        "\n",
        "# visualize\n",
        "plt.scatter(X,y)"
      ],
      "metadata": {
        "colab": {
          "base_uri": "https://localhost:8080/",
          "height": 452
        },
        "id": "9-SnnEbnJCZ8",
        "outputId": "9fb8db9e-f20e-408f-c580-bb6b53669923"
      },
      "execution_count": 3,
      "outputs": [
        {
          "output_type": "execute_result",
          "data": {
            "text/plain": [
              "<matplotlib.collections.PathCollection at 0x7c160c183790>"
            ]
          },
          "metadata": {},
          "execution_count": 3
        },
        {
          "output_type": "display_data",
          "data": {
            "text/plain": [
              "<Figure size 640x480 with 1 Axes>"
            ],
            "image/png": "[encoded data removed]"
          },
          "metadata": {}
        }
      ]
    },
    {
      "cell_type": "markdown",
      "source": [
        "Input and Output Shapes"
      ],
      "metadata": {
        "id": "c4fj65MyVkMW"
      }
    },
    {
      "cell_type": "code",
      "source": [
        "# Create a demo tensor for our housing price prediction problem\n",
        "house_info = tf.constant([\"bedroom\",\"bathroom\",\"garage\"])\n",
        "house_price = tf.constant([939700])\n",
        "house_info , house_price"
      ],
      "metadata": {
        "colab": {
          "base_uri": "https://localhost:8080/"
        },
        "id": "ZBcjNOwgU739",
        "outputId": "af928bdc-58ae-4c2f-b367-3361d517c397"
      },
      "execution_count": 4,
      "outputs": [
        {
          "output_type": "execute_result",
          "data": {
            "text/plain": [
              "(<tf.Tensor: shape=(3,), dtype=string, numpy=array([b'bedroom', b'bathroom', b'garage'], dtype=object)>,\n",
              " <tf.Tensor: shape=(1,), dtype=int32, numpy=array([939700], dtype=int32)>)"
            ]
          },
          "metadata": {},
          "execution_count": 4
        }
      ]
    },
    {
      "cell_type": "code",
      "source": [
        "input_shape = X.shape\n",
        "output_shape = y.shape\n",
        "input_shape , output_shape"
      ],
      "metadata": {
        "colab": {
          "base_uri": "https://localhost:8080/"
        },
        "id": "wqFZ7JGmW6Yw",
        "outputId": "927cf43e-5a7e-4566-924d-93c7c98e9ec2"
      },
      "execution_count": 5,
      "outputs": [
        {
          "output_type": "execute_result",
          "data": {
            "text/plain": [
              "((8,), (8,))"
            ]
          },
          "metadata": {},
          "execution_count": 5
        }
      ]
    },
    {
      "cell_type": "code",
      "source": [
        "# Convert the numpy array to tensor\n",
        "X = tf.cast(tf.constant(X), dtype=tf.float32)\n",
        "y = tf.cast(tf.constant(y), dtype=tf.float32)\n",
        "X,y"
      ],
      "metadata": {
        "colab": {
          "base_uri": "https://localhost:8080/"
        },
        "id": "sq7CH4J5X6gK",
        "outputId": "bc606071-3a7f-4c15-d60f-172cfe481228"
      },
      "execution_count": 12,
      "outputs": [
        {
          "output_type": "execute_result",
          "data": {
            "text/plain": [
              "(<tf.Tensor: shape=(8,), dtype=float32, numpy=array([-7., -4., -1.,  2.,  5.,  8., 11., 14.], dtype=float32)>,\n",
              " <tf.Tensor: shape=(8,), dtype=float32, numpy=array([ 3.,  6.,  9., 12., 15., 18., 21., 24.], dtype=float32)>)"
            ]
          },
          "metadata": {},
          "execution_count": 12
        }
      ]
    },
    {
      "cell_type": "code",
      "source": [
        "input_shape=X[0].shape\n",
        "output_shape=y[0].shape\n",
        "input_shape,output_shape"
      ],
      "metadata": {
        "colab": {
          "base_uri": "https://localhost:8080/"
        },
        "id": "yNyExxT3xley",
        "outputId": "a45274a8-ec81-4583-8589-0f2eb73821af"
      },
      "execution_count": 8,
      "outputs": [
        {
          "output_type": "execute_result",
          "data": {
            "text/plain": [
              "(TensorShape([]), TensorShape([]))"
            ]
          },
          "metadata": {},
          "execution_count": 8
        }
      ]
    },
    {
      "cell_type": "code",
      "source": [],
      "metadata": {
        "id": "Bd5HMxzkx3yu"
      },
      "execution_count": null,
      "outputs": []
    },
    {
      "cell_type": "code",
      "source": [
        "# Set random seed\n",
        "tf.random.set_seed(42)\n",
        "\n",
        "# 1. Create a model using the Sequential API\n",
        "model = tf.keras.Sequential([\n",
        "    tf.keras.layers.Dense(1)\n",
        "])\n",
        " # 2. Compile the model\n",
        "model.compile(loss=tf.keras.losses.mae,\n",
        "              optimizer=tf.keras.optimizers.SGD(),\n",
        "              metrics = [\"mae\"]\n",
        "               )\n",
        "# 3. fit the model\n",
        "model.fit(tf.expand_dims(X,axis=-1),y,epochs=5)"
      ],
      "metadata": {
        "id": "74Jb0QYYbIZC",
        "colab": {
          "base_uri": "https://localhost:8080/"
        },
        "outputId": "7fc9b3bb-cd92-47c0-bf91-335cb60953b2"
      },
      "execution_count": 13,
      "outputs": [
        {
          "output_type": "stream",
          "name": "stdout",
          "text": [
            "Epoch 1/5\n",
            "1/1 [==============================] - 0s 384ms/step - loss: 11.8943 - mae: 11.8943\n",
            "Epoch 2/5\n",
            "1/1 [==============================] - 0s 12ms/step - loss: 11.7618 - mae: 11.7618\n",
            "Epoch 3/5\n",
            "1/1 [==============================] - 0s 12ms/step - loss: 11.6293 - mae: 11.6293\n",
            "Epoch 4/5\n",
            "1/1 [==============================] - 0s 12ms/step - loss: 11.4968 - mae: 11.4968\n",
            "Epoch 5/5\n",
            "1/1 [==============================] - 0s 17ms/step - loss: 11.3643 - mae: 11.3643\n"
          ]
        },
        {
          "output_type": "execute_result",
          "data": {
            "text/plain": [
              "<keras.src.callbacks.History at 0x7c15f6dc73d0>"
            ]
          },
          "metadata": {},
          "execution_count": 13
        }
      ]
    },
    {
      "cell_type": "code",
      "source": [
        "# Check out X and y\n",
        "X,y"
      ],
      "metadata": {
        "colab": {
          "base_uri": "https://localhost:8080/"
        },
        "id": "2ieVSlKOxXrI",
        "outputId": "be657f72-9f8b-4c3d-a8b9-a4e5fa1bd157"
      },
      "execution_count": 14,
      "outputs": [
        {
          "output_type": "execute_result",
          "data": {
            "text/plain": [
              "(<tf.Tensor: shape=(8,), dtype=float32, numpy=array([-7., -4., -1.,  2.,  5.,  8., 11., 14.], dtype=float32)>,\n",
              " <tf.Tensor: shape=(8,), dtype=float32, numpy=array([ 3.,  6.,  9., 12., 15., 18., 21., 24.], dtype=float32)>)"
            ]
          },
          "metadata": {},
          "execution_count": 14
        }
      ]
    },
    {
      "cell_type": "code",
      "source": [
        "# Try and make a prediction using our model\n",
        "model.predict([17.0])"
      ],
      "metadata": {
        "colab": {
          "base_uri": "https://localhost:8080/"
        },
        "id": "Y8RZoVtNQKNf",
        "outputId": "4471eeb3-f5c3-46bc-92c5-5dd7c18a02b5"
      },
      "execution_count": 15,
      "outputs": [
        {
          "output_type": "stream",
          "name": "stdout",
          "text": [
            "1/1 [==============================] - 0s 107ms/step\n"
          ]
        },
        {
          "output_type": "execute_result",
          "data": {
            "text/plain": [
              "array([[10.823883]], dtype=float32)"
            ]
          },
          "metadata": {},
          "execution_count": 15
        }
      ]
    },
    {
      "cell_type": "code",
      "source": [],
      "metadata": {
        "id": "8y61gMiRQ7ZS"
      },
      "execution_count": null,
      "outputs": []
    },
    {
      "cell_type": "code",
      "source": [
        "# improving your model"
      ],
      "metadata": {
        "id": "7vFJQsHNQc0r"
      },
      "execution_count": null,
      "outputs": []
    },
    {
      "cell_type": "code",
      "source": [],
      "metadata": {
        "id": "orZ7HQJ2Q88F"
      },
      "execution_count": null,
      "outputs": []
    },
    {
      "cell_type": "markdown",
      "source": [
        "# improving your model"
      ],
      "metadata": {
        "id": "eWuIuut5Q1nK"
      }
    },
    {
      "cell_type": "code",
      "source": [
        "# Create the model\n",
        "model = tf.keras.Sequential([\n",
        "    tf.keras.layers.Dense(1)\n",
        "])\n",
        "\n",
        "# 2 Compile the model'\n",
        "model.compile(loss=tf.keras.losses.mae,\n",
        "              optimizer=tf.keras.optimizers.SGD(),\n",
        "              metrics=['mae'])\n",
        "\n",
        "# 3 Fit the model\n",
        "\n",
        "\n",
        "model.fit(tf.expand_dims(X,axis=-1),y,epochs=100)"
      ],
      "metadata": {
        "colab": {
          "base_uri": "https://localhost:8080/"
        },
        "id": "ujBNy_PuQ-IR",
        "outputId": "79494953-eaf5-454d-e841-d769003a5340"
      },
      "execution_count": 18,
      "outputs": [
        {
          "output_type": "stream",
          "name": "stdout",
          "text": [
            "Epoch 1/100\n",
            "1/1 [==============================] - 1s 582ms/step - loss: 20.1460 - mae: 20.1460\n",
            "Epoch 2/100\n",
            "1/1 [==============================] - 0s 11ms/step - loss: 19.8647 - mae: 19.8647\n",
            "Epoch 3/100\n",
            "1/1 [==============================] - 0s 24ms/step - loss: 19.5835 - mae: 19.5835\n",
            "Epoch 4/100\n",
            "1/1 [==============================] - 0s 22ms/step - loss: 19.3022 - mae: 19.3022\n",
            "Epoch 5/100\n",
            "1/1 [==============================] - 0s 19ms/step - loss: 19.0210 - mae: 19.0210\n",
            "Epoch 6/100\n",
            "1/1 [==============================] - 0s 21ms/step - loss: 18.7397 - mae: 18.7397\n",
            "Epoch 7/100\n",
            "1/1 [==============================] - 0s 20ms/step - loss: 18.4585 - mae: 18.4585\n",
            "Epoch 8/100\n",
            "1/1 [==============================] - 0s 18ms/step - loss: 18.1772 - mae: 18.1772\n",
            "Epoch 9/100\n",
            "1/1 [==============================] - 0s 20ms/step - loss: 17.8960 - mae: 17.8960\n",
            "Epoch 10/100\n",
            "1/1 [==============================] - 0s 20ms/step - loss: 17.6147 - mae: 17.6147\n",
            "Epoch 11/100\n",
            "1/1 [==============================] - 0s 17ms/step - loss: 17.3335 - mae: 17.3335\n",
            "Epoch 12/100\n",
            "1/1 [==============================] - 0s 19ms/step - loss: 17.0522 - mae: 17.0522\n",
            "Epoch 13/100\n",
            "1/1 [==============================] - 0s 19ms/step - loss: 16.7710 - mae: 16.7710\n",
            "Epoch 14/100\n",
            "1/1 [==============================] - 0s 20ms/step - loss: 16.4897 - mae: 16.4897\n",
            "Epoch 15/100\n",
            "1/1 [==============================] - 0s 26ms/step - loss: 16.2085 - mae: 16.2085\n",
            "Epoch 16/100\n",
            "1/1 [==============================] - 0s 22ms/step - loss: 15.9272 - mae: 15.9272\n",
            "Epoch 17/100\n",
            "1/1 [==============================] - 0s 21ms/step - loss: 15.6460 - mae: 15.6460\n",
            "Epoch 18/100\n",
            "1/1 [==============================] - 0s 28ms/step - loss: 15.3647 - mae: 15.3647\n",
            "Epoch 19/100\n",
            "1/1 [==============================] - 0s 24ms/step - loss: 15.0835 - mae: 15.0835\n",
            "Epoch 20/100\n",
            "1/1 [==============================] - 0s 32ms/step - loss: 14.8022 - mae: 14.8022\n",
            "Epoch 21/100\n",
            "1/1 [==============================] - 0s 19ms/step - loss: 14.6056 - mae: 14.6056\n",
            "Epoch 22/100\n",
            "1/1 [==============================] - 0s 22ms/step - loss: 14.4731 - mae: 14.4731\n",
            "Epoch 23/100\n",
            "1/1 [==============================] - 0s 23ms/step - loss: 14.3406 - mae: 14.3406\n",
            "Epoch 24/100\n",
            "1/1 [==============================] - 0s 17ms/step - loss: 14.2081 - mae: 14.2081\n",
            "Epoch 25/100\n",
            "1/1 [==============================] - 0s 13ms/step - loss: 14.0756 - mae: 14.0756\n",
            "Epoch 26/100\n",
            "1/1 [==============================] - 0s 11ms/step - loss: 13.9431 - mae: 13.9431\n",
            "Epoch 27/100\n",
            "1/1 [==============================] - 0s 11ms/step - loss: 13.8106 - mae: 13.8106\n",
            "Epoch 28/100\n",
            "1/1 [==============================] - 0s 11ms/step - loss: 13.6781 - mae: 13.6781\n",
            "Epoch 29/100\n",
            "1/1 [==============================] - 0s 10ms/step - loss: 13.5456 - mae: 13.5456\n",
            "Epoch 30/100\n",
            "1/1 [==============================] - 0s 12ms/step - loss: 13.4131 - mae: 13.4131\n",
            "Epoch 31/100\n",
            "1/1 [==============================] - 0s 12ms/step - loss: 13.2806 - mae: 13.2806\n",
            "Epoch 32/100\n",
            "1/1 [==============================] - 0s 12ms/step - loss: 13.1481 - mae: 13.1481\n",
            "Epoch 33/100\n",
            "1/1 [==============================] - 0s 13ms/step - loss: 13.0156 - mae: 13.0156\n",
            "Epoch 34/100\n",
            "1/1 [==============================] - 0s 12ms/step - loss: 12.8831 - mae: 12.8831\n",
            "Epoch 35/100\n",
            "1/1 [==============================] - 0s 12ms/step - loss: 12.7506 - mae: 12.7506\n",
            "Epoch 36/100\n",
            "1/1 [==============================] - 0s 11ms/step - loss: 12.6181 - mae: 12.6181\n",
            "Epoch 37/100\n",
            "1/1 [==============================] - 0s 10ms/step - loss: 12.4856 - mae: 12.4856\n",
            "Epoch 38/100\n",
            "1/1 [==============================] - 0s 11ms/step - loss: 12.3531 - mae: 12.3531\n",
            "Epoch 39/100\n",
            "1/1 [==============================] - 0s 11ms/step - loss: 12.2206 - mae: 12.2206\n",
            "Epoch 40/100\n",
            "1/1 [==============================] - 0s 11ms/step - loss: 12.0881 - mae: 12.0881\n",
            "Epoch 41/100\n",
            "1/1 [==============================] - 0s 15ms/step - loss: 11.9556 - mae: 11.9556\n",
            "Epoch 42/100\n",
            "1/1 [==============================] - 0s 11ms/step - loss: 11.8231 - mae: 11.8231\n",
            "Epoch 43/100\n",
            "1/1 [==============================] - 0s 11ms/step - loss: 11.6906 - mae: 11.6906\n",
            "Epoch 44/100\n",
            "1/1 [==============================] - 0s 11ms/step - loss: 11.5581 - mae: 11.5581\n",
            "Epoch 45/100\n",
            "1/1 [==============================] - 0s 11ms/step - loss: 11.4256 - mae: 11.4256\n",
            "Epoch 46/100\n",
            "1/1 [==============================] - 0s 11ms/step - loss: 11.2931 - mae: 11.2931\n",
            "Epoch 47/100\n",
            "1/1 [==============================] - 0s 10ms/step - loss: 11.1606 - mae: 11.1606\n",
            "Epoch 48/100\n",
            "1/1 [==============================] - 0s 10ms/step - loss: 11.0281 - mae: 11.0281\n",
            "Epoch 49/100\n",
            "1/1 [==============================] - 0s 12ms/step - loss: 10.8956 - mae: 10.8956\n",
            "Epoch 50/100\n",
            "1/1 [==============================] - 0s 14ms/step - loss: 10.7631 - mae: 10.7631\n",
            "Epoch 51/100\n",
            "1/1 [==============================] - 0s 12ms/step - loss: 10.6306 - mae: 10.6306\n",
            "Epoch 52/100\n",
            "1/1 [==============================] - 0s 11ms/step - loss: 10.4981 - mae: 10.4981\n",
            "Epoch 53/100\n",
            "1/1 [==============================] - 0s 10ms/step - loss: 10.3656 - mae: 10.3656\n",
            "Epoch 54/100\n",
            "1/1 [==============================] - 0s 11ms/step - loss: 10.2331 - mae: 10.2331\n",
            "Epoch 55/100\n",
            "1/1 [==============================] - 0s 11ms/step - loss: 10.1006 - mae: 10.1006\n",
            "Epoch 56/100\n",
            "1/1 [==============================] - 0s 10ms/step - loss: 9.9681 - mae: 9.9681\n",
            "Epoch 57/100\n",
            "1/1 [==============================] - 0s 11ms/step - loss: 9.8356 - mae: 9.8356\n",
            "Epoch 58/100\n",
            "1/1 [==============================] - 0s 11ms/step - loss: 9.7031 - mae: 9.7031\n",
            "Epoch 59/100\n",
            "1/1 [==============================] - 0s 11ms/step - loss: 9.5706 - mae: 9.5706\n",
            "Epoch 60/100\n",
            "1/1 [==============================] - 0s 11ms/step - loss: 9.4381 - mae: 9.4381\n",
            "Epoch 61/100\n",
            "1/1 [==============================] - 0s 10ms/step - loss: 9.3056 - mae: 9.3056\n",
            "Epoch 62/100\n",
            "1/1 [==============================] - 0s 11ms/step - loss: 9.1731 - mae: 9.1731\n",
            "Epoch 63/100\n",
            "1/1 [==============================] - 0s 10ms/step - loss: 9.0406 - mae: 9.0406\n",
            "Epoch 64/100\n",
            "1/1 [==============================] - 0s 11ms/step - loss: 8.9081 - mae: 8.9081\n",
            "Epoch 65/100\n",
            "1/1 [==============================] - 0s 10ms/step - loss: 8.7756 - mae: 8.7756\n",
            "Epoch 66/100\n",
            "1/1 [==============================] - 0s 10ms/step - loss: 8.6431 - mae: 8.6431\n",
            "Epoch 67/100\n",
            "1/1 [==============================] - 0s 11ms/step - loss: 8.5106 - mae: 8.5106\n",
            "Epoch 68/100\n",
            "1/1 [==============================] - 0s 10ms/step - loss: 8.3781 - mae: 8.3781\n",
            "Epoch 69/100\n",
            "1/1 [==============================] - 0s 10ms/step - loss: 8.2456 - mae: 8.2456\n",
            "Epoch 70/100\n",
            "1/1 [==============================] - 0s 10ms/step - loss: 8.1131 - mae: 8.1131\n",
            "Epoch 71/100\n",
            "1/1 [==============================] - 0s 11ms/step - loss: 7.9806 - mae: 7.9806\n",
            "Epoch 72/100\n",
            "1/1 [==============================] - 0s 11ms/step - loss: 7.8481 - mae: 7.8481\n",
            "Epoch 73/100\n",
            "1/1 [==============================] - 0s 10ms/step - loss: 7.7156 - mae: 7.7156\n",
            "Epoch 74/100\n",
            "1/1 [==============================] - 0s 13ms/step - loss: 7.5831 - mae: 7.5831\n",
            "Epoch 75/100\n",
            "1/1 [==============================] - 0s 13ms/step - loss: 7.4506 - mae: 7.4506\n",
            "Epoch 76/100\n",
            "1/1 [==============================] - 0s 14ms/step - loss: 7.3181 - mae: 7.3181\n",
            "Epoch 77/100\n",
            "1/1 [==============================] - 0s 12ms/step - loss: 7.1856 - mae: 7.1856\n",
            "Epoch 78/100\n",
            "1/1 [==============================] - 0s 14ms/step - loss: 7.0531 - mae: 7.0531\n",
            "Epoch 79/100\n",
            "1/1 [==============================] - 0s 12ms/step - loss: 6.9525 - mae: 6.9525\n",
            "Epoch 80/100\n",
            "1/1 [==============================] - 0s 13ms/step - loss: 6.9469 - mae: 6.9469\n",
            "Epoch 81/100\n",
            "1/1 [==============================] - 0s 14ms/step - loss: 6.9413 - mae: 6.9413\n",
            "Epoch 82/100\n",
            "1/1 [==============================] - 0s 10ms/step - loss: 6.9356 - mae: 6.9356\n",
            "Epoch 83/100\n",
            "1/1 [==============================] - 0s 10ms/step - loss: 6.9300 - mae: 6.9300\n",
            "Epoch 84/100\n",
            "1/1 [==============================] - 0s 14ms/step - loss: 6.9244 - mae: 6.9244\n",
            "Epoch 85/100\n",
            "1/1 [==============================] - 0s 12ms/step - loss: 6.9187 - mae: 6.9187\n",
            "Epoch 86/100\n",
            "1/1 [==============================] - 0s 12ms/step - loss: 6.9131 - mae: 6.9131\n",
            "Epoch 87/100\n",
            "1/1 [==============================] - 0s 14ms/step - loss: 6.9075 - mae: 6.9075\n",
            "Epoch 88/100\n",
            "1/1 [==============================] - 0s 14ms/step - loss: 6.9019 - mae: 6.9019\n",
            "Epoch 89/100\n",
            "1/1 [==============================] - 0s 16ms/step - loss: 6.8963 - mae: 6.8963\n",
            "Epoch 90/100\n",
            "1/1 [==============================] - 0s 13ms/step - loss: 6.8906 - mae: 6.8906\n",
            "Epoch 91/100\n",
            "1/1 [==============================] - 0s 15ms/step - loss: 6.8850 - mae: 6.8850\n",
            "Epoch 92/100\n",
            "1/1 [==============================] - 0s 14ms/step - loss: 6.8794 - mae: 6.8794\n",
            "Epoch 93/100\n",
            "1/1 [==============================] - 0s 13ms/step - loss: 6.8738 - mae: 6.8738\n",
            "Epoch 94/100\n",
            "1/1 [==============================] - 0s 14ms/step - loss: 6.8681 - mae: 6.8681\n",
            "Epoch 95/100\n",
            "1/1 [==============================] - 0s 12ms/step - loss: 6.8625 - mae: 6.8625\n",
            "Epoch 96/100\n",
            "1/1 [==============================] - 0s 12ms/step - loss: 6.8569 - mae: 6.8569\n",
            "Epoch 97/100\n",
            "1/1 [==============================] - 0s 11ms/step - loss: 6.8513 - mae: 6.8513\n",
            "Epoch 98/100\n",
            "1/1 [==============================] - 0s 11ms/step - loss: 6.8456 - mae: 6.8456\n",
            "Epoch 99/100\n",
            "1/1 [==============================] - 0s 11ms/step - loss: 6.8400 - mae: 6.8400\n",
            "Epoch 100/100\n",
            "1/1 [==============================] - 0s 10ms/step - loss: 6.8344 - mae: 6.8344\n"
          ]
        },
        {
          "output_type": "execute_result",
          "data": {
            "text/plain": [
              "<keras.src.callbacks.History at 0x7c15f6cf1300>"
            ]
          },
          "metadata": {},
          "execution_count": 18
        }
      ]
    },
    {
      "cell_type": "code",
      "source": [
        "# new prediciton\n",
        "model.predict([17.0])"
      ],
      "metadata": {
        "colab": {
          "base_uri": "https://localhost:8080/"
        },
        "id": "veoyFPUQWgxv",
        "outputId": "3b5d56b9-b858-4312-b706-02ecd4c0a399"
      },
      "execution_count": 19,
      "outputs": [
        {
          "output_type": "stream",
          "name": "stdout",
          "text": [
            "1/1 [==============================] - 0s 75ms/step\n"
          ]
        },
        {
          "output_type": "execute_result",
          "data": {
            "text/plain": [
              "array([[29.30615]], dtype=float32)"
            ]
          },
          "metadata": {},
          "execution_count": 19
        }
      ]
    },
    {
      "cell_type": "code",
      "source": [
        "# Let's see if we can make another to improve our model\n",
        "# 1. Create the model (this time with an extra hidden layer with 100 hidden units)\n",
        "model = tf.keras.Sequential([\n",
        "    tf.keras.layers.Dense(100,activation='relu'),\n",
        "    tf.keras.layers.Dense(1)\n",
        "])\n",
        "\n",
        "# 2. Compile the model\n",
        "model.compile(loss='mae',\n",
        "              optimizer=tf.keras.optimizers.SGD(),\n",
        "              metrics=['mae'])\n",
        "\n",
        "# 3. Fit the model\n",
        "model.fit(tf.expand_dims(X,axis=-1),y,epochs=100)"
      ],
      "metadata": {
        "colab": {
          "base_uri": "https://localhost:8080/"
        },
        "id": "ijUbHMu1XRyh",
        "outputId": "5f5e92c1-b279-45b2-812e-5dbb32118fcd"
      },
      "execution_count": 21,
      "outputs": [
        {
          "output_type": "stream",
          "name": "stdout",
          "text": [
            "Epoch 1/100\n",
            "1/1 [==============================] - 1s 1s/step - loss: 13.3415 - mae: 13.3415\n",
            "Epoch 2/100\n",
            "1/1 [==============================] - 0s 28ms/step - loss: 12.8023 - mae: 12.8023\n",
            "Epoch 3/100\n",
            "1/1 [==============================] - 0s 28ms/step - loss: 12.2627 - mae: 12.2627\n",
            "Epoch 4/100\n",
            "1/1 [==============================] - 0s 34ms/step - loss: 11.7140 - mae: 11.7140\n",
            "Epoch 5/100\n",
            "1/1 [==============================] - 0s 16ms/step - loss: 11.1591 - mae: 11.1591\n",
            "Epoch 6/100\n",
            "1/1 [==============================] - 0s 22ms/step - loss: 10.5882 - mae: 10.5882\n",
            "Epoch 7/100\n",
            "1/1 [==============================] - 0s 20ms/step - loss: 9.9983 - mae: 9.9983\n",
            "Epoch 8/100\n",
            "1/1 [==============================] - 0s 26ms/step - loss: 9.3827 - mae: 9.3827\n",
            "Epoch 9/100\n",
            "1/1 [==============================] - 0s 22ms/step - loss: 8.7386 - mae: 8.7386\n",
            "Epoch 10/100\n",
            "1/1 [==============================] - 0s 24ms/step - loss: 8.0518 - mae: 8.0518\n",
            "Epoch 11/100\n",
            "1/1 [==============================] - 0s 23ms/step - loss: 7.3199 - mae: 7.3199\n",
            "Epoch 12/100\n",
            "1/1 [==============================] - 0s 22ms/step - loss: 6.5947 - mae: 6.5947\n",
            "Epoch 13/100\n",
            "1/1 [==============================] - 0s 31ms/step - loss: 5.8178 - mae: 5.8178\n",
            "Epoch 14/100\n",
            "1/1 [==============================] - 0s 20ms/step - loss: 4.9755 - mae: 4.9755\n",
            "Epoch 15/100\n",
            "1/1 [==============================] - 0s 18ms/step - loss: 4.1516 - mae: 4.1516\n",
            "Epoch 16/100\n",
            "1/1 [==============================] - 0s 20ms/step - loss: 4.0570 - mae: 4.0570\n",
            "Epoch 17/100\n",
            "1/1 [==============================] - 0s 19ms/step - loss: 3.9599 - mae: 3.9599\n",
            "Epoch 18/100\n",
            "1/1 [==============================] - 0s 19ms/step - loss: 3.9164 - mae: 3.9164\n",
            "Epoch 19/100\n",
            "1/1 [==============================] - 0s 28ms/step - loss: 3.9433 - mae: 3.9433\n",
            "Epoch 20/100\n",
            "1/1 [==============================] - 0s 24ms/step - loss: 3.9304 - mae: 3.9304\n",
            "Epoch 21/100\n",
            "1/1 [==============================] - 0s 22ms/step - loss: 3.9174 - mae: 3.9174\n",
            "Epoch 22/100\n",
            "1/1 [==============================] - 0s 30ms/step - loss: 3.9363 - mae: 3.9363\n",
            "Epoch 23/100\n",
            "1/1 [==============================] - 0s 15ms/step - loss: 3.8913 - mae: 3.8913\n",
            "Epoch 24/100\n",
            "1/1 [==============================] - 0s 19ms/step - loss: 3.9426 - mae: 3.9426\n",
            "Epoch 25/100\n",
            "1/1 [==============================] - 0s 27ms/step - loss: 3.8746 - mae: 3.8746\n",
            "Epoch 26/100\n",
            "1/1 [==============================] - 0s 16ms/step - loss: 3.9400 - mae: 3.9400\n",
            "Epoch 27/100\n",
            "1/1 [==============================] - 0s 14ms/step - loss: 3.8904 - mae: 3.8904\n",
            "Epoch 28/100\n",
            "1/1 [==============================] - 0s 20ms/step - loss: 3.9214 - mae: 3.9214\n",
            "Epoch 29/100\n",
            "1/1 [==============================] - 0s 21ms/step - loss: 3.8966 - mae: 3.8966\n",
            "Epoch 30/100\n",
            "1/1 [==============================] - 0s 26ms/step - loss: 3.8952 - mae: 3.8952\n",
            "Epoch 31/100\n",
            "1/1 [==============================] - 0s 21ms/step - loss: 3.9030 - mae: 3.9030\n",
            "Epoch 32/100\n",
            "1/1 [==============================] - 0s 17ms/step - loss: 3.8689 - mae: 3.8689\n",
            "Epoch 33/100\n",
            "1/1 [==============================] - 0s 14ms/step - loss: 3.9095 - mae: 3.9095\n",
            "Epoch 34/100\n",
            "1/1 [==============================] - 0s 12ms/step - loss: 3.8429 - mae: 3.8429\n",
            "Epoch 35/100\n",
            "1/1 [==============================] - 0s 13ms/step - loss: 3.9257 - mae: 3.9257\n",
            "Epoch 36/100\n",
            "1/1 [==============================] - 0s 11ms/step - loss: 3.8579 - mae: 3.8579\n",
            "Epoch 37/100\n",
            "1/1 [==============================] - 0s 11ms/step - loss: 3.8980 - mae: 3.8980\n",
            "Epoch 38/100\n",
            "1/1 [==============================] - 0s 10ms/step - loss: 3.8645 - mae: 3.8645\n",
            "Epoch 39/100\n",
            "1/1 [==============================] - 0s 14ms/step - loss: 3.8714 - mae: 3.8714\n",
            "Epoch 40/100\n",
            "1/1 [==============================] - 0s 17ms/step - loss: 3.8712 - mae: 3.8712\n",
            "Epoch 41/100\n",
            "1/1 [==============================] - 0s 12ms/step - loss: 3.8447 - mae: 3.8447\n",
            "Epoch 42/100\n",
            "1/1 [==============================] - 0s 14ms/step - loss: 3.8780 - mae: 3.8780\n",
            "Epoch 43/100\n",
            "1/1 [==============================] - 0s 11ms/step - loss: 3.8269 - mae: 3.8269\n",
            "Epoch 44/100\n",
            "1/1 [==============================] - 0s 13ms/step - loss: 3.8945 - mae: 3.8945\n",
            "Epoch 45/100\n",
            "1/1 [==============================] - 0s 12ms/step - loss: 3.8270 - mae: 3.8270\n",
            "Epoch 46/100\n",
            "1/1 [==============================] - 0s 11ms/step - loss: 3.8731 - mae: 3.8731\n",
            "Epoch 47/100\n",
            "1/1 [==============================] - 0s 12ms/step - loss: 3.8338 - mae: 3.8338\n",
            "Epoch 48/100\n",
            "1/1 [==============================] - 0s 12ms/step - loss: 3.8461 - mae: 3.8461\n",
            "Epoch 49/100\n",
            "1/1 [==============================] - 0s 11ms/step - loss: 3.8407 - mae: 3.8407\n",
            "Epoch 50/100\n",
            "1/1 [==============================] - 0s 11ms/step - loss: 3.8192 - mae: 3.8192\n",
            "Epoch 51/100\n",
            "1/1 [==============================] - 0s 11ms/step - loss: 3.8553 - mae: 3.8553\n",
            "Epoch 52/100\n",
            "1/1 [==============================] - 0s 11ms/step - loss: 3.8010 - mae: 3.8010\n",
            "Epoch 53/100\n",
            "1/1 [==============================] - 0s 11ms/step - loss: 3.8643 - mae: 3.8643\n",
            "Epoch 54/100\n",
            "1/1 [==============================] - 0s 11ms/step - loss: 3.7972 - mae: 3.7972\n",
            "Epoch 55/100\n",
            "1/1 [==============================] - 0s 12ms/step - loss: 3.8468 - mae: 3.8468\n",
            "Epoch 56/100\n",
            "1/1 [==============================] - 0s 12ms/step - loss: 3.8042 - mae: 3.8042\n",
            "Epoch 57/100\n",
            "1/1 [==============================] - 0s 12ms/step - loss: 3.8196 - mae: 3.8196\n",
            "Epoch 58/100\n",
            "1/1 [==============================] - 0s 12ms/step - loss: 3.8114 - mae: 3.8114\n",
            "Epoch 59/100\n",
            "1/1 [==============================] - 0s 13ms/step - loss: 3.7991 - mae: 3.7991\n",
            "Epoch 60/100\n",
            "1/1 [==============================] - 0s 12ms/step - loss: 3.8282 - mae: 3.8282\n",
            "Epoch 61/100\n",
            "1/1 [==============================] - 0s 12ms/step - loss: 3.7738 - mae: 3.7738\n",
            "Epoch 62/100\n",
            "1/1 [==============================] - 0s 14ms/step - loss: 3.8353 - mae: 3.8353\n",
            "Epoch 63/100\n",
            "1/1 [==============================] - 0s 13ms/step - loss: 3.7685 - mae: 3.7685\n",
            "Epoch 64/100\n",
            "1/1 [==============================] - 0s 12ms/step - loss: 3.8193 - mae: 3.8193\n",
            "Epoch 65/100\n",
            "1/1 [==============================] - 0s 12ms/step - loss: 3.7758 - mae: 3.7758\n",
            "Epoch 66/100\n",
            "1/1 [==============================] - 0s 13ms/step - loss: 3.7917 - mae: 3.7917\n",
            "Epoch 67/100\n",
            "1/1 [==============================] - 0s 14ms/step - loss: 3.7883 - mae: 3.7883\n",
            "Epoch 68/100\n",
            "1/1 [==============================] - 0s 13ms/step - loss: 3.7731 - mae: 3.7731\n",
            "Epoch 69/100\n",
            "1/1 [==============================] - 0s 13ms/step - loss: 3.8001 - mae: 3.8001\n",
            "Epoch 70/100\n",
            "1/1 [==============================] - 0s 12ms/step - loss: 3.7453 - mae: 3.7453\n",
            "Epoch 71/100\n",
            "1/1 [==============================] - 0s 13ms/step - loss: 3.8075 - mae: 3.8075\n",
            "Epoch 72/100\n",
            "1/1 [==============================] - 0s 13ms/step - loss: 3.7410 - mae: 3.7410\n",
            "Epoch 73/100\n",
            "1/1 [==============================] - 0s 13ms/step - loss: 3.7904 - mae: 3.7904\n",
            "Epoch 74/100\n",
            "1/1 [==============================] - 0s 16ms/step - loss: 3.7484 - mae: 3.7484\n",
            "Epoch 75/100\n",
            "1/1 [==============================] - 0s 12ms/step - loss: 3.7665 - mae: 3.7665\n",
            "Epoch 76/100\n",
            "1/1 [==============================] - 0s 11ms/step - loss: 3.7656 - mae: 3.7656\n",
            "Epoch 77/100\n",
            "1/1 [==============================] - 0s 18ms/step - loss: 3.7436 - mae: 3.7436\n",
            "Epoch 78/100\n",
            "1/1 [==============================] - 0s 17ms/step - loss: 3.7730 - mae: 3.7730\n",
            "Epoch 79/100\n",
            "1/1 [==============================] - 0s 20ms/step - loss: 3.7155 - mae: 3.7155\n",
            "Epoch 80/100\n",
            "1/1 [==============================] - 0s 11ms/step - loss: 3.7806 - mae: 3.7806\n",
            "Epoch 81/100\n",
            "1/1 [==============================] - 0s 11ms/step - loss: 3.7144 - mae: 3.7144\n",
            "Epoch 82/100\n",
            "1/1 [==============================] - 0s 12ms/step - loss: 3.7603 - mae: 3.7603\n",
            "Epoch 83/100\n",
            "1/1 [==============================] - 0s 12ms/step - loss: 3.7241 - mae: 3.7241\n",
            "Epoch 84/100\n",
            "1/1 [==============================] - 0s 12ms/step - loss: 3.7410 - mae: 3.7410\n",
            "Epoch 85/100\n",
            "1/1 [==============================] - 0s 11ms/step - loss: 3.7393 - mae: 3.7393\n",
            "Epoch 86/100\n",
            "1/1 [==============================] - 0s 12ms/step - loss: 3.7126 - mae: 3.7126\n",
            "Epoch 87/100\n",
            "1/1 [==============================] - 0s 12ms/step - loss: 3.7470 - mae: 3.7470\n",
            "Epoch 88/100\n",
            "1/1 [==============================] - 0s 12ms/step - loss: 3.6842 - mae: 3.6842\n",
            "Epoch 89/100\n",
            "1/1 [==============================] - 0s 11ms/step - loss: 3.7549 - mae: 3.7549\n",
            "Epoch 90/100\n",
            "1/1 [==============================] - 0s 11ms/step - loss: 3.6888 - mae: 3.6888\n",
            "Epoch 91/100\n",
            "1/1 [==============================] - 0s 11ms/step - loss: 3.7294 - mae: 3.7294\n",
            "Epoch 92/100\n",
            "1/1 [==============================] - 0s 11ms/step - loss: 3.7062 - mae: 3.7062\n",
            "Epoch 93/100\n",
            "1/1 [==============================] - 0s 12ms/step - loss: 3.7090 - mae: 3.7090\n",
            "Epoch 94/100\n",
            "1/1 [==============================] - 0s 12ms/step - loss: 3.7141 - mae: 3.7141\n",
            "Epoch 95/100\n",
            "1/1 [==============================] - 0s 11ms/step - loss: 3.6804 - mae: 3.6804\n",
            "Epoch 96/100\n",
            "1/1 [==============================] - 0s 11ms/step - loss: 3.7220 - mae: 3.7220\n",
            "Epoch 97/100\n",
            "1/1 [==============================] - 0s 11ms/step - loss: 3.6565 - mae: 3.6565\n",
            "Epoch 98/100\n",
            "1/1 [==============================] - 0s 11ms/step - loss: 3.7243 - mae: 3.7243\n",
            "Epoch 99/100\n",
            "1/1 [==============================] - 0s 11ms/step - loss: 3.6644 - mae: 3.6644\n",
            "Epoch 100/100\n",
            "1/1 [==============================] - 0s 13ms/step - loss: 3.7037 - mae: 3.7037\n"
          ]
        },
        {
          "output_type": "execute_result",
          "data": {
            "text/plain": [
              "<keras.src.callbacks.History at 0x7c15f5d322f0>"
            ]
          },
          "metadata": {},
          "execution_count": 21
        }
      ]
    },
    {
      "cell_type": "code",
      "source": [
        "# Lets remind ourselves of the data\n",
        "X,y\n"
      ],
      "metadata": {
        "colab": {
          "base_uri": "https://localhost:8080/"
        },
        "id": "z6khC05Kd4gF",
        "outputId": "4ace5610-e7aa-4bf4-adf0-2f63daf94697"
      },
      "execution_count": 22,
      "outputs": [
        {
          "output_type": "execute_result",
          "data": {
            "text/plain": [
              "(<tf.Tensor: shape=(8,), dtype=float32, numpy=array([-7., -4., -1.,  2.,  5.,  8., 11., 14.], dtype=float32)>,\n",
              " <tf.Tensor: shape=(8,), dtype=float32, numpy=array([ 3.,  6.,  9., 12., 15., 18., 21., 24.], dtype=float32)>)"
            ]
          },
          "metadata": {},
          "execution_count": 22
        }
      ]
    },
    {
      "cell_type": "code",
      "source": [
        "# Lets try to make a prediction ones again\n",
        "model.predict([17.0])"
      ],
      "metadata": {
        "colab": {
          "base_uri": "https://localhost:8080/"
        },
        "id": "pkUJacbDggox",
        "outputId": "5b63fa46-affc-4e92-ad16-bb2cc975da5a"
      },
      "execution_count": 23,
      "outputs": [
        {
          "output_type": "stream",
          "name": "stdout",
          "text": [
            "1/1 [==============================] - 0s 73ms/step\n"
          ]
        },
        {
          "output_type": "execute_result",
          "data": {
            "text/plain": [
              "array([[32.39457]], dtype=float32)"
            ]
          },
          "metadata": {},
          "execution_count": 23
        }
      ]
    },
    {
      "cell_type": "code",
      "source": [
        "# more improved\n",
        "# Let's see if we can make another to improve our model\n",
        "# 1. Create the model (this time with an extra hidden layer with 100 hidden units)\n",
        "model = tf.keras.Sequential([\n",
        "    tf.keras.layers.Dense(50,activation=None),\n",
        "    tf.keras.layers.Dense(1)\n",
        "])\n",
        "\n",
        "# 2. Compile the model\n",
        "model.compile(loss='mae',\n",
        "              optimizer=tf.keras.optimizers.Adam(learning_rate=0.01),\n",
        "              metrics=['mae'])\n",
        "\n",
        "# 3. Fit the model\n",
        "model.fit(tf.expand_dims(X,axis=-1),y,epochs=100)"
      ],
      "metadata": {
        "colab": {
          "base_uri": "https://localhost:8080/"
        },
        "id": "v6jRQRYIgpka",
        "outputId": "566784d6-fd90-4e2e-eb1a-1d88a8795a5c"
      },
      "execution_count": 27,
      "outputs": [
        {
          "output_type": "stream",
          "name": "stdout",
          "text": [
            "Epoch 1/100\n",
            "1/1 [==============================] - 1s 1s/step - loss: 11.2011 - mae: 11.2011\n",
            "Epoch 2/100\n",
            "1/1 [==============================] - 0s 13ms/step - loss: 10.5104 - mae: 10.5104\n",
            "Epoch 3/100\n",
            "1/1 [==============================] - 0s 20ms/step - loss: 9.7994 - mae: 9.7994\n",
            "Epoch 4/100\n",
            "1/1 [==============================] - 0s 19ms/step - loss: 9.0668 - mae: 9.0668\n",
            "Epoch 5/100\n",
            "1/1 [==============================] - 0s 19ms/step - loss: 8.3117 - mae: 8.3117\n",
            "Epoch 6/100\n",
            "1/1 [==============================] - 0s 20ms/step - loss: 7.5327 - mae: 7.5327\n",
            "Epoch 7/100\n",
            "1/1 [==============================] - 0s 20ms/step - loss: 7.0208 - mae: 7.0208\n",
            "Epoch 8/100\n",
            "1/1 [==============================] - 0s 21ms/step - loss: 7.1732 - mae: 7.1732\n",
            "Epoch 9/100\n",
            "1/1 [==============================] - 0s 18ms/step - loss: 7.4283 - mae: 7.4283\n",
            "Epoch 10/100\n",
            "1/1 [==============================] - 0s 20ms/step - loss: 7.5468 - mae: 7.5468\n",
            "Epoch 11/100\n",
            "1/1 [==============================] - 0s 21ms/step - loss: 7.5856 - mae: 7.5856\n",
            "Epoch 12/100\n",
            "1/1 [==============================] - 0s 32ms/step - loss: 7.4266 - mae: 7.4266\n",
            "Epoch 13/100\n",
            "1/1 [==============================] - 0s 32ms/step - loss: 7.2419 - mae: 7.2419\n",
            "Epoch 14/100\n",
            "1/1 [==============================] - 0s 26ms/step - loss: 7.0134 - mae: 7.0134\n",
            "Epoch 15/100\n",
            "1/1 [==============================] - 0s 33ms/step - loss: 6.7508 - mae: 6.7508\n",
            "Epoch 16/100\n",
            "1/1 [==============================] - 0s 33ms/step - loss: 6.4622 - mae: 6.4622\n",
            "Epoch 17/100\n",
            "1/1 [==============================] - 0s 28ms/step - loss: 6.3284 - mae: 6.3284\n",
            "Epoch 18/100\n",
            "1/1 [==============================] - 0s 30ms/step - loss: 6.2761 - mae: 6.2761\n",
            "Epoch 19/100\n",
            "1/1 [==============================] - 0s 27ms/step - loss: 6.4043 - mae: 6.4043\n",
            "Epoch 20/100\n",
            "1/1 [==============================] - 0s 28ms/step - loss: 6.4532 - mae: 6.4532\n",
            "Epoch 21/100\n",
            "1/1 [==============================] - 0s 29ms/step - loss: 6.3823 - mae: 6.3823\n",
            "Epoch 22/100\n",
            "1/1 [==============================] - 0s 36ms/step - loss: 6.2086 - mae: 6.2086\n",
            "Epoch 23/100\n",
            "1/1 [==============================] - 0s 32ms/step - loss: 5.9437 - mae: 5.9437\n",
            "Epoch 24/100\n",
            "1/1 [==============================] - 0s 31ms/step - loss: 5.7803 - mae: 5.7803\n",
            "Epoch 25/100\n",
            "1/1 [==============================] - 0s 31ms/step - loss: 5.6694 - mae: 5.6694\n",
            "Epoch 26/100\n",
            "1/1 [==============================] - 0s 44ms/step - loss: 5.6598 - mae: 5.6598\n",
            "Epoch 27/100\n",
            "1/1 [==============================] - 0s 21ms/step - loss: 5.6708 - mae: 5.6708\n",
            "Epoch 28/100\n",
            "1/1 [==============================] - 0s 27ms/step - loss: 5.6282 - mae: 5.6282\n",
            "Epoch 29/100\n",
            "1/1 [==============================] - 0s 26ms/step - loss: 5.5370 - mae: 5.5370\n",
            "Epoch 30/100\n",
            "1/1 [==============================] - 0s 28ms/step - loss: 5.4020 - mae: 5.4020\n",
            "Epoch 31/100\n",
            "1/1 [==============================] - 0s 36ms/step - loss: 5.2277 - mae: 5.2277\n",
            "Epoch 32/100\n",
            "1/1 [==============================] - 0s 36ms/step - loss: 5.0187 - mae: 5.0187\n",
            "Epoch 33/100\n",
            "1/1 [==============================] - 0s 13ms/step - loss: 4.9037 - mae: 4.9037\n",
            "Epoch 34/100\n",
            "1/1 [==============================] - 0s 33ms/step - loss: 4.8159 - mae: 4.8159\n",
            "Epoch 35/100\n",
            "1/1 [==============================] - 0s 27ms/step - loss: 4.7667 - mae: 4.7667\n",
            "Epoch 36/100\n",
            "1/1 [==============================] - 0s 23ms/step - loss: 4.6847 - mae: 4.6847\n",
            "Epoch 37/100\n",
            "1/1 [==============================] - 0s 39ms/step - loss: 4.4784 - mae: 4.4784\n",
            "Epoch 38/100\n",
            "1/1 [==============================] - 0s 21ms/step - loss: 4.3226 - mae: 4.3226\n",
            "Epoch 39/100\n",
            "1/1 [==============================] - 0s 13ms/step - loss: 4.1664 - mae: 4.1664\n",
            "Epoch 40/100\n",
            "1/1 [==============================] - 0s 13ms/step - loss: 4.1152 - mae: 4.1152\n",
            "Epoch 41/100\n",
            "1/1 [==============================] - 0s 16ms/step - loss: 4.0404 - mae: 4.0404\n",
            "Epoch 42/100\n",
            "1/1 [==============================] - 0s 15ms/step - loss: 3.9108 - mae: 3.9108\n",
            "Epoch 43/100\n",
            "1/1 [==============================] - 0s 18ms/step - loss: 3.7300 - mae: 3.7300\n",
            "Epoch 44/100\n",
            "1/1 [==============================] - 0s 15ms/step - loss: 3.5014 - mae: 3.5014\n",
            "Epoch 45/100\n",
            "1/1 [==============================] - 0s 12ms/step - loss: 3.2615 - mae: 3.2615\n",
            "Epoch 46/100\n",
            "1/1 [==============================] - 0s 12ms/step - loss: 3.1087 - mae: 3.1087\n",
            "Epoch 47/100\n",
            "1/1 [==============================] - 0s 13ms/step - loss: 2.9708 - mae: 2.9708\n",
            "Epoch 48/100\n",
            "1/1 [==============================] - 0s 12ms/step - loss: 2.7686 - mae: 2.7686\n",
            "Epoch 49/100\n",
            "1/1 [==============================] - 0s 11ms/step - loss: 2.5415 - mae: 2.5415\n",
            "Epoch 50/100\n",
            "1/1 [==============================] - 0s 11ms/step - loss: 2.3656 - mae: 2.3656\n",
            "Epoch 51/100\n",
            "1/1 [==============================] - 0s 13ms/step - loss: 2.2039 - mae: 2.2039\n",
            "Epoch 52/100\n",
            "1/1 [==============================] - 0s 11ms/step - loss: 1.9774 - mae: 1.9774\n",
            "Epoch 53/100\n",
            "1/1 [==============================] - 0s 12ms/step - loss: 1.6898 - mae: 1.6898\n",
            "Epoch 54/100\n",
            "1/1 [==============================] - 0s 14ms/step - loss: 1.4783 - mae: 1.4783\n",
            "Epoch 55/100\n",
            "1/1 [==============================] - 0s 13ms/step - loss: 1.2653 - mae: 1.2653\n",
            "Epoch 56/100\n",
            "1/1 [==============================] - 0s 11ms/step - loss: 0.9539 - mae: 0.9539\n",
            "Epoch 57/100\n",
            "1/1 [==============================] - 0s 13ms/step - loss: 0.8081 - mae: 0.8081\n",
            "Epoch 58/100\n",
            "1/1 [==============================] - 0s 13ms/step - loss: 0.5341 - mae: 0.5341\n",
            "Epoch 59/100\n",
            "1/1 [==============================] - 0s 12ms/step - loss: 0.2226 - mae: 0.2226\n",
            "Epoch 60/100\n",
            "1/1 [==============================] - 0s 11ms/step - loss: 0.2202 - mae: 0.2202\n",
            "Epoch 61/100\n",
            "1/1 [==============================] - 0s 12ms/step - loss: 0.4592 - mae: 0.4592\n",
            "Epoch 62/100\n",
            "1/1 [==============================] - 0s 11ms/step - loss: 0.6468 - mae: 0.6468\n",
            "Epoch 63/100\n",
            "1/1 [==============================] - 0s 12ms/step - loss: 0.6359 - mae: 0.6359\n",
            "Epoch 64/100\n",
            "1/1 [==============================] - 0s 12ms/step - loss: 0.7709 - mae: 0.7709\n",
            "Epoch 65/100\n",
            "1/1 [==============================] - 0s 13ms/step - loss: 0.7687 - mae: 0.7687\n",
            "Epoch 66/100\n",
            "1/1 [==============================] - 0s 20ms/step - loss: 0.7129 - mae: 0.7129\n",
            "Epoch 67/100\n",
            "1/1 [==============================] - 0s 16ms/step - loss: 0.7360 - mae: 0.7360\n",
            "Epoch 68/100\n",
            "1/1 [==============================] - 0s 11ms/step - loss: 0.5838 - mae: 0.5838\n",
            "Epoch 69/100\n",
            "1/1 [==============================] - 0s 11ms/step - loss: 0.4993 - mae: 0.4993\n",
            "Epoch 70/100\n",
            "1/1 [==============================] - 0s 11ms/step - loss: 0.3730 - mae: 0.3730\n",
            "Epoch 71/100\n",
            "1/1 [==============================] - 0s 11ms/step - loss: 0.2054 - mae: 0.2054\n",
            "Epoch 72/100\n",
            "1/1 [==============================] - 0s 11ms/step - loss: 0.1107 - mae: 0.1107\n",
            "Epoch 73/100\n",
            "1/1 [==============================] - 0s 11ms/step - loss: 0.2150 - mae: 0.2150\n",
            "Epoch 74/100\n",
            "1/1 [==============================] - 0s 11ms/step - loss: 0.2474 - mae: 0.2474\n",
            "Epoch 75/100\n",
            "1/1 [==============================] - 0s 10ms/step - loss: 0.4002 - mae: 0.4002\n",
            "Epoch 76/100\n",
            "1/1 [==============================] - 0s 11ms/step - loss: 0.4131 - mae: 0.4131\n",
            "Epoch 77/100\n",
            "1/1 [==============================] - 0s 12ms/step - loss: 0.3893 - mae: 0.3893\n",
            "Epoch 78/100\n",
            "1/1 [==============================] - 0s 12ms/step - loss: 0.3710 - mae: 0.3710\n",
            "Epoch 79/100\n",
            "1/1 [==============================] - 0s 11ms/step - loss: 0.3412 - mae: 0.3412\n",
            "Epoch 80/100\n",
            "1/1 [==============================] - 0s 11ms/step - loss: 0.2679 - mae: 0.2679\n",
            "Epoch 81/100\n",
            "1/1 [==============================] - 0s 11ms/step - loss: 0.2190 - mae: 0.2190\n",
            "Epoch 82/100\n",
            "1/1 [==============================] - 0s 14ms/step - loss: 0.0746 - mae: 0.0746\n",
            "Epoch 83/100\n",
            "1/1 [==============================] - 0s 11ms/step - loss: 0.3370 - mae: 0.3370\n",
            "Epoch 84/100\n",
            "1/1 [==============================] - 0s 11ms/step - loss: 0.3866 - mae: 0.3866\n",
            "Epoch 85/100\n",
            "1/1 [==============================] - 0s 11ms/step - loss: 0.2270 - mae: 0.2270\n",
            "Epoch 86/100\n",
            "1/1 [==============================] - 0s 11ms/step - loss: 0.4447 - mae: 0.4447\n",
            "Epoch 87/100\n",
            "1/1 [==============================] - 0s 11ms/step - loss: 0.5080 - mae: 0.5080\n",
            "Epoch 88/100\n",
            "1/1 [==============================] - 0s 13ms/step - loss: 0.3974 - mae: 0.3974\n",
            "Epoch 89/100\n",
            "1/1 [==============================] - 0s 11ms/step - loss: 0.1349 - mae: 0.1349\n",
            "Epoch 90/100\n",
            "1/1 [==============================] - 0s 13ms/step - loss: 0.4720 - mae: 0.4720\n",
            "Epoch 91/100\n",
            "1/1 [==============================] - 0s 14ms/step - loss: 0.5710 - mae: 0.5710\n",
            "Epoch 92/100\n",
            "1/1 [==============================] - 0s 11ms/step - loss: 0.3965 - mae: 0.3965\n",
            "Epoch 93/100\n",
            "1/1 [==============================] - 0s 11ms/step - loss: 0.1862 - mae: 0.1862\n",
            "Epoch 94/100\n",
            "1/1 [==============================] - 0s 11ms/step - loss: 0.4099 - mae: 0.4099\n",
            "Epoch 95/100\n",
            "1/1 [==============================] - 0s 11ms/step - loss: 0.4078 - mae: 0.4078\n",
            "Epoch 96/100\n",
            "1/1 [==============================] - 0s 11ms/step - loss: 0.2094 - mae: 0.2094\n",
            "Epoch 97/100\n",
            "1/1 [==============================] - 0s 11ms/step - loss: 0.3399 - mae: 0.3399\n",
            "Epoch 98/100\n",
            "1/1 [==============================] - 0s 11ms/step - loss: 0.3845 - mae: 0.3845\n",
            "Epoch 99/100\n",
            "1/1 [==============================] - 0s 11ms/step - loss: 0.2325 - mae: 0.2325\n",
            "Epoch 100/100\n",
            "1/1 [==============================] - 0s 11ms/step - loss: 0.1819 - mae: 0.1819\n"
          ]
        },
        {
          "output_type": "execute_result",
          "data": {
            "text/plain": [
              "<keras.src.callbacks.History at 0x7c15f6625b40>"
            ]
          },
          "metadata": {},
          "execution_count": 27
        }
      ]
    },
    {
      "cell_type": "code",
      "source": [
        "# Lets try to make a prediction ones again\n",
        "model.predict([17.0])"
      ],
      "metadata": {
        "colab": {
          "base_uri": "https://localhost:8080/"
        },
        "id": "ql4B3smtiMMX",
        "outputId": "2a9ab6eb-6792-4422-e986-4d3b0766acd7"
      },
      "execution_count": 28,
      "outputs": [
        {
          "output_type": "stream",
          "name": "stdout",
          "text": [
            "1/1 [==============================] - 0s 190ms/step\n"
          ]
        },
        {
          "output_type": "execute_result",
          "data": {
            "text/plain": [
              "array([[27.691439]], dtype=float32)"
            ]
          },
          "metadata": {},
          "execution_count": 28
        }
      ]
    },
    {
      "cell_type": "markdown",
      "source": [
        " # Evaluting the model"
      ],
      "metadata": {
        "id": "4x1ejfoJkkI-"
      }
    },
    {
      "cell_type": "code",
      "source": [
        "# written in the notebook'"
      ],
      "metadata": {
        "id": "diRJXEU_ikdb"
      },
      "execution_count": 29,
      "outputs": []
    },
    {
      "cell_type": "code",
      "source": [
        "# make a bigger dataset\n",
        "X = tf.range(-100,100,4)\n",
        "X"
      ],
      "metadata": {
        "id": "ivElZo8imobc",
        "outputId": "072ba1e7-b60a-42e1-bd37-b16664e1fb52",
        "colab": {
          "base_uri": "https://localhost:8080/"
        }
      },
      "execution_count": 30,
      "outputs": [
        {
          "output_type": "execute_result",
          "data": {
            "text/plain": [
              "<tf.Tensor: shape=(50,), dtype=int32, numpy=\n",
              "array([-100,  -96,  -92,  -88,  -84,  -80,  -76,  -72,  -68,  -64,  -60,\n",
              "        -56,  -52,  -48,  -44,  -40,  -36,  -32,  -28,  -24,  -20,  -16,\n",
              "        -12,   -8,   -4,    0,    4,    8,   12,   16,   20,   24,   28,\n",
              "         32,   36,   40,   44,   48,   52,   56,   60,   64,   68,   72,\n",
              "         76,   80,   84,   88,   92,   96], dtype=int32)>"
            ]
          },
          "metadata": {},
          "execution_count": 30
        }
      ]
    },
    {
      "cell_type": "code",
      "source": [
        "y = X+10\n",
        "y"
      ],
      "metadata": {
        "id": "UAJ6ZRqknoNV",
        "outputId": "59e1181b-f8fa-41b2-ab5e-76b4c88b6dde",
        "colab": {
          "base_uri": "https://localhost:8080/"
        }
      },
      "execution_count": 32,
      "outputs": [
        {
          "output_type": "execute_result",
          "data": {
            "text/plain": [
              "<tf.Tensor: shape=(50,), dtype=int32, numpy=\n",
              "array([-90, -86, -82, -78, -74, -70, -66, -62, -58, -54, -50, -46, -42,\n",
              "       -38, -34, -30, -26, -22, -18, -14, -10,  -6,  -2,   2,   6,  10,\n",
              "        14,  18,  22,  26,  30,  34,  38,  42,  46,  50,  54,  58,  62,\n",
              "        66,  70,  74,  78,  82,  86,  90,  94,  98, 102, 106], dtype=int32)>"
            ]
          },
          "metadata": {},
          "execution_count": 32
        }
      ]
    },
    {
      "cell_type": "code",
      "source": [
        "import matplotlib.pyplot as plt\n",
        "plt.scatter(X,y)"
      ],
      "metadata": {
        "id": "jLgjBXqBm6he",
        "outputId": "ca7e369d-00ba-4f79-905c-a94a0b11af9d",
        "colab": {
          "base_uri": "https://localhost:8080/",
          "height": 447
        }
      },
      "execution_count": 33,
      "outputs": [
        {
          "output_type": "execute_result",
          "data": {
            "text/plain": [
              "<matplotlib.collections.PathCollection at 0x7c15ef7729b0>"
            ]
          },
          "metadata": {},
          "execution_count": 33
        },
        {
          "output_type": "display_data",
          "data": {
            "text/plain": [
              "<Figure size 640x480 with 1 Axes>"
            ],
            "image/png": "[encoded data removed]"
          },
          "metadata": {}
        }
      ]
    },
    {
      "cell_type": "code",
      "source": [
        "# Split the data into train and test sets\n",
        "X_train = X[:40]\n",
        "y_train = y[:40]\n",
        "\n",
        "X_test = X[40:]\n",
        "y_test = y[40:]\n",
        "len(X_train) , len(X_test) , len(y_train) , len(y_test)"
      ],
      "metadata": {
        "id": "18X_F5zDneQR",
        "outputId": "34680fb1-a66f-4d1e-cec9-d0d0e23a0a30",
        "colab": {
          "base_uri": "https://localhost:8080/"
        }
      },
      "execution_count": 34,
      "outputs": [
        {
          "output_type": "execute_result",
          "data": {
            "text/plain": [
              "(40, 10, 40, 10)"
            ]
          },
          "metadata": {},
          "execution_count": 34
        }
      ]
    },
    {
      "cell_type": "code",
      "source": [],
      "metadata": {
        "id": "V0BlizFSu1Cs"
      },
      "execution_count": null,
      "outputs": []
    }
  ]
}