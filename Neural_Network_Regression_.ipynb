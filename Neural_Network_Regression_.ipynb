{
  "nbformat": 4,
  "nbformat_minor": 0,
  "metadata": {
    "colab": {
      "provenance": [],
      "authorship_tag": "ABX9TyOXJEs9dHFiad7WAJfvIXdm",
      "include_colab_link": true
    },
    "kernelspec": {
      "name": "python3",
      "display_name": "Python 3"
    },
    "language_info": {
      "name": "python"
    }
  },
  "cells": [
    {
      "cell_type": "markdown",
      "metadata": {
        "id": "view-in-github",
        "colab_type": "text"
      },
      "source": [
        "<a href=\"https://colab.research.google.com/github/vatankumar/Tensorflow-understanding/blob/main/Neural_Network_Regression_.ipynb\" target=\"_parent\"><img src=\"https://colab.research.google.com/assets/colab-badge.svg\" alt=\"Open In Colab\"/></a>"
      ]
    },
    {
      "cell_type": "code",
      "execution_count": 1,
      "metadata": {
        "colab": {
          "base_uri": "https://localhost:8080/"
        },
        "id": "1Zm_6Y37_tN6",
        "outputId": "b632460f-1a62-48de-a5fd-17cb319dbd40"
      },
      "outputs": [
        {
          "output_type": "stream",
          "name": "stdout",
          "text": [
            "2.15.0\n"
          ]
        }
      ],
      "source": [
        "import tensorflow as tf\n",
        "print(tf.__version__)"
      ]
    },
    {
      "cell_type": "code",
      "source": [
        "\n",
        "# Introduction to Regression with Neural networks in Tensorflow\n",
        "import numpy as np\n",
        "import matplotlib.pyplot as plt"
      ],
      "metadata": {
        "id": "PE2X1tX9_6Mn"
      },
      "execution_count": 2,
      "outputs": []
    },
    {
      "cell_type": "markdown",
      "source": [
        "Create the data to view and fit"
      ],
      "metadata": {
        "id": "l0LDill-Topr"
      }
    },
    {
      "cell_type": "code",
      "source": [
        "# Create features\n",
        "X = np.array([-7.0,-4.0,-1.0,2.0,5.0,8.0,11.0,14.0])\n",
        "\n",
        "\n",
        "# create labels\n",
        "y = np.array([3.0,6.0,9.0,12.0,15.0,18.0,21.0,24.0])\n",
        "\n",
        "# visualize\n",
        "plt.scatter(X,y)"
      ],
      "metadata": {
        "colab": {
          "base_uri": "https://localhost:8080/",
          "height": 452
        },
        "id": "9-SnnEbnJCZ8",
        "outputId": "fca95899-77dc-4f5e-b54a-ab8ac825d23f"
      },
      "execution_count": 3,
      "outputs": [
        {
          "output_type": "execute_result",
          "data": {
            "text/plain": [
              "<matplotlib.collections.PathCollection at 0x79d174b4da20>"
            ]
          },
          "metadata": {},
          "execution_count": 3
        },
        {
          "output_type": "display_data",
          "data": {
            "text/plain": [
              "<Figure size 640x480 with 1 Axes>"
            ],
            "image/png": "[encoded data removed]"
          },
          "metadata": {}
        }
      ]
    },
    {
      "cell_type": "markdown",
      "source": [
        "Input and Output Shapes"
      ],
      "metadata": {
        "id": "c4fj65MyVkMW"
      }
    },
    {
      "cell_type": "code",
      "source": [
        "# Create a demo tensor for our housing price prediction problem\n",
        "house_info = tf.constant([\"bedroom\",\"bathroom\",\"garage\"])\n",
        "house_price = tf.constant([939700])\n",
        "house_info , house_price"
      ],
      "metadata": {
        "colab": {
          "base_uri": "https://localhost:8080/"
        },
        "id": "ZBcjNOwgU739",
        "outputId": "d8c6b31e-da88-4f52-ce6e-755dca6a6d0a"
      },
      "execution_count": 4,
      "outputs": [
        {
          "output_type": "execute_result",
          "data": {
            "text/plain": [
              "(<tf.Tensor: shape=(3,), dtype=string, numpy=array([b'bedroom', b'bathroom', b'garage'], dtype=object)>,\n",
              " <tf.Tensor: shape=(1,), dtype=int32, numpy=array([939700], dtype=int32)>)"
            ]
          },
          "metadata": {},
          "execution_count": 4
        }
      ]
    },
    {
      "cell_type": "code",
      "source": [
        "input_shape = X.shape\n",
        "output_shape = y.shape\n",
        "input_shape , output_shape"
      ],
      "metadata": {
        "colab": {
          "base_uri": "https://localhost:8080/"
        },
        "id": "wqFZ7JGmW6Yw",
        "outputId": "a0364936-eb5b-47ec-cc7b-380fbedf9c5a"
      },
      "execution_count": 5,
      "outputs": [
        {
          "output_type": "execute_result",
          "data": {
            "text/plain": [
              "((8,), (8,))"
            ]
          },
          "metadata": {},
          "execution_count": 5
        }
      ]
    },
    {
      "cell_type": "code",
      "source": [
        "# Convert the numpy array to tensor\n",
        "X = tf.cast(tf.constant(X), dtype=tf.float32)\n",
        "y = tf.cast(tf.constant(y), dtype=tf.float32)\n",
        "X,y"
      ],
      "metadata": {
        "colab": {
          "base_uri": "https://localhost:8080/"
        },
        "id": "sq7CH4J5X6gK",
        "outputId": "b95dd534-fcc0-48f5-ae1d-6eb3605e0101"
      },
      "execution_count": 6,
      "outputs": [
        {
          "output_type": "execute_result",
          "data": {
            "text/plain": [
              "(<tf.Tensor: shape=(8,), dtype=float32, numpy=array([-7., -4., -1.,  2.,  5.,  8., 11., 14.], dtype=float32)>,\n",
              " <tf.Tensor: shape=(8,), dtype=float32, numpy=array([ 3.,  6.,  9., 12., 15., 18., 21., 24.], dtype=float32)>)"
            ]
          },
          "metadata": {},
          "execution_count": 6
        }
      ]
    },
    {
      "cell_type": "code",
      "source": [
        "input_shape=X[0].shape\n",
        "output_shape=y[0].shape\n",
        "input_shape,output_shape"
      ],
      "metadata": {
        "colab": {
          "base_uri": "https://localhost:8080/"
        },
        "id": "yNyExxT3xley",
        "outputId": "9b020c27-df8a-4281-8d49-8b4b4ad78f1c"
      },
      "execution_count": 7,
      "outputs": [
        {
          "output_type": "execute_result",
          "data": {
            "text/plain": [
              "(TensorShape([]), TensorShape([]))"
            ]
          },
          "metadata": {},
          "execution_count": 7
        }
      ]
    },
    {
      "cell_type": "code",
      "source": [],
      "metadata": {
        "id": "Bd5HMxzkx3yu"
      },
      "execution_count": 7,
      "outputs": []
    },
    {
      "cell_type": "code",
      "source": [
        "# Set random seed\n",
        "tf.random.set_seed(42)\n",
        "\n",
        "# 1. Create a model using the Sequential API\n",
        "model = tf.keras.Sequential([\n",
        "    tf.keras.layers.Dense(1)\n",
        "])\n",
        " # 2. Compile the model\n",
        "model.compile(loss=tf.keras.losses.mae,\n",
        "              optimizer=tf.keras.optimizers.SGD(),\n",
        "              metrics = [\"mae\"]\n",
        "               )\n",
        "# 3. fit the model\n",
        "model.fit(tf.expand_dims(X,axis=-1),y,epochs=5)"
      ],
      "metadata": {
        "id": "74Jb0QYYbIZC",
        "colab": {
          "base_uri": "https://localhost:8080/"
        },
        "outputId": "fd29532e-7e29-452d-a54f-bf14a501902e"
      },
      "execution_count": 8,
      "outputs": [
        {
          "output_type": "stream",
          "name": "stdout",
          "text": [
            "Epoch 1/5\n",
            "1/1 [==============================] - 1s 652ms/step - loss: 15.8807 - mae: 15.8807\n",
            "Epoch 2/5\n",
            "1/1 [==============================] - 0s 14ms/step - loss: 15.5994 - mae: 15.5994\n",
            "Epoch 3/5\n",
            "1/1 [==============================] - 0s 12ms/step - loss: 15.3182 - mae: 15.3182\n",
            "Epoch 4/5\n",
            "1/1 [==============================] - 0s 13ms/step - loss: 15.0369 - mae: 15.0369\n",
            "Epoch 5/5\n",
            "1/1 [==============================] - 0s 13ms/step - loss: 14.8221 - mae: 14.8221\n"
          ]
        },
        {
          "output_type": "execute_result",
          "data": {
            "text/plain": [
              "<keras.src.callbacks.History at 0x79d1637794b0>"
            ]
          },
          "metadata": {},
          "execution_count": 8
        }
      ]
    },
    {
      "cell_type": "code",
      "source": [
        "# Check out X and y\n",
        "X,y"
      ],
      "metadata": {
        "colab": {
          "base_uri": "https://localhost:8080/"
        },
        "id": "2ieVSlKOxXrI",
        "outputId": "9db71348-d857-4c46-a098-cbcbc7636deb"
      },
      "execution_count": 9,
      "outputs": [
        {
          "output_type": "execute_result",
          "data": {
            "text/plain": [
              "(<tf.Tensor: shape=(8,), dtype=float32, numpy=array([-7., -4., -1.,  2.,  5.,  8., 11., 14.], dtype=float32)>,\n",
              " <tf.Tensor: shape=(8,), dtype=float32, numpy=array([ 3.,  6.,  9., 12., 15., 18., 21., 24.], dtype=float32)>)"
            ]
          },
          "metadata": {},
          "execution_count": 9
        }
      ]
    },
    {
      "cell_type": "code",
      "source": [
        "# Try and make a prediction using our model\n",
        "model.predict([17.0])"
      ],
      "metadata": {
        "colab": {
          "base_uri": "https://localhost:8080/"
        },
        "id": "Y8RZoVtNQKNf",
        "outputId": "2a2d2aff-8f77-4c2b-a59b-2a9ba5811154"
      },
      "execution_count": 10,
      "outputs": [
        {
          "output_type": "stream",
          "name": "stdout",
          "text": [
            "1/1 [==============================] - 0s 137ms/step\n"
          ]
        },
        {
          "output_type": "execute_result",
          "data": {
            "text/plain": [
              "array([[-5.9324665]], dtype=float32)"
            ]
          },
          "metadata": {},
          "execution_count": 10
        }
      ]
    },
    {
      "cell_type": "code",
      "source": [],
      "metadata": {
        "id": "8y61gMiRQ7ZS"
      },
      "execution_count": 10,
      "outputs": []
    },
    {
      "cell_type": "code",
      "source": [
        "# improving your model"
      ],
      "metadata": {
        "id": "7vFJQsHNQc0r"
      },
      "execution_count": 11,
      "outputs": []
    },
    {
      "cell_type": "code",
      "source": [],
      "metadata": {
        "id": "orZ7HQJ2Q88F"
      },
      "execution_count": 11,
      "outputs": []
    },
    {
      "cell_type": "markdown",
      "source": [
        "# improving your model"
      ],
      "metadata": {
        "id": "eWuIuut5Q1nK"
      }
    },
    {
      "cell_type": "code",
      "source": [
        "# Create the model\n",
        "model = tf.keras.Sequential([\n",
        "    tf.keras.layers.Dense(1)\n",
        "])\n",
        "\n",
        "# 2 Compile the model'\n",
        "model.compile(loss=tf.keras.losses.mae,\n",
        "              optimizer=tf.keras.optimizers.SGD(),\n",
        "              metrics=['mae'])\n",
        "\n",
        "# 3 Fit the model\n",
        "\n",
        "\n",
        "model.fit(tf.expand_dims(X,axis=-1),y,epochs=100)"
      ],
      "metadata": {
        "colab": {
          "base_uri": "https://localhost:8080/"
        },
        "id": "ujBNy_PuQ-IR",
        "outputId": "f0e76042-17e5-40c0-a64f-382e41d81725"
      },
      "execution_count": 12,
      "outputs": [
        {
          "output_type": "stream",
          "name": "stdout",
          "text": [
            "Epoch 1/100\n",
            "1/1 [==============================] - 0s 438ms/step - loss: 21.0177 - mae: 21.0177\n",
            "Epoch 2/100\n",
            "1/1 [==============================] - 0s 12ms/step - loss: 20.6246 - mae: 20.6246\n",
            "Epoch 3/100\n",
            "1/1 [==============================] - 0s 11ms/step - loss: 20.2911 - mae: 20.2911\n",
            "Epoch 4/100\n",
            "1/1 [==============================] - 0s 10ms/step - loss: 20.0099 - mae: 20.0099\n",
            "Epoch 5/100\n",
            "1/1 [==============================] - 0s 10ms/step - loss: 19.7286 - mae: 19.7286\n",
            "Epoch 6/100\n",
            "1/1 [==============================] - 0s 10ms/step - loss: 19.4474 - mae: 19.4474\n",
            "Epoch 7/100\n",
            "1/1 [==============================] - 0s 10ms/step - loss: 19.1661 - mae: 19.1661\n",
            "Epoch 8/100\n",
            "1/1 [==============================] - 0s 10ms/step - loss: 18.8849 - mae: 18.8849\n",
            "Epoch 9/100\n",
            "1/1 [==============================] - 0s 10ms/step - loss: 18.6036 - mae: 18.6036\n",
            "Epoch 10/100\n",
            "1/1 [==============================] - 0s 13ms/step - loss: 18.3224 - mae: 18.3224\n",
            "Epoch 11/100\n",
            "1/1 [==============================] - 0s 15ms/step - loss: 18.0411 - mae: 18.0411\n",
            "Epoch 12/100\n",
            "1/1 [==============================] - 0s 11ms/step - loss: 17.7599 - mae: 17.7599\n",
            "Epoch 13/100\n",
            "1/1 [==============================] - 0s 13ms/step - loss: 17.4786 - mae: 17.4786\n",
            "Epoch 14/100\n",
            "1/1 [==============================] - 0s 13ms/step - loss: 17.1974 - mae: 17.1974\n",
            "Epoch 15/100\n",
            "1/1 [==============================] - 0s 10ms/step - loss: 16.9161 - mae: 16.9161\n",
            "Epoch 16/100\n",
            "1/1 [==============================] - 0s 10ms/step - loss: 16.6349 - mae: 16.6349\n",
            "Epoch 17/100\n",
            "1/1 [==============================] - 0s 12ms/step - loss: 16.3536 - mae: 16.3536\n",
            "Epoch 18/100\n",
            "1/1 [==============================] - 0s 10ms/step - loss: 16.0724 - mae: 16.0724\n",
            "Epoch 19/100\n",
            "1/1 [==============================] - 0s 9ms/step - loss: 15.7911 - mae: 15.7911\n",
            "Epoch 20/100\n",
            "1/1 [==============================] - 0s 10ms/step - loss: 15.5099 - mae: 15.5099\n",
            "Epoch 21/100\n",
            "1/1 [==============================] - 0s 10ms/step - loss: 15.2286 - mae: 15.2286\n",
            "Epoch 22/100\n",
            "1/1 [==============================] - 0s 10ms/step - loss: 14.9474 - mae: 14.9474\n",
            "Epoch 23/100\n",
            "1/1 [==============================] - 0s 10ms/step - loss: 14.6974 - mae: 14.6974\n",
            "Epoch 24/100\n",
            "1/1 [==============================] - 0s 9ms/step - loss: 14.5649 - mae: 14.5649\n",
            "Epoch 25/100\n",
            "1/1 [==============================] - 0s 11ms/step - loss: 14.4324 - mae: 14.4324\n",
            "Epoch 26/100\n",
            "1/1 [==============================] - 0s 10ms/step - loss: 14.2999 - mae: 14.2999\n",
            "Epoch 27/100\n",
            "1/1 [==============================] - 0s 10ms/step - loss: 14.1674 - mae: 14.1674\n",
            "Epoch 28/100\n",
            "1/1 [==============================] - 0s 10ms/step - loss: 14.0349 - mae: 14.0349\n",
            "Epoch 29/100\n",
            "1/1 [==============================] - 0s 10ms/step - loss: 13.9024 - mae: 13.9024\n",
            "Epoch 30/100\n",
            "1/1 [==============================] - 0s 10ms/step - loss: 13.7699 - mae: 13.7699\n",
            "Epoch 31/100\n",
            "1/1 [==============================] - 0s 10ms/step - loss: 13.6374 - mae: 13.6374\n",
            "Epoch 32/100\n",
            "1/1 [==============================] - 0s 11ms/step - loss: 13.5049 - mae: 13.5049\n",
            "Epoch 33/100\n",
            "1/1 [==============================] - 0s 9ms/step - loss: 13.3724 - mae: 13.3724\n",
            "Epoch 34/100\n",
            "1/1 [==============================] - 0s 11ms/step - loss: 13.2399 - mae: 13.2399\n",
            "Epoch 35/100\n",
            "1/1 [==============================] - 0s 9ms/step - loss: 13.1074 - mae: 13.1074\n",
            "Epoch 36/100\n",
            "1/1 [==============================] - 0s 10ms/step - loss: 12.9749 - mae: 12.9749\n",
            "Epoch 37/100\n",
            "1/1 [==============================] - 0s 10ms/step - loss: 12.8424 - mae: 12.8424\n",
            "Epoch 38/100\n",
            "1/1 [==============================] - 0s 9ms/step - loss: 12.7099 - mae: 12.7099\n",
            "Epoch 39/100\n",
            "1/1 [==============================] - 0s 12ms/step - loss: 12.5774 - mae: 12.5774\n",
            "Epoch 40/100\n",
            "1/1 [==============================] - 0s 10ms/step - loss: 12.4449 - mae: 12.4449\n",
            "Epoch 41/100\n",
            "1/1 [==============================] - 0s 10ms/step - loss: 12.3124 - mae: 12.3124\n",
            "Epoch 42/100\n",
            "1/1 [==============================] - 0s 10ms/step - loss: 12.1799 - mae: 12.1799\n",
            "Epoch 43/100\n",
            "1/1 [==============================] - 0s 10ms/step - loss: 12.0474 - mae: 12.0474\n",
            "Epoch 44/100\n",
            "1/1 [==============================] - 0s 10ms/step - loss: 11.9149 - mae: 11.9149\n",
            "Epoch 45/100\n",
            "1/1 [==============================] - 0s 11ms/step - loss: 11.7824 - mae: 11.7824\n",
            "Epoch 46/100\n",
            "1/1 [==============================] - 0s 10ms/step - loss: 11.6499 - mae: 11.6499\n",
            "Epoch 47/100\n",
            "1/1 [==============================] - 0s 9ms/step - loss: 11.5174 - mae: 11.5174\n",
            "Epoch 48/100\n",
            "1/1 [==============================] - 0s 9ms/step - loss: 11.3849 - mae: 11.3849\n",
            "Epoch 49/100\n",
            "1/1 [==============================] - 0s 10ms/step - loss: 11.2524 - mae: 11.2524\n",
            "Epoch 50/100\n",
            "1/1 [==============================] - 0s 11ms/step - loss: 11.1199 - mae: 11.1199\n",
            "Epoch 51/100\n",
            "1/1 [==============================] - 0s 9ms/step - loss: 10.9874 - mae: 10.9874\n",
            "Epoch 52/100\n",
            "1/1 [==============================] - 0s 12ms/step - loss: 10.8549 - mae: 10.8549\n",
            "Epoch 53/100\n",
            "1/1 [==============================] - 0s 19ms/step - loss: 10.7224 - mae: 10.7224\n",
            "Epoch 54/100\n",
            "1/1 [==============================] - 0s 11ms/step - loss: 10.5899 - mae: 10.5899\n",
            "Epoch 55/100\n",
            "1/1 [==============================] - 0s 11ms/step - loss: 10.4574 - mae: 10.4574\n",
            "Epoch 56/100\n",
            "1/1 [==============================] - 0s 10ms/step - loss: 10.3249 - mae: 10.3249\n",
            "Epoch 57/100\n",
            "1/1 [==============================] - 0s 11ms/step - loss: 10.1924 - mae: 10.1924\n",
            "Epoch 58/100\n",
            "1/1 [==============================] - 0s 11ms/step - loss: 10.0599 - mae: 10.0599\n",
            "Epoch 59/100\n",
            "1/1 [==============================] - 0s 9ms/step - loss: 9.9274 - mae: 9.9274\n",
            "Epoch 60/100\n",
            "1/1 [==============================] - 0s 9ms/step - loss: 9.7949 - mae: 9.7949\n",
            "Epoch 61/100\n",
            "1/1 [==============================] - 0s 10ms/step - loss: 9.6624 - mae: 9.6624\n",
            "Epoch 62/100\n",
            "1/1 [==============================] - 0s 9ms/step - loss: 9.5299 - mae: 9.5299\n",
            "Epoch 63/100\n",
            "1/1 [==============================] - 0s 13ms/step - loss: 9.3974 - mae: 9.3974\n",
            "Epoch 64/100\n",
            "1/1 [==============================] - 0s 11ms/step - loss: 9.2649 - mae: 9.2649\n",
            "Epoch 65/100\n",
            "1/1 [==============================] - 0s 12ms/step - loss: 9.1324 - mae: 9.1324\n",
            "Epoch 66/100\n",
            "1/1 [==============================] - 0s 13ms/step - loss: 8.9999 - mae: 8.9999\n",
            "Epoch 67/100\n",
            "1/1 [==============================] - 0s 12ms/step - loss: 8.8674 - mae: 8.8674\n",
            "Epoch 68/100\n",
            "1/1 [==============================] - 0s 13ms/step - loss: 8.7349 - mae: 8.7349\n",
            "Epoch 69/100\n",
            "1/1 [==============================] - 0s 17ms/step - loss: 8.6024 - mae: 8.6024\n",
            "Epoch 70/100\n",
            "1/1 [==============================] - 0s 11ms/step - loss: 8.4699 - mae: 8.4699\n",
            "Epoch 71/100\n",
            "1/1 [==============================] - 0s 11ms/step - loss: 8.3374 - mae: 8.3374\n",
            "Epoch 72/100\n",
            "1/1 [==============================] - 0s 12ms/step - loss: 8.2049 - mae: 8.2049\n",
            "Epoch 73/100\n",
            "1/1 [==============================] - 0s 12ms/step - loss: 8.0724 - mae: 8.0724\n",
            "Epoch 74/100\n",
            "1/1 [==============================] - 0s 12ms/step - loss: 7.9399 - mae: 7.9399\n",
            "Epoch 75/100\n",
            "1/1 [==============================] - 0s 11ms/step - loss: 7.8074 - mae: 7.8074\n",
            "Epoch 76/100\n",
            "1/1 [==============================] - 0s 10ms/step - loss: 7.6749 - mae: 7.6749\n",
            "Epoch 77/100\n",
            "1/1 [==============================] - 0s 9ms/step - loss: 7.5424 - mae: 7.5424\n",
            "Epoch 78/100\n",
            "1/1 [==============================] - 0s 8ms/step - loss: 7.4099 - mae: 7.4099\n",
            "Epoch 79/100\n",
            "1/1 [==============================] - 0s 8ms/step - loss: 7.2774 - mae: 7.2774\n",
            "Epoch 80/100\n",
            "1/1 [==============================] - 0s 9ms/step - loss: 7.1449 - mae: 7.1449\n",
            "Epoch 81/100\n",
            "1/1 [==============================] - 0s 11ms/step - loss: 7.0124 - mae: 7.0124\n",
            "Epoch 82/100\n",
            "1/1 [==============================] - 0s 14ms/step - loss: 6.9375 - mae: 6.9375\n",
            "Epoch 83/100\n",
            "1/1 [==============================] - 0s 9ms/step - loss: 6.9319 - mae: 6.9319\n",
            "Epoch 84/100\n",
            "1/1 [==============================] - 0s 13ms/step - loss: 6.9263 - mae: 6.9263\n",
            "Epoch 85/100\n",
            "1/1 [==============================] - 0s 12ms/step - loss: 6.9206 - mae: 6.9206\n",
            "Epoch 86/100\n",
            "1/1 [==============================] - 0s 13ms/step - loss: 6.9150 - mae: 6.9150\n",
            "Epoch 87/100\n",
            "1/1 [==============================] - 0s 9ms/step - loss: 6.9094 - mae: 6.9094\n",
            "Epoch 88/100\n",
            "1/1 [==============================] - 0s 9ms/step - loss: 6.9038 - mae: 6.9038\n",
            "Epoch 89/100\n",
            "1/1 [==============================] - 0s 9ms/step - loss: 6.8981 - mae: 6.8981\n",
            "Epoch 90/100\n",
            "1/1 [==============================] - 0s 8ms/step - loss: 6.8925 - mae: 6.8925\n",
            "Epoch 91/100\n",
            "1/1 [==============================] - 0s 9ms/step - loss: 6.8869 - mae: 6.8869\n",
            "Epoch 92/100\n",
            "1/1 [==============================] - 0s 9ms/step - loss: 6.8813 - mae: 6.8813\n",
            "Epoch 93/100\n",
            "1/1 [==============================] - 0s 9ms/step - loss: 6.8756 - mae: 6.8756\n",
            "Epoch 94/100\n",
            "1/1 [==============================] - 0s 9ms/step - loss: 6.8700 - mae: 6.8700\n",
            "Epoch 95/100\n",
            "1/1 [==============================] - 0s 10ms/step - loss: 6.8644 - mae: 6.8644\n",
            "Epoch 96/100\n",
            "1/1 [==============================] - 0s 13ms/step - loss: 6.8588 - mae: 6.8588\n",
            "Epoch 97/100\n",
            "1/1 [==============================] - 0s 10ms/step - loss: 6.8531 - mae: 6.8531\n",
            "Epoch 98/100\n",
            "1/1 [==============================] - 0s 9ms/step - loss: 6.8475 - mae: 6.8475\n",
            "Epoch 99/100\n",
            "1/1 [==============================] - 0s 8ms/step - loss: 6.8419 - mae: 6.8419\n",
            "Epoch 100/100\n",
            "1/1 [==============================] - 0s 8ms/step - loss: 6.8363 - mae: 6.8363\n"
          ]
        },
        {
          "output_type": "execute_result",
          "data": {
            "text/plain": [
              "<keras.src.callbacks.History at 0x79d162da9b10>"
            ]
          },
          "metadata": {},
          "execution_count": 12
        }
      ]
    },
    {
      "cell_type": "code",
      "source": [
        "# new prediciton\n",
        "model.predict([17.0])"
      ],
      "metadata": {
        "colab": {
          "base_uri": "https://localhost:8080/"
        },
        "id": "veoyFPUQWgxv",
        "outputId": "fcdf05b3-a159-440c-9fbf-2898ca02a978"
      },
      "execution_count": 13,
      "outputs": [
        {
          "output_type": "stream",
          "name": "stdout",
          "text": [
            "1/1 [==============================] - 0s 64ms/step\n"
          ]
        },
        {
          "output_type": "execute_result",
          "data": {
            "text/plain": [
              "array([[29.40429]], dtype=float32)"
            ]
          },
          "metadata": {},
          "execution_count": 13
        }
      ]
    },
    {
      "cell_type": "code",
      "source": [
        "# Let's see if we can make another to improve our model\n",
        "# 1. Create the model (this time with an extra hidden layer with 100 hidden units)\n",
        "model = tf.keras.Sequential([\n",
        "    tf.keras.layers.Dense(100,activation='relu'),\n",
        "    tf.keras.layers.Dense(1)\n",
        "])\n",
        "\n",
        "# 2. Compile the model\n",
        "model.compile(loss='mae',\n",
        "              optimizer=tf.keras.optimizers.SGD(),\n",
        "              metrics=['mae'])\n",
        "\n",
        "# 3. Fit the model\n",
        "model.fit(tf.expand_dims(X,axis=-1),y,epochs=100)"
      ],
      "metadata": {
        "colab": {
          "base_uri": "https://localhost:8080/"
        },
        "id": "ijUbHMu1XRyh",
        "outputId": "73a2cf04-54bf-411d-bf93-7bb7e9e29c93"
      },
      "execution_count": 14,
      "outputs": [
        {
          "output_type": "stream",
          "name": "stdout",
          "text": [
            "Epoch 1/100\n",
            "1/1 [==============================] - 1s 688ms/step - loss: 12.4712 - mae: 12.4712\n",
            "Epoch 2/100\n",
            "1/1 [==============================] - 0s 12ms/step - loss: 11.8661 - mae: 11.8661\n",
            "Epoch 3/100\n",
            "1/1 [==============================] - 0s 11ms/step - loss: 11.2476 - mae: 11.2476\n",
            "Epoch 4/100\n",
            "1/1 [==============================] - 0s 11ms/step - loss: 10.6093 - mae: 10.6093\n",
            "Epoch 5/100\n",
            "1/1 [==============================] - 0s 17ms/step - loss: 9.9482 - mae: 9.9482\n",
            "Epoch 6/100\n",
            "1/1 [==============================] - 0s 17ms/step - loss: 9.2549 - mae: 9.2549\n",
            "Epoch 7/100\n",
            "1/1 [==============================] - 0s 18ms/step - loss: 8.5248 - mae: 8.5248\n",
            "Epoch 8/100\n",
            "1/1 [==============================] - 0s 20ms/step - loss: 7.7528 - mae: 7.7528\n",
            "Epoch 9/100\n",
            "1/1 [==============================] - 0s 22ms/step - loss: 6.9284 - mae: 6.9284\n",
            "Epoch 10/100\n",
            "1/1 [==============================] - 0s 19ms/step - loss: 6.0439 - mae: 6.0439\n",
            "Epoch 11/100\n",
            "1/1 [==============================] - 0s 20ms/step - loss: 5.0930 - mae: 5.0930\n",
            "Epoch 12/100\n",
            "1/1 [==============================] - 0s 22ms/step - loss: 4.2523 - mae: 4.2523\n",
            "Epoch 13/100\n",
            "1/1 [==============================] - 0s 28ms/step - loss: 4.0941 - mae: 4.0941\n",
            "Epoch 14/100\n",
            "1/1 [==============================] - 0s 24ms/step - loss: 3.9333 - mae: 3.9333\n",
            "Epoch 15/100\n",
            "1/1 [==============================] - 0s 26ms/step - loss: 3.9739 - mae: 3.9739\n",
            "Epoch 16/100\n",
            "1/1 [==============================] - 0s 21ms/step - loss: 3.9034 - mae: 3.9034\n",
            "Epoch 17/100\n",
            "1/1 [==============================] - 0s 18ms/step - loss: 3.9749 - mae: 3.9749\n",
            "Epoch 18/100\n",
            "1/1 [==============================] - 0s 16ms/step - loss: 3.9097 - mae: 3.9097\n",
            "Epoch 19/100\n",
            "1/1 [==============================] - 0s 26ms/step - loss: 3.9482 - mae: 3.9482\n",
            "Epoch 20/100\n",
            "1/1 [==============================] - 0s 16ms/step - loss: 3.9160 - mae: 3.9160\n",
            "Epoch 21/100\n",
            "1/1 [==============================] - 0s 16ms/step - loss: 3.9285 - mae: 3.9285\n",
            "Epoch 22/100\n",
            "1/1 [==============================] - 0s 15ms/step - loss: 3.9325 - mae: 3.9325\n",
            "Epoch 23/100\n",
            "1/1 [==============================] - 0s 13ms/step - loss: 3.9036 - mae: 3.9036\n",
            "Epoch 24/100\n",
            "1/1 [==============================] - 0s 13ms/step - loss: 3.9390 - mae: 3.9390\n",
            "Epoch 25/100\n",
            "1/1 [==============================] - 0s 13ms/step - loss: 3.8764 - mae: 3.8764\n",
            "Epoch 26/100\n",
            "1/1 [==============================] - 0s 16ms/step - loss: 3.9456 - mae: 3.9456\n",
            "Epoch 27/100\n",
            "1/1 [==============================] - 0s 12ms/step - loss: 3.8753 - mae: 3.8753\n",
            "Epoch 28/100\n",
            "1/1 [==============================] - 0s 14ms/step - loss: 3.9254 - mae: 3.9254\n",
            "Epoch 29/100\n",
            "1/1 [==============================] - 0s 19ms/step - loss: 3.8883 - mae: 3.8883\n",
            "Epoch 30/100\n",
            "1/1 [==============================] - 0s 12ms/step - loss: 3.9077 - mae: 3.9077\n",
            "Epoch 31/100\n",
            "1/1 [==============================] - 0s 16ms/step - loss: 3.8985 - mae: 3.8985\n",
            "Epoch 32/100\n",
            "1/1 [==============================] - 0s 16ms/step - loss: 3.8804 - mae: 3.8804\n",
            "Epoch 33/100\n",
            "1/1 [==============================] - 0s 15ms/step - loss: 3.9053 - mae: 3.9053\n",
            "Epoch 34/100\n",
            "1/1 [==============================] - 0s 33ms/step - loss: 3.8529 - mae: 3.8529\n",
            "Epoch 35/100\n",
            "1/1 [==============================] - 0s 18ms/step - loss: 3.9122 - mae: 3.9122\n",
            "Epoch 36/100\n",
            "1/1 [==============================] - 0s 18ms/step - loss: 3.8424 - mae: 3.8424\n",
            "Epoch 37/100\n",
            "1/1 [==============================] - 0s 57ms/step - loss: 3.9072 - mae: 3.9072\n",
            "Epoch 38/100\n",
            "1/1 [==============================] - 0s 14ms/step - loss: 3.8592 - mae: 3.8592\n",
            "Epoch 39/100\n",
            "1/1 [==============================] - 0s 15ms/step - loss: 3.8829 - mae: 3.8829\n",
            "Epoch 40/100\n",
            "1/1 [==============================] - 0s 15ms/step - loss: 3.8661 - mae: 3.8661\n",
            "Epoch 41/100\n",
            "1/1 [==============================] - 0s 21ms/step - loss: 3.8553 - mae: 3.8553\n",
            "Epoch 42/100\n",
            "1/1 [==============================] - 0s 16ms/step - loss: 3.8731 - mae: 3.8731\n",
            "Epoch 43/100\n",
            "1/1 [==============================] - 0s 17ms/step - loss: 3.8277 - mae: 3.8277\n",
            "Epoch 44/100\n",
            "1/1 [==============================] - 0s 14ms/step - loss: 3.8802 - mae: 3.8802\n",
            "Epoch 45/100\n",
            "1/1 [==============================] - 0s 31ms/step - loss: 3.8158 - mae: 3.8158\n",
            "Epoch 46/100\n",
            "1/1 [==============================] - 0s 16ms/step - loss: 3.8848 - mae: 3.8848\n",
            "Epoch 47/100\n",
            "1/1 [==============================] - 0s 17ms/step - loss: 3.8278 - mae: 3.8278\n",
            "Epoch 48/100\n",
            "1/1 [==============================] - 0s 15ms/step - loss: 3.8569 - mae: 3.8569\n",
            "Epoch 49/100\n",
            "1/1 [==============================] - 0s 21ms/step - loss: 3.8349 - mae: 3.8349\n",
            "Epoch 50/100\n",
            "1/1 [==============================] - 0s 15ms/step - loss: 3.8290 - mae: 3.8290\n",
            "Epoch 51/100\n",
            "1/1 [==============================] - 0s 18ms/step - loss: 3.8421 - mae: 3.8421\n",
            "Epoch 52/100\n",
            "1/1 [==============================] - 0s 15ms/step - loss: 3.8011 - mae: 3.8011\n",
            "Epoch 53/100\n",
            "1/1 [==============================] - 0s 14ms/step - loss: 3.8534 - mae: 3.8534\n",
            "Epoch 54/100\n",
            "1/1 [==============================] - 0s 13ms/step - loss: 3.7903 - mae: 3.7903\n",
            "Epoch 55/100\n",
            "1/1 [==============================] - 0s 17ms/step - loss: 3.8577 - mae: 3.8577\n",
            "Epoch 56/100\n",
            "1/1 [==============================] - 0s 15ms/step - loss: 3.7975 - mae: 3.7975\n",
            "Epoch 57/100\n",
            "1/1 [==============================] - 0s 14ms/step - loss: 3.8295 - mae: 3.8295\n",
            "Epoch 58/100\n",
            "1/1 [==============================] - 0s 13ms/step - loss: 3.8048 - mae: 3.8048\n",
            "Epoch 59/100\n",
            "1/1 [==============================] - 0s 34ms/step - loss: 3.8014 - mae: 3.8014\n",
            "Epoch 60/100\n",
            "1/1 [==============================] - 0s 14ms/step - loss: 3.8122 - mae: 3.8122\n",
            "Epoch 61/100\n",
            "1/1 [==============================] - 0s 15ms/step - loss: 3.7768 - mae: 3.7768\n",
            "Epoch 62/100\n",
            "1/1 [==============================] - 0s 23ms/step - loss: 3.8297 - mae: 3.8297\n",
            "Epoch 63/100\n",
            "1/1 [==============================] - 0s 18ms/step - loss: 3.7608 - mae: 3.7608\n",
            "Epoch 64/100\n",
            "1/1 [==============================] - 0s 21ms/step - loss: 3.8293 - mae: 3.8293\n",
            "Epoch 65/100\n",
            "1/1 [==============================] - 0s 21ms/step - loss: 3.7681 - mae: 3.7681\n",
            "Epoch 66/100\n",
            "1/1 [==============================] - 0s 19ms/step - loss: 3.8008 - mae: 3.8008\n",
            "Epoch 67/100\n",
            "1/1 [==============================] - 0s 22ms/step - loss: 3.7757 - mae: 3.7757\n",
            "Epoch 68/100\n",
            "1/1 [==============================] - 0s 23ms/step - loss: 3.7723 - mae: 3.7723\n",
            "Epoch 69/100\n",
            "1/1 [==============================] - 0s 18ms/step - loss: 3.7861 - mae: 3.7861\n",
            "Epoch 70/100\n",
            "1/1 [==============================] - 0s 16ms/step - loss: 3.7531 - mae: 3.7531\n",
            "Epoch 71/100\n",
            "1/1 [==============================] - 0s 27ms/step - loss: 3.8010 - mae: 3.8010\n",
            "Epoch 72/100\n",
            "1/1 [==============================] - 0s 15ms/step - loss: 3.7324 - mae: 3.7324\n",
            "Epoch 73/100\n",
            "1/1 [==============================] - 0s 16ms/step - loss: 3.7994 - mae: 3.7994\n",
            "Epoch 74/100\n",
            "1/1 [==============================] - 0s 16ms/step - loss: 3.7400 - mae: 3.7400\n",
            "Epoch 75/100\n",
            "1/1 [==============================] - 0s 23ms/step - loss: 3.7707 - mae: 3.7707\n",
            "Epoch 76/100\n",
            "1/1 [==============================] - 0s 23ms/step - loss: 3.7478 - mae: 3.7478\n",
            "Epoch 77/100\n",
            "1/1 [==============================] - 0s 18ms/step - loss: 3.7444 - mae: 3.7444\n",
            "Epoch 78/100\n",
            "1/1 [==============================] - 0s 49ms/step - loss: 3.7656 - mae: 3.7656\n",
            "Epoch 79/100\n",
            "1/1 [==============================] - 0s 24ms/step - loss: 3.7224 - mae: 3.7224\n",
            "Epoch 80/100\n",
            "1/1 [==============================] - 0s 15ms/step - loss: 3.7733 - mae: 3.7733\n",
            "Epoch 81/100\n",
            "1/1 [==============================] - 0s 18ms/step - loss: 3.7049 - mae: 3.7049\n",
            "Epoch 82/100\n",
            "1/1 [==============================] - 0s 18ms/step - loss: 3.7684 - mae: 3.7684\n",
            "Epoch 83/100\n",
            "1/1 [==============================] - 0s 16ms/step - loss: 3.7127 - mae: 3.7127\n",
            "Epoch 84/100\n",
            "1/1 [==============================] - 0s 15ms/step - loss: 3.7394 - mae: 3.7394\n",
            "Epoch 85/100\n",
            "1/1 [==============================] - 0s 12ms/step - loss: 3.7221 - mae: 3.7221\n",
            "Epoch 86/100\n",
            "1/1 [==============================] - 0s 15ms/step - loss: 3.7198 - mae: 3.7198\n",
            "Epoch 87/100\n",
            "1/1 [==============================] - 0s 15ms/step - loss: 3.7386 - mae: 3.7386\n",
            "Epoch 88/100\n",
            "1/1 [==============================] - 0s 18ms/step - loss: 3.6904 - mae: 3.6904\n",
            "Epoch 89/100\n",
            "1/1 [==============================] - 0s 14ms/step - loss: 3.7465 - mae: 3.7465\n",
            "Epoch 90/100\n",
            "1/1 [==============================] - 0s 15ms/step - loss: 3.6784 - mae: 3.6784\n",
            "Epoch 91/100\n",
            "1/1 [==============================] - 0s 16ms/step - loss: 3.7361 - mae: 3.7361\n",
            "Epoch 92/100\n",
            "1/1 [==============================] - 0s 16ms/step - loss: 3.6865 - mae: 3.6865\n",
            "Epoch 93/100\n",
            "1/1 [==============================] - 0s 16ms/step - loss: 3.7077 - mae: 3.7077\n",
            "Epoch 94/100\n",
            "1/1 [==============================] - 0s 17ms/step - loss: 3.7046 - mae: 3.7046\n",
            "Epoch 95/100\n",
            "1/1 [==============================] - 0s 17ms/step - loss: 3.6865 - mae: 3.6865\n",
            "Epoch 96/100\n",
            "1/1 [==============================] - 0s 18ms/step - loss: 3.7128 - mae: 3.7128\n",
            "Epoch 97/100\n",
            "1/1 [==============================] - 0s 15ms/step - loss: 3.6567 - mae: 3.6567\n",
            "Epoch 98/100\n",
            "1/1 [==============================] - 0s 14ms/step - loss: 3.7209 - mae: 3.7209\n",
            "Epoch 99/100\n",
            "1/1 [==============================] - 0s 21ms/step - loss: 3.6530 - mae: 3.6530\n",
            "Epoch 100/100\n",
            "1/1 [==============================] - 0s 14ms/step - loss: 3.7023 - mae: 3.7023\n"
          ]
        },
        {
          "output_type": "execute_result",
          "data": {
            "text/plain": [
              "<keras.src.callbacks.History at 0x79d163f907f0>"
            ]
          },
          "metadata": {},
          "execution_count": 14
        }
      ]
    },
    {
      "cell_type": "code",
      "source": [
        "# Lets remind ourselves of the data\n",
        "X,y\n"
      ],
      "metadata": {
        "colab": {
          "base_uri": "https://localhost:8080/"
        },
        "id": "z6khC05Kd4gF",
        "outputId": "ed392790-6ce3-4b2a-97a8-72bd051b5092"
      },
      "execution_count": 15,
      "outputs": [
        {
          "output_type": "execute_result",
          "data": {
            "text/plain": [
              "(<tf.Tensor: shape=(8,), dtype=float32, numpy=array([-7., -4., -1.,  2.,  5.,  8., 11., 14.], dtype=float32)>,\n",
              " <tf.Tensor: shape=(8,), dtype=float32, numpy=array([ 3.,  6.,  9., 12., 15., 18., 21., 24.], dtype=float32)>)"
            ]
          },
          "metadata": {},
          "execution_count": 15
        }
      ]
    },
    {
      "cell_type": "code",
      "source": [
        "# Lets try to make a prediction ones again\n",
        "model.predict([17.0])"
      ],
      "metadata": {
        "colab": {
          "base_uri": "https://localhost:8080/"
        },
        "id": "pkUJacbDggox",
        "outputId": "eabb7c08-4ef3-4252-ef8f-8732f58f3176"
      },
      "execution_count": 16,
      "outputs": [
        {
          "output_type": "stream",
          "name": "stdout",
          "text": [
            "1/1 [==============================] - 0s 108ms/step\n"
          ]
        },
        {
          "output_type": "execute_result",
          "data": {
            "text/plain": [
              "array([[32.285263]], dtype=float32)"
            ]
          },
          "metadata": {},
          "execution_count": 16
        }
      ]
    },
    {
      "cell_type": "code",
      "source": [
        "# more improved\n",
        "# Let's see if we can make another to improve our model\n",
        "# 1. Create the model (this time with an extra hidden layer with 100 hidden units)\n",
        "model = tf.keras.Sequential([\n",
        "    tf.keras.layers.Dense(50,activation=None),\n",
        "    tf.keras.layers.Dense(1)\n",
        "])\n",
        "\n",
        "# 2. Compile the model\n",
        "model.compile(loss='mae',\n",
        "              optimizer=tf.keras.optimizers.Adam(learning_rate=0.01),\n",
        "              metrics=['mae'])\n",
        "\n",
        "# 3. Fit the model\n",
        "model.fit(tf.expand_dims(X,axis=-1),y,epochs=100)"
      ],
      "metadata": {
        "colab": {
          "base_uri": "https://localhost:8080/"
        },
        "id": "v6jRQRYIgpka",
        "outputId": "d284749a-583d-4f5a-c0a3-68a4305ff51c"
      },
      "execution_count": 17,
      "outputs": [
        {
          "output_type": "stream",
          "name": "stdout",
          "text": [
            "Epoch 1/100\n",
            "1/1 [==============================] - 1s 1s/step - loss: 13.2205 - mae: 13.2205\n",
            "Epoch 2/100\n",
            "1/1 [==============================] - 0s 17ms/step - loss: 12.4846 - mae: 12.4846\n",
            "Epoch 3/100\n",
            "1/1 [==============================] - 0s 25ms/step - loss: 11.7457 - mae: 11.7457\n",
            "Epoch 4/100\n",
            "1/1 [==============================] - 0s 20ms/step - loss: 11.0022 - mae: 11.0022\n",
            "Epoch 5/100\n",
            "1/1 [==============================] - 0s 17ms/step - loss: 10.2511 - mae: 10.2511\n",
            "Epoch 6/100\n",
            "1/1 [==============================] - 0s 12ms/step - loss: 9.4889 - mae: 9.4889\n",
            "Epoch 7/100\n",
            "1/1 [==============================] - 0s 16ms/step - loss: 8.7119 - mae: 8.7119\n",
            "Epoch 8/100\n",
            "1/1 [==============================] - 0s 17ms/step - loss: 7.9168 - mae: 7.9168\n",
            "Epoch 9/100\n",
            "1/1 [==============================] - 0s 18ms/step - loss: 7.1004 - mae: 7.1004\n",
            "Epoch 10/100\n",
            "1/1 [==============================] - 0s 15ms/step - loss: 6.7773 - mae: 6.7773\n",
            "Epoch 11/100\n",
            "1/1 [==============================] - 0s 15ms/step - loss: 7.1524 - mae: 7.1524\n",
            "Epoch 12/100\n",
            "1/1 [==============================] - 0s 15ms/step - loss: 7.4948 - mae: 7.4948\n",
            "Epoch 13/100\n",
            "1/1 [==============================] - 0s 18ms/step - loss: 7.7604 - mae: 7.7604\n",
            "Epoch 14/100\n",
            "1/1 [==============================] - 0s 17ms/step - loss: 7.7746 - mae: 7.7746\n",
            "Epoch 15/100\n",
            "1/1 [==============================] - 0s 17ms/step - loss: 7.6007 - mae: 7.6007\n",
            "Epoch 16/100\n",
            "1/1 [==============================] - 0s 17ms/step - loss: 7.2853 - mae: 7.2853\n",
            "Epoch 17/100\n",
            "1/1 [==============================] - 0s 19ms/step - loss: 6.9490 - mae: 6.9490\n",
            "Epoch 18/100\n",
            "1/1 [==============================] - 0s 27ms/step - loss: 6.6647 - mae: 6.6647\n",
            "Epoch 19/100\n",
            "1/1 [==============================] - 0s 23ms/step - loss: 6.3666 - mae: 6.3666\n",
            "Epoch 20/100\n",
            "1/1 [==============================] - 0s 18ms/step - loss: 6.1563 - mae: 6.1563\n",
            "Epoch 21/100\n",
            "1/1 [==============================] - 0s 28ms/step - loss: 6.1120 - mae: 6.1120\n",
            "Epoch 22/100\n",
            "1/1 [==============================] - 0s 27ms/step - loss: 6.1899 - mae: 6.1899\n",
            "Epoch 23/100\n",
            "1/1 [==============================] - 0s 26ms/step - loss: 6.2789 - mae: 6.2789\n",
            "Epoch 24/100\n",
            "1/1 [==============================] - 0s 21ms/step - loss: 6.2622 - mae: 6.2622\n",
            "Epoch 25/100\n",
            "1/1 [==============================] - 0s 15ms/step - loss: 6.1528 - mae: 6.1528\n",
            "Epoch 26/100\n",
            "1/1 [==============================] - 0s 14ms/step - loss: 5.9601 - mae: 5.9601\n",
            "Epoch 27/100\n",
            "1/1 [==============================] - 0s 14ms/step - loss: 5.6913 - mae: 5.6913\n",
            "Epoch 28/100\n",
            "1/1 [==============================] - 0s 18ms/step - loss: 5.5624 - mae: 5.5624\n",
            "Epoch 29/100\n",
            "1/1 [==============================] - 0s 15ms/step - loss: 5.4526 - mae: 5.4526\n",
            "Epoch 30/100\n",
            "1/1 [==============================] - 0s 24ms/step - loss: 5.4684 - mae: 5.4684\n",
            "Epoch 31/100\n",
            "1/1 [==============================] - 0s 24ms/step - loss: 5.4812 - mae: 5.4812\n",
            "Epoch 32/100\n",
            "1/1 [==============================] - 0s 25ms/step - loss: 5.4464 - mae: 5.4464\n",
            "Epoch 33/100\n",
            "1/1 [==============================] - 0s 30ms/step - loss: 5.3677 - mae: 5.3677\n",
            "Epoch 34/100\n",
            "1/1 [==============================] - 0s 18ms/step - loss: 5.2489 - mae: 5.2489\n",
            "Epoch 35/100\n",
            "1/1 [==============================] - 0s 18ms/step - loss: 5.0935 - mae: 5.0935\n",
            "Epoch 36/100\n",
            "1/1 [==============================] - 0s 18ms/step - loss: 4.9048 - mae: 4.9048\n",
            "Epoch 37/100\n",
            "1/1 [==============================] - 0s 22ms/step - loss: 4.6858 - mae: 4.6858\n",
            "Epoch 38/100\n",
            "1/1 [==============================] - 0s 38ms/step - loss: 4.5837 - mae: 4.5837\n",
            "Epoch 39/100\n",
            "1/1 [==============================] - 0s 42ms/step - loss: 4.4919 - mae: 4.4919\n",
            "Epoch 40/100\n",
            "1/1 [==============================] - 0s 16ms/step - loss: 4.5039 - mae: 4.5039\n",
            "Epoch 41/100\n",
            "1/1 [==============================] - 0s 17ms/step - loss: 4.4353 - mae: 4.4353\n",
            "Epoch 42/100\n",
            "1/1 [==============================] - 0s 18ms/step - loss: 4.2505 - mae: 4.2505\n",
            "Epoch 43/100\n",
            "1/1 [==============================] - 0s 16ms/step - loss: 3.9874 - mae: 3.9874\n",
            "Epoch 44/100\n",
            "1/1 [==============================] - 0s 19ms/step - loss: 3.8295 - mae: 3.8295\n",
            "Epoch 45/100\n",
            "1/1 [==============================] - 0s 14ms/step - loss: 3.6650 - mae: 3.6650\n",
            "Epoch 46/100\n",
            "1/1 [==============================] - 0s 15ms/step - loss: 3.6055 - mae: 3.6055\n",
            "Epoch 47/100\n",
            "1/1 [==============================] - 0s 14ms/step - loss: 3.5043 - mae: 3.5043\n",
            "Epoch 48/100\n",
            "1/1 [==============================] - 0s 10ms/step - loss: 3.3501 - mae: 3.3501\n",
            "Epoch 49/100\n",
            "1/1 [==============================] - 0s 10ms/step - loss: 3.1457 - mae: 3.1457\n",
            "Epoch 50/100\n",
            "1/1 [==============================] - 0s 16ms/step - loss: 2.8940 - mae: 2.8940\n",
            "Epoch 51/100\n",
            "1/1 [==============================] - 0s 10ms/step - loss: 2.6870 - mae: 2.6870\n",
            "Epoch 52/100\n",
            "1/1 [==============================] - 0s 12ms/step - loss: 2.5530 - mae: 2.5530\n",
            "Epoch 53/100\n",
            "1/1 [==============================] - 0s 17ms/step - loss: 2.3878 - mae: 2.3878\n",
            "Epoch 54/100\n",
            "1/1 [==============================] - 0s 17ms/step - loss: 2.1093 - mae: 2.1093\n",
            "Epoch 55/100\n",
            "1/1 [==============================] - 0s 13ms/step - loss: 1.8836 - mae: 1.8836\n",
            "Epoch 56/100\n",
            "1/1 [==============================] - 0s 14ms/step - loss: 1.7255 - mae: 1.7255\n",
            "Epoch 57/100\n",
            "1/1 [==============================] - 0s 13ms/step - loss: 1.5245 - mae: 1.5245\n",
            "Epoch 58/100\n",
            "1/1 [==============================] - 0s 16ms/step - loss: 1.2585 - mae: 1.2585\n",
            "Epoch 59/100\n",
            "1/1 [==============================] - 0s 14ms/step - loss: 0.9544 - mae: 0.9544\n",
            "Epoch 60/100\n",
            "1/1 [==============================] - 0s 15ms/step - loss: 0.7770 - mae: 0.7770\n",
            "Epoch 61/100\n",
            "1/1 [==============================] - 0s 14ms/step - loss: 0.4700 - mae: 0.4700\n",
            "Epoch 62/100\n",
            "1/1 [==============================] - 0s 14ms/step - loss: 0.3455 - mae: 0.3455\n",
            "Epoch 63/100\n",
            "1/1 [==============================] - 0s 14ms/step - loss: 0.2227 - mae: 0.2227\n",
            "Epoch 64/100\n",
            "1/1 [==============================] - 0s 17ms/step - loss: 0.3640 - mae: 0.3640\n",
            "Epoch 65/100\n",
            "1/1 [==============================] - 0s 15ms/step - loss: 0.5064 - mae: 0.5064\n",
            "Epoch 66/100\n",
            "1/1 [==============================] - 0s 13ms/step - loss: 0.5768 - mae: 0.5768\n",
            "Epoch 67/100\n",
            "1/1 [==============================] - 0s 16ms/step - loss: 0.6744 - mae: 0.6744\n",
            "Epoch 68/100\n",
            "1/1 [==============================] - 0s 13ms/step - loss: 0.6517 - mae: 0.6517\n",
            "Epoch 69/100\n",
            "1/1 [==============================] - 0s 23ms/step - loss: 0.6331 - mae: 0.6331\n",
            "Epoch 70/100\n",
            "1/1 [==============================] - 0s 28ms/step - loss: 0.5928 - mae: 0.5928\n",
            "Epoch 71/100\n",
            "1/1 [==============================] - 0s 10ms/step - loss: 0.4962 - mae: 0.4962\n",
            "Epoch 72/100\n",
            "1/1 [==============================] - 0s 11ms/step - loss: 0.3831 - mae: 0.3831\n",
            "Epoch 73/100\n",
            "1/1 [==============================] - 0s 16ms/step - loss: 0.3295 - mae: 0.3295\n",
            "Epoch 74/100\n",
            "1/1 [==============================] - 0s 16ms/step - loss: 0.1259 - mae: 0.1259\n",
            "Epoch 75/100\n",
            "1/1 [==============================] - 0s 14ms/step - loss: 0.2999 - mae: 0.2999\n",
            "Epoch 76/100\n",
            "1/1 [==============================] - 0s 11ms/step - loss: 0.3257 - mae: 0.3257\n",
            "Epoch 77/100\n",
            "1/1 [==============================] - 0s 11ms/step - loss: 0.2899 - mae: 0.2899\n",
            "Epoch 78/100\n",
            "1/1 [==============================] - 0s 14ms/step - loss: 0.4119 - mae: 0.4119\n",
            "Epoch 79/100\n",
            "1/1 [==============================] - 0s 24ms/step - loss: 0.3723 - mae: 0.3723\n",
            "Epoch 80/100\n",
            "1/1 [==============================] - 0s 18ms/step - loss: 0.4502 - mae: 0.4502\n",
            "Epoch 81/100\n",
            "1/1 [==============================] - 0s 18ms/step - loss: 0.4114 - mae: 0.4114\n",
            "Epoch 82/100\n",
            "1/1 [==============================] - 0s 19ms/step - loss: 0.2852 - mae: 0.2852\n",
            "Epoch 83/100\n",
            "1/1 [==============================] - 0s 24ms/step - loss: 0.2691 - mae: 0.2691\n",
            "Epoch 84/100\n",
            "1/1 [==============================] - 0s 18ms/step - loss: 0.0914 - mae: 0.0914\n",
            "Epoch 85/100\n",
            "1/1 [==============================] - 0s 19ms/step - loss: 0.1217 - mae: 0.1217\n",
            "Epoch 86/100\n",
            "1/1 [==============================] - 0s 16ms/step - loss: 0.2044 - mae: 0.2044\n",
            "Epoch 87/100\n",
            "1/1 [==============================] - 0s 14ms/step - loss: 0.2576 - mae: 0.2576\n",
            "Epoch 88/100\n",
            "1/1 [==============================] - 0s 31ms/step - loss: 0.2307 - mae: 0.2307\n",
            "Epoch 89/100\n",
            "1/1 [==============================] - 0s 20ms/step - loss: 0.2056 - mae: 0.2056\n",
            "Epoch 90/100\n",
            "1/1 [==============================] - 0s 37ms/step - loss: 0.2111 - mae: 0.2111\n",
            "Epoch 91/100\n",
            "1/1 [==============================] - 0s 46ms/step - loss: 0.0987 - mae: 0.0987\n",
            "Epoch 92/100\n",
            "1/1 [==============================] - 0s 24ms/step - loss: 0.2813 - mae: 0.2813\n",
            "Epoch 93/100\n",
            "1/1 [==============================] - 0s 31ms/step - loss: 0.2120 - mae: 0.2120\n",
            "Epoch 94/100\n",
            "1/1 [==============================] - 0s 17ms/step - loss: 0.2087 - mae: 0.2087\n",
            "Epoch 95/100\n",
            "1/1 [==============================] - 0s 20ms/step - loss: 0.2527 - mae: 0.2527\n",
            "Epoch 96/100\n",
            "1/1 [==============================] - 0s 19ms/step - loss: 0.2055 - mae: 0.2055\n",
            "Epoch 97/100\n",
            "1/1 [==============================] - 0s 14ms/step - loss: 0.1720 - mae: 0.1720\n",
            "Epoch 98/100\n",
            "1/1 [==============================] - 0s 18ms/step - loss: 0.2696 - mae: 0.2696\n",
            "Epoch 99/100\n",
            "1/1 [==============================] - 0s 20ms/step - loss: 0.1657 - mae: 0.1657\n",
            "Epoch 100/100\n",
            "1/1 [==============================] - 0s 18ms/step - loss: 0.2045 - mae: 0.2045\n"
          ]
        },
        {
          "output_type": "execute_result",
          "data": {
            "text/plain": [
              "<keras.src.callbacks.History at 0x79d163e89120>"
            ]
          },
          "metadata": {},
          "execution_count": 17
        }
      ]
    },
    {
      "cell_type": "code",
      "source": [
        "# Lets try to make a prediction ones again\n",
        "model.predict([17.0])"
      ],
      "metadata": {
        "colab": {
          "base_uri": "https://localhost:8080/"
        },
        "id": "ql4B3smtiMMX",
        "outputId": "a8a6aff6-994c-4655-9aef-af4bb9fbfc62"
      },
      "execution_count": 18,
      "outputs": [
        {
          "output_type": "stream",
          "name": "stdout",
          "text": [
            "1/1 [==============================] - 0s 236ms/step\n"
          ]
        },
        {
          "output_type": "execute_result",
          "data": {
            "text/plain": [
              "array([[26.42797]], dtype=float32)"
            ]
          },
          "metadata": {},
          "execution_count": 18
        }
      ]
    },
    {
      "cell_type": "markdown",
      "source": [
        " # Evaluting the model"
      ],
      "metadata": {
        "id": "4x1ejfoJkkI-"
      }
    },
    {
      "cell_type": "code",
      "source": [
        "# written in the notebook'"
      ],
      "metadata": {
        "id": "diRJXEU_ikdb"
      },
      "execution_count": 19,
      "outputs": []
    },
    {
      "cell_type": "code",
      "source": [
        "# make a bigger dataset\n",
        "X = tf.range(-100,100,4)\n",
        "X"
      ],
      "metadata": {
        "id": "ivElZo8imobc",
        "outputId": "dcffba69-1967-4d54-9ee1-6964245cc0ad",
        "colab": {
          "base_uri": "https://localhost:8080/"
        }
      },
      "execution_count": 20,
      "outputs": [
        {
          "output_type": "execute_result",
          "data": {
            "text/plain": [
              "<tf.Tensor: shape=(50,), dtype=int32, numpy=\n",
              "array([-100,  -96,  -92,  -88,  -84,  -80,  -76,  -72,  -68,  -64,  -60,\n",
              "        -56,  -52,  -48,  -44,  -40,  -36,  -32,  -28,  -24,  -20,  -16,\n",
              "        -12,   -8,   -4,    0,    4,    8,   12,   16,   20,   24,   28,\n",
              "         32,   36,   40,   44,   48,   52,   56,   60,   64,   68,   72,\n",
              "         76,   80,   84,   88,   92,   96], dtype=int32)>"
            ]
          },
          "metadata": {},
          "execution_count": 20
        }
      ]
    },
    {
      "cell_type": "code",
      "source": [
        "y = X+10\n",
        "y"
      ],
      "metadata": {
        "id": "UAJ6ZRqknoNV",
        "outputId": "970bebc1-8f81-425f-f7c5-8186f8157ab5",
        "colab": {
          "base_uri": "https://localhost:8080/"
        }
      },
      "execution_count": 21,
      "outputs": [
        {
          "output_type": "execute_result",
          "data": {
            "text/plain": [
              "<tf.Tensor: shape=(50,), dtype=int32, numpy=\n",
              "array([-90, -86, -82, -78, -74, -70, -66, -62, -58, -54, -50, -46, -42,\n",
              "       -38, -34, -30, -26, -22, -18, -14, -10,  -6,  -2,   2,   6,  10,\n",
              "        14,  18,  22,  26,  30,  34,  38,  42,  46,  50,  54,  58,  62,\n",
              "        66,  70,  74,  78,  82,  86,  90,  94,  98, 102, 106], dtype=int32)>"
            ]
          },
          "metadata": {},
          "execution_count": 21
        }
      ]
    },
    {
      "cell_type": "code",
      "source": [
        "import matplotlib.pyplot as plt\n",
        "plt.scatter(X,y)"
      ],
      "metadata": {
        "id": "jLgjBXqBm6he",
        "outputId": "226a7f97-ce7a-4a48-f299-04ef65bb55a9",
        "colab": {
          "base_uri": "https://localhost:8080/",
          "height": 447
        }
      },
      "execution_count": 22,
      "outputs": [
        {
          "output_type": "execute_result",
          "data": {
            "text/plain": [
              "<matplotlib.collections.PathCollection at 0x79d16386f100>"
            ]
          },
          "metadata": {},
          "execution_count": 22
        },
        {
          "output_type": "display_data",
          "data": {
            "text/plain": [
              "<Figure size 640x480 with 1 Axes>"
            ],
            "image/png": "[encoded data removed]"
          },
          "metadata": {}
        }
      ]
    },
    {
      "cell_type": "code",
      "source": [
        "# Split the data into train and test sets\n",
        "X_train = X[:40]\n",
        "y_train = y[:40]\n",
        "\n",
        "X_test = X[40:]\n",
        "y_test = y[40:]\n",
        "len(X_train) , len(X_test) , len(y_train) , len(y_test)"
      ],
      "metadata": {
        "id": "18X_F5zDneQR",
        "outputId": "91e5ad44-21e1-471f-cc8d-21408d03b48d",
        "colab": {
          "base_uri": "https://localhost:8080/"
        }
      },
      "execution_count": 23,
      "outputs": [
        {
          "output_type": "execute_result",
          "data": {
            "text/plain": [
              "(40, 10, 40, 10)"
            ]
          },
          "metadata": {},
          "execution_count": 23
        }
      ]
    },
    {
      "cell_type": "markdown",
      "source": [
        "Visualing the data\n",
        "Now we've got our data in training and test sets .... let's visualize it again"
      ],
      "metadata": {
        "id": "o-62OwwFB3EZ"
      }
    },
    {
      "cell_type": "code",
      "source": [
        "plt.figure(figsize=(10,7))\n",
        "# plot training data in blue\n",
        "plt.scatter(X_train ,y_train , c='b' , label = \"training data\")\n",
        "# plot test data in green\n",
        "plt.scatter(X_test , y_test, c='g' , label = 'testing data')\n",
        "# show a legend\n",
        "plt.legend()"
      ],
      "metadata": {
        "id": "V0BlizFSu1Cs",
        "colab": {
          "base_uri": "https://localhost:8080/",
          "height": 616
        },
        "outputId": "5071b8f4-0988-4ccd-bbf5-72346e283701"
      },
      "execution_count": 24,
      "outputs": [
        {
          "output_type": "execute_result",
          "data": {
            "text/plain": [
              "<matplotlib.legend.Legend at 0x79d16241ba00>"
            ]
          },
          "metadata": {},
          "execution_count": 24
        },
        {
          "output_type": "display_data",
          "data": {
            "text/plain": [
              "<Figure size 1000x700 with 1 Axes>"
            ],
            "image/png": "[encoded data removed]"
          },
          "metadata": {}
        }
      ]
    },
    {
      "cell_type": "code",
      "source": [
        "# let build the  neural network for our data\n",
        "\n",
        "# 1. Create a model\n",
        "\n",
        "model = tf.keras.Sequential([\n",
        "    tf.keras.layers.Dense(1)\n",
        "])\n",
        "\n",
        "# 2. Compile the model\n",
        "\n",
        "model.compile(loss=tf.keras.losses.mae,\n",
        "              optimizer=tf.keras.optimizers.SGD(),\n",
        "              metrics=['mae'])\n",
        "\n",
        "# 3. Fit the model\n",
        "model.fit(tf.expand_dims(X_train,axis=-1),y_train , epochs=100)"
      ],
      "metadata": {
        "colab": {
          "base_uri": "https://localhost:8080/"
        },
        "id": "rhWK-HdAC2xk",
        "outputId": "c776c80b-1914-4ba1-ee70-39abe663a933"
      },
      "execution_count": 25,
      "outputs": [
        {
          "output_type": "stream",
          "name": "stdout",
          "text": [
            "Epoch 1/100\n",
            "2/2 [==============================] - 1s 13ms/step - loss: 108.6759 - mae: 108.6759\n",
            "Epoch 2/100\n",
            "2/2 [==============================] - 0s 17ms/step - loss: 73.2204 - mae: 73.2204\n",
            "Epoch 3/100\n",
            "2/2 [==============================] - 0s 15ms/step - loss: 35.6719 - mae: 35.6719\n",
            "Epoch 4/100\n",
            "2/2 [==============================] - 0s 13ms/step - loss: 7.7745 - mae: 7.7745\n",
            "Epoch 5/100\n",
            "2/2 [==============================] - 0s 14ms/step - loss: 11.2897 - mae: 11.2897\n",
            "Epoch 6/100\n",
            "2/2 [==============================] - 0s 28ms/step - loss: 10.4222 - mae: 10.4222\n",
            "Epoch 7/100\n",
            "2/2 [==============================] - 0s 14ms/step - loss: 9.4038 - mae: 9.4038\n",
            "Epoch 8/100\n",
            "2/2 [==============================] - 0s 21ms/step - loss: 9.2821 - mae: 9.2821\n",
            "Epoch 9/100\n",
            "2/2 [==============================] - 0s 12ms/step - loss: 11.9774 - mae: 11.9774\n",
            "Epoch 10/100\n",
            "2/2 [==============================] - 0s 22ms/step - loss: 13.9397 - mae: 13.9397\n",
            "Epoch 11/100\n",
            "2/2 [==============================] - 0s 35ms/step - loss: 12.0765 - mae: 12.0765\n",
            "Epoch 12/100\n",
            "2/2 [==============================] - 0s 18ms/step - loss: 16.1082 - mae: 16.1082\n",
            "Epoch 13/100\n",
            "2/2 [==============================] - 0s 18ms/step - loss: 11.7430 - mae: 11.7430\n",
            "Epoch 14/100\n",
            "2/2 [==============================] - 0s 17ms/step - loss: 13.5953 - mae: 13.5953\n",
            "Epoch 15/100\n",
            "2/2 [==============================] - 0s 29ms/step - loss: 10.9079 - mae: 10.9079\n",
            "Epoch 16/100\n",
            "2/2 [==============================] - 0s 24ms/step - loss: 8.5340 - mae: 8.5340\n",
            "Epoch 17/100\n",
            "2/2 [==============================] - 0s 9ms/step - loss: 13.5886 - mae: 13.5886\n",
            "Epoch 18/100\n",
            "2/2 [==============================] - 0s 16ms/step - loss: 11.3971 - mae: 11.3971\n",
            "Epoch 19/100\n",
            "2/2 [==============================] - 0s 11ms/step - loss: 18.0551 - mae: 18.0551\n",
            "Epoch 20/100\n",
            "2/2 [==============================] - 0s 9ms/step - loss: 15.1888 - mae: 15.1888\n",
            "Epoch 21/100\n",
            "2/2 [==============================] - 0s 14ms/step - loss: 11.1456 - mae: 11.1456\n",
            "Epoch 22/100\n",
            "2/2 [==============================] - 0s 8ms/step - loss: 8.2743 - mae: 8.2743\n",
            "Epoch 23/100\n",
            "2/2 [==============================] - 0s 15ms/step - loss: 9.4803 - mae: 9.4803\n",
            "Epoch 24/100\n",
            "2/2 [==============================] - 0s 12ms/step - loss: 7.7156 - mae: 7.7156\n",
            "Epoch 25/100\n",
            "2/2 [==============================] - 0s 19ms/step - loss: 13.0499 - mae: 13.0499\n",
            "Epoch 26/100\n",
            "2/2 [==============================] - 0s 13ms/step - loss: 16.5584 - mae: 16.5584\n",
            "Epoch 27/100\n",
            "2/2 [==============================] - 0s 14ms/step - loss: 13.2858 - mae: 13.2858\n",
            "Epoch 28/100\n",
            "2/2 [==============================] - 0s 13ms/step - loss: 14.4033 - mae: 14.4033\n",
            "Epoch 29/100\n",
            "2/2 [==============================] - 0s 19ms/step - loss: 10.1315 - mae: 10.1315\n",
            "Epoch 30/100\n",
            "2/2 [==============================] - 0s 11ms/step - loss: 16.5418 - mae: 16.5418\n",
            "Epoch 31/100\n",
            "2/2 [==============================] - 0s 18ms/step - loss: 23.4860 - mae: 23.4860\n",
            "Epoch 32/100\n",
            "2/2 [==============================] - 0s 33ms/step - loss: 7.3979 - mae: 7.3979\n",
            "Epoch 33/100\n",
            "2/2 [==============================] - 0s 10ms/step - loss: 9.8335 - mae: 9.8335\n",
            "Epoch 34/100\n",
            "2/2 [==============================] - 0s 12ms/step - loss: 12.2853 - mae: 12.2853\n",
            "Epoch 35/100\n",
            "2/2 [==============================] - 0s 12ms/step - loss: 11.1878 - mae: 11.1878\n",
            "Epoch 36/100\n",
            "2/2 [==============================] - 0s 18ms/step - loss: 13.4066 - mae: 13.4066\n",
            "Epoch 37/100\n",
            "2/2 [==============================] - 0s 21ms/step - loss: 9.4808 - mae: 9.4808\n",
            "Epoch 38/100\n",
            "2/2 [==============================] - 0s 11ms/step - loss: 10.1335 - mae: 10.1335\n",
            "Epoch 39/100\n",
            "2/2 [==============================] - 0s 14ms/step - loss: 10.2400 - mae: 10.2400\n",
            "Epoch 40/100\n",
            "2/2 [==============================] - 0s 11ms/step - loss: 10.9826 - mae: 10.9826\n",
            "Epoch 41/100\n",
            "2/2 [==============================] - 0s 11ms/step - loss: 7.9610 - mae: 7.9610\n",
            "Epoch 42/100\n",
            "2/2 [==============================] - 0s 12ms/step - loss: 10.6113 - mae: 10.6113\n",
            "Epoch 43/100\n",
            "2/2 [==============================] - 0s 16ms/step - loss: 7.2431 - mae: 7.2431\n",
            "Epoch 44/100\n",
            "2/2 [==============================] - 0s 14ms/step - loss: 8.0242 - mae: 8.0242\n",
            "Epoch 45/100\n",
            "2/2 [==============================] - 0s 13ms/step - loss: 9.8181 - mae: 9.8181\n",
            "Epoch 46/100\n",
            "2/2 [==============================] - 0s 9ms/step - loss: 8.8926 - mae: 8.8926\n",
            "Epoch 47/100\n",
            "2/2 [==============================] - 0s 7ms/step - loss: 7.6065 - mae: 7.6065\n",
            "Epoch 48/100\n",
            "2/2 [==============================] - 0s 11ms/step - loss: 8.6089 - mae: 8.6089\n",
            "Epoch 49/100\n",
            "2/2 [==============================] - 0s 9ms/step - loss: 10.0230 - mae: 10.0230\n",
            "Epoch 50/100\n",
            "2/2 [==============================] - 0s 13ms/step - loss: 9.0608 - mae: 9.0608\n",
            "Epoch 51/100\n",
            "2/2 [==============================] - 0s 16ms/step - loss: 10.6916 - mae: 10.6916\n",
            "Epoch 52/100\n",
            "2/2 [==============================] - 0s 25ms/step - loss: 15.3293 - mae: 15.3293\n",
            "Epoch 53/100\n",
            "2/2 [==============================] - 0s 12ms/step - loss: 14.3458 - mae: 14.3458\n",
            "Epoch 54/100\n",
            "2/2 [==============================] - 0s 12ms/step - loss: 21.6425 - mae: 21.6425\n",
            "Epoch 55/100\n",
            "2/2 [==============================] - 0s 12ms/step - loss: 15.9950 - mae: 15.9950\n",
            "Epoch 56/100\n",
            "2/2 [==============================] - 0s 17ms/step - loss: 10.3208 - mae: 10.3208\n",
            "Epoch 57/100\n",
            "2/2 [==============================] - 0s 16ms/step - loss: 9.7925 - mae: 9.7925\n",
            "Epoch 58/100\n",
            "2/2 [==============================] - 0s 25ms/step - loss: 9.0801 - mae: 9.0801\n",
            "Epoch 59/100\n",
            "2/2 [==============================] - 0s 29ms/step - loss: 8.2806 - mae: 8.2806\n",
            "Epoch 60/100\n",
            "2/2 [==============================] - 0s 18ms/step - loss: 9.3822 - mae: 9.3822\n",
            "Epoch 61/100\n",
            "2/2 [==============================] - 0s 29ms/step - loss: 11.1878 - mae: 11.1878\n",
            "Epoch 62/100\n",
            "2/2 [==============================] - 0s 22ms/step - loss: 12.1105 - mae: 12.1105\n",
            "Epoch 63/100\n",
            "2/2 [==============================] - 0s 15ms/step - loss: 7.2976 - mae: 7.2976\n",
            "Epoch 64/100\n",
            "2/2 [==============================] - 0s 25ms/step - loss: 12.4446 - mae: 12.4446\n",
            "Epoch 65/100\n",
            "2/2 [==============================] - 0s 9ms/step - loss: 10.5236 - mae: 10.5236\n",
            "Epoch 66/100\n",
            "2/2 [==============================] - 0s 20ms/step - loss: 15.6414 - mae: 15.6414\n",
            "Epoch 67/100\n",
            "2/2 [==============================] - 0s 12ms/step - loss: 10.0452 - mae: 10.0452\n",
            "Epoch 68/100\n",
            "2/2 [==============================] - 0s 21ms/step - loss: 8.7544 - mae: 8.7544\n",
            "Epoch 69/100\n",
            "2/2 [==============================] - 0s 12ms/step - loss: 13.5208 - mae: 13.5208\n",
            "Epoch 70/100\n",
            "2/2 [==============================] - 0s 15ms/step - loss: 7.5008 - mae: 7.5008\n",
            "Epoch 71/100\n",
            "2/2 [==============================] - 0s 11ms/step - loss: 12.2505 - mae: 12.2505\n",
            "Epoch 72/100\n",
            "2/2 [==============================] - 0s 26ms/step - loss: 8.5665 - mae: 8.5665\n",
            "Epoch 73/100\n",
            "2/2 [==============================] - 0s 17ms/step - loss: 7.0707 - mae: 7.0707\n",
            "Epoch 74/100\n",
            "2/2 [==============================] - 0s 14ms/step - loss: 9.9654 - mae: 9.9654\n",
            "Epoch 75/100\n",
            "2/2 [==============================] - 0s 10ms/step - loss: 9.9624 - mae: 9.9624\n",
            "Epoch 76/100\n",
            "2/2 [==============================] - 0s 13ms/step - loss: 10.1300 - mae: 10.1300\n",
            "Epoch 77/100\n",
            "2/2 [==============================] - 0s 16ms/step - loss: 12.9680 - mae: 12.9680\n",
            "Epoch 78/100\n",
            "2/2 [==============================] - 0s 11ms/step - loss: 11.1791 - mae: 11.1791\n",
            "Epoch 79/100\n",
            "2/2 [==============================] - 0s 18ms/step - loss: 14.7314 - mae: 14.7314\n",
            "Epoch 80/100\n",
            "2/2 [==============================] - 0s 13ms/step - loss: 8.9505 - mae: 8.9505\n",
            "Epoch 81/100\n",
            "2/2 [==============================] - 0s 9ms/step - loss: 10.7921 - mae: 10.7921\n",
            "Epoch 82/100\n",
            "2/2 [==============================] - 0s 17ms/step - loss: 8.4237 - mae: 8.4237\n",
            "Epoch 83/100\n",
            "2/2 [==============================] - 0s 22ms/step - loss: 9.2485 - mae: 9.2485\n",
            "Epoch 84/100\n",
            "2/2 [==============================] - 0s 19ms/step - loss: 8.9707 - mae: 8.9707\n",
            "Epoch 85/100\n",
            "2/2 [==============================] - 0s 18ms/step - loss: 13.2027 - mae: 13.2027\n",
            "Epoch 86/100\n",
            "2/2 [==============================] - 0s 12ms/step - loss: 13.7309 - mae: 13.7309\n",
            "Epoch 87/100\n",
            "2/2 [==============================] - 0s 18ms/step - loss: 13.2158 - mae: 13.2158\n",
            "Epoch 88/100\n",
            "2/2 [==============================] - 0s 21ms/step - loss: 11.5449 - mae: 11.5449\n",
            "Epoch 89/100\n",
            "2/2 [==============================] - 0s 11ms/step - loss: 7.8354 - mae: 7.8354\n",
            "Epoch 90/100\n",
            "2/2 [==============================] - 0s 13ms/step - loss: 10.9624 - mae: 10.9624\n",
            "Epoch 91/100\n",
            "2/2 [==============================] - 0s 9ms/step - loss: 6.7805 - mae: 6.7805\n",
            "Epoch 92/100\n",
            "2/2 [==============================] - 0s 16ms/step - loss: 10.1552 - mae: 10.1552\n",
            "Epoch 93/100\n",
            "2/2 [==============================] - 0s 11ms/step - loss: 7.6329 - mae: 7.6329\n",
            "Epoch 94/100\n",
            "2/2 [==============================] - 0s 11ms/step - loss: 9.2665 - mae: 9.2665\n",
            "Epoch 95/100\n",
            "2/2 [==============================] - 0s 11ms/step - loss: 10.8536 - mae: 10.8536\n",
            "Epoch 96/100\n",
            "2/2 [==============================] - 0s 12ms/step - loss: 10.3243 - mae: 10.3243\n",
            "Epoch 97/100\n",
            "2/2 [==============================] - 0s 17ms/step - loss: 7.7036 - mae: 7.7036\n",
            "Epoch 98/100\n",
            "2/2 [==============================] - 0s 15ms/step - loss: 8.6407 - mae: 8.6407\n",
            "Epoch 99/100\n",
            "2/2 [==============================] - 0s 22ms/step - loss: 9.4195 - mae: 9.4195\n",
            "Epoch 100/100\n",
            "2/2 [==============================] - 0s 17ms/step - loss: 8.8655 - mae: 8.8655\n"
          ]
        },
        {
          "output_type": "execute_result",
          "data": {
            "text/plain": [
              "<keras.src.callbacks.History at 0x79d16249fbb0>"
            ]
          },
          "metadata": {},
          "execution_count": 25
        }
      ]
    },
    {
      "cell_type": "markdown",
      "source": [
        " visualizing the model\n",
        ""
      ],
      "metadata": {
        "id": "BIOjSL2dFSMn"
      }
    },
    {
      "cell_type": "code",
      "source": [
        "# Lets's create a model which builds automatically by defining the input_shape argument\n",
        "\n",
        "tf.random.set_seed(42)\n",
        "\n",
        "# create a model same as above\n",
        "\n",
        "model = tf.keras.Sequential([\n",
        "    tf.keras.layers.Dense(1,input_shape=[1])\n",
        "])\n",
        " # compile the model\n",
        "\n",
        "model.compile(loss=tf.keras.losses.mae,\n",
        "               optimizer=tf.keras.optimizers.SGD(),\n",
        "               metrics=['mae'])"
      ],
      "metadata": {
        "id": "i4jI2daZEqBH"
      },
      "execution_count": 26,
      "outputs": []
    },
    {
      "cell_type": "code",
      "source": [
        "model.summary()"
      ],
      "metadata": {
        "colab": {
          "base_uri": "https://localhost:8080/"
        },
        "id": "0z3NE2PQFMEI",
        "outputId": "091693e8-3929-41a9-8cde-52baecae3926"
      },
      "execution_count": 27,
      "outputs": [
        {
          "output_type": "stream",
          "name": "stdout",
          "text": [
            "Model: \"sequential_5\"\n",
            "_________________________________________________________________\n",
            " Layer (type)                Output Shape              Param #   \n",
            "=================================================================\n",
            " dense_7 (Dense)             (None, 1)                 2         \n",
            "                                                                 \n",
            "=================================================================\n",
            "Total params: 2 (8.00 Byte)\n",
            "Trainable params: 2 (8.00 Byte)\n",
            "Non-trainable params: 0 (0.00 Byte)\n",
            "_________________________________________________________________\n"
          ]
        }
      ]
    },
    {
      "cell_type": "code",
      "source": [],
      "metadata": {
        "id": "epT1qHtEG7Vq"
      },
      "execution_count": 27,
      "outputs": []
    },
    {
      "cell_type": "markdown",
      "source": [
        "# param = X,y that why 2 param\n",
        "# trainable parameters - these are the parameters (patterns) the model can update as it trains\n",
        "# Non-trainable params - these parameters aren't updated during training ( this is typical when you bring in already learn patterns or parametrers from other models during **transfer learning**)\n",
        "** resources ** for a ,=more in-depth overview of the trainable parameters within a layer , check out MIT's introduction to deep learning video."
      ],
      "metadata": {
        "id": "W1hwtUlYUanc"
      }
    },
    {
      "cell_type": "code",
      "source": [
        "# let fit model to the training data"
      ],
      "metadata": {
        "id": "C8JI_2KjSuiq"
      },
      "execution_count": 28,
      "outputs": []
    },
    {
      "cell_type": "code",
      "source": [
        "model.fit(X_train,y_train,epochs=100,verbose=0)"
      ],
      "metadata": {
        "colab": {
          "base_uri": "https://localhost:8080/"
        },
        "id": "X_qo1Fl8YaOh",
        "outputId": "360ef2ae-12c3-45cf-f5a5-485c69953450"
      },
      "execution_count": 29,
      "outputs": [
        {
          "output_type": "execute_result",
          "data": {
            "text/plain": [
              "<keras.src.callbacks.History at 0x79d16249fa60>"
            ]
          },
          "metadata": {},
          "execution_count": 29
        }
      ]
    },
    {
      "cell_type": "code",
      "source": [
        "model.summary()"
      ],
      "metadata": {
        "colab": {
          "base_uri": "https://localhost:8080/"
        },
        "id": "V2ef26vhYqio",
        "outputId": "bfbd90b5-98dd-484b-a0b2-ad9afcb3abfb"
      },
      "execution_count": 30,
      "outputs": [
        {
          "output_type": "stream",
          "name": "stdout",
          "text": [
            "Model: \"sequential_5\"\n",
            "_________________________________________________________________\n",
            " Layer (type)                Output Shape              Param #   \n",
            "=================================================================\n",
            " dense_7 (Dense)             (None, 1)                 2         \n",
            "                                                                 \n",
            "=================================================================\n",
            "Total params: 2 (8.00 Byte)\n",
            "Trainable params: 2 (8.00 Byte)\n",
            "Non-trainable params: 0 (0.00 Byte)\n",
            "_________________________________________________________________\n"
          ]
        }
      ]
    },
    {
      "cell_type": "code",
      "source": [
        "from tensorflow.keras.utils import plot_model\n",
        "plot_model(model=model ,show_shapes=True)"
      ],
      "metadata": {
        "colab": {
          "base_uri": "https://localhost:8080/",
          "height": 201
        },
        "id": "aTb4ezz8ZFY3",
        "outputId": "07895798-09be-4c1c-c002-acf38896d89d"
      },
      "execution_count": 31,
      "outputs": [
        {
          "output_type": "execute_result",
          "data": {
            "image/png": "[encoded data removed]",
            "text/plain": [
              "<IPython.core.display.Image object>"
            ]
          },
          "metadata": {},
          "execution_count": 31
        }
      ]
    },
    {
      "cell_type": "code",
      "source": [
        "# Lets's create a model which builds automatically by defining the input_shape argument\n",
        "\n",
        "tf.random.set_seed(42)\n",
        "\n",
        "# create a model same as above\n",
        "\n",
        "model = tf.keras.Sequential([\n",
        "    tf.keras.layers.Dense(10,input_shape=[1], name = \"input_layer\"),\n",
        "    tf.keras.layers.Dense(1,name=\"output_layer\")\n",
        "],name=\"model_one\")\n",
        " # compile the model\n",
        "\n",
        "model.compile(loss=tf.keras.losses.mae,\n",
        "               optimizer=tf.keras.optimizers.SGD(),\n",
        "               metrics=['mae'])"
      ],
      "metadata": {
        "id": "nerdTsuWaCHn"
      },
      "execution_count": 32,
      "outputs": []
    },
    {
      "cell_type": "code",
      "source": [
        "model.summary()"
      ],
      "metadata": {
        "colab": {
          "base_uri": "https://localhost:8080/"
        },
        "id": "XZ_4P1x_bVtj",
        "outputId": "d17665fc-4063-4434-d926-65c2c45bf769"
      },
      "execution_count": 33,
      "outputs": [
        {
          "output_type": "stream",
          "name": "stdout",
          "text": [
            "Model: \"model_one\"\n",
            "_________________________________________________________________\n",
            " Layer (type)                Output Shape              Param #   \n",
            "=================================================================\n",
            " input_layer (Dense)         (None, 10)                20        \n",
            "                                                                 \n",
            " output_layer (Dense)        (None, 1)                 11        \n",
            "                                                                 \n",
            "=================================================================\n",
            "Total params: 31 (124.00 Byte)\n",
            "Trainable params: 31 (124.00 Byte)\n",
            "Non-trainable params: 0 (0.00 Byte)\n",
            "_________________________________________________________________\n"
          ]
        }
      ]
    },
    {
      "cell_type": "code",
      "source": [
        "y_pred=model.predict(X_test)"
      ],
      "metadata": {
        "colab": {
          "base_uri": "https://localhost:8080/"
        },
        "id": "83XR9Z10bXRq",
        "outputId": "c99e9067-7391-4e36-f32d-81351f0fdfd3"
      },
      "execution_count": 34,
      "outputs": [
        {
          "output_type": "stream",
          "name": "stderr",
          "text": [
            "WARNING:tensorflow:5 out of the last 5 calls to <function Model.make_predict_function.<locals>.predict_function at 0x79d1624cf640> triggered tf.function retracing. Tracing is expensive and the excessive number of tracings could be due to (1) creating @tf.function repeatedly in a loop, (2) passing tensors with different shapes, (3) passing Python objects instead of tensors. For (1), please define your @tf.function outside of the loop. For (2), @tf.function has reduce_retracing=True option that can avoid unnecessary retracing. For (3), please refer to https://www.tensorflow.org/guide/function#controlling_retracing and https://www.tensorflow.org/api_docs/python/tf/function for  more details.\n"
          ]
        },
        {
          "output_type": "stream",
          "name": "stdout",
          "text": [
            "1/1 [==============================] - 0s 80ms/step\n"
          ]
        }
      ]
    },
    {
      "cell_type": "code",
      "source": [
        "y_pred,y_test"
      ],
      "metadata": {
        "colab": {
          "base_uri": "https://localhost:8080/"
        },
        "id": "kioIlmeLf_BA",
        "outputId": "7d29fae5-1b34-4520-999b-0fc070950ce7"
      },
      "execution_count": 35,
      "outputs": [
        {
          "output_type": "execute_result",
          "data": {
            "text/plain": [
              "(array([[ -7.7559633],\n",
              "        [ -8.273031 ],\n",
              "        [ -8.790097 ],\n",
              "        [ -9.307159 ],\n",
              "        [ -9.824223 ],\n",
              "        [-10.341281 ],\n",
              "        [-10.85835  ],\n",
              "        [-11.375416 ],\n",
              "        [-11.892483 ],\n",
              "        [-12.409551 ]], dtype=float32),\n",
              " <tf.Tensor: shape=(10,), dtype=int32, numpy=array([ 70,  74,  78,  82,  86,  90,  94,  98, 102, 106], dtype=int32)>)"
            ]
          },
          "metadata": {},
          "execution_count": 35
        }
      ]
    },
    {
      "cell_type": "code",
      "source": [
        "def  plot_predictions(train_data=X_train,\n",
        "                      train_labels=y_train,\n",
        "                      test_data=X_test,\n",
        "                      test_labels=y_test,\n",
        "                      predictions=y_pred):\n",
        "\n",
        "  plt.figure(figsize=(10,7))\n",
        "  plt.scatter(train_data,train_labels,c=\"b\",label = \"training data\")\n",
        "  plt.scatter(test_data,test_labels,c=\"g\",label=\"testing data\")\n",
        "  plt.scatter(test_data , predictions , c=\"r\" , label = \"predicitons\")\n",
        "\n",
        "  plt.legend();"
      ],
      "metadata": {
        "id": "gZmcPwcZcbgv"
      },
      "execution_count": 36,
      "outputs": []
    },
    {
      "cell_type": "code",
      "source": [
        "plot_predictions()"
      ],
      "metadata": {
        "colab": {
          "base_uri": "https://localhost:8080/",
          "height": 599
        },
        "id": "--mPpcfkfHLI",
        "outputId": "b499e0b8-a2bb-4bc6-f136-808e1f7cac2b"
      },
      "execution_count": 37,
      "outputs": [
        {
          "output_type": "display_data",
          "data": {
            "text/plain": [
              "<Figure size 1000x700 with 1 Axes>"
            ],
            "image/png": "[encoded data removed]"
          },
          "metadata": {}
        }
      ]
    },
    {
      "cell_type": "markdown",
      "source": [
        "Evaluting our model's predictions with regression evaluation metrics"
      ],
      "metadata": {
        "id": "qu0GgkfrgetP"
      }
    },
    {
      "cell_type": "code",
      "source": [
        "# Depending on the problem you are working on there will be different evaluation to evaluate your model's performance\n",
        "\n",
        "# since we're working on a regression . two of the main metrics :\n",
        "# MAE - mean absolute error , \" on average , how wrong is each of my model's predicitons\"\n",
        "# MSE - mean square error , \"square the average errors\"\n"
      ],
      "metadata": {
        "id": "D_omks58fSCH"
      },
      "execution_count": 38,
      "outputs": []
    },
    {
      "cell_type": "code",
      "source": [
        "# Evaluate the model on the test\n",
        "model.evaluate(X_test,y_test)"
      ],
      "metadata": {
        "colab": {
          "base_uri": "https://localhost:8080/"
        },
        "id": "qtqucBDmjgaw",
        "outputId": "22dcd322-ec94-46a9-9815-a333667f361c"
      },
      "execution_count": 43,
      "outputs": [
        {
          "output_type": "stream",
          "name": "stdout",
          "text": [
            "1/1 [==============================] - 0s 59ms/step - loss: 98.0828 - mae: 98.0828\n"
          ]
        },
        {
          "output_type": "execute_result",
          "data": {
            "text/plain": [
              "[98.08275604248047, 98.08275604248047]"
            ]
          },
          "metadata": {},
          "execution_count": 43
        }
      ]
    },
    {
      "cell_type": "code",
      "source": [
        "# Calculate the mean absolute error\n",
        "# tf.keras.losses.MAE()\n",
        "mae=tf.metrics.mean_absolute_error(y_true=y_test,\n",
        "                               y_pred=tf.constant(y_pred))\n",
        "mae"
      ],
      "metadata": {
        "colab": {
          "base_uri": "https://localhost:8080/"
        },
        "id": "2v-id4u7ms6V",
        "outputId": "d12c973b-7a61-48c1-c2bd-fcc75d9873d3"
      },
      "execution_count": 40,
      "outputs": [
        {
          "output_type": "execute_result",
          "data": {
            "text/plain": [
              "<tf.Tensor: shape=(10,), dtype=float32, numpy=\n",
              "array([ 95.75597,  96.27303,  96.7901 ,  97.30716,  97.82422,  98.34128,\n",
              "        98.85835,  99.37541,  99.89249, 100.40955], dtype=float32)>"
            ]
          },
          "metadata": {},
          "execution_count": 40
        }
      ]
    },
    {
      "cell_type": "code",
      "source": [
        " # Make some functions to reuse MAE and MSE\n",
        "\n",
        "def mae(y_true , y_pred):\n",
        "  return tf.metrics.mean_absolute_error(y_true=y_true,\n",
        "                                       y_pred=y_pred)\n",
        "\n",
        "def mse(y_true , y_pred):\n",
        "  return tf.metrics.mean_squared_error(y_true=y_true,\n",
        "                                       y_pred=y_pred)"
      ],
      "metadata": {
        "id": "NHJpafr6oZOk"
      },
      "execution_count": 41,
      "outputs": []
    },
    {
      "cell_type": "code",
      "source": [
        "# Running experiments to improve our model"
      ],
      "metadata": {
        "id": "DoffiI4sZ_nT"
      },
      "execution_count": 42,
      "outputs": []
    },
    {
      "cell_type": "code",
      "source": [],
      "metadata": {
        "id": "UXjZ-ZQZaLVv"
      },
      "execution_count": null,
      "outputs": []
    },
    {
      "cell_type": "code",
      "source": [],
      "metadata": {
        "id": "iOZ68B2maLZ-"
      },
      "execution_count": null,
      "outputs": []
    },
    {
      "cell_type": "code",
      "source": [],
      "metadata": {
        "id": "3WNjI6NraLcU"
      },
      "execution_count": null,
      "outputs": []
    },
    {
      "cell_type": "code",
      "source": [],
      "metadata": {
        "id": "OiOeZIaTaLii"
      },
      "execution_count": null,
      "outputs": []
    },
    {
      "cell_type": "code",
      "source": [],
      "metadata": {
        "id": "EgRFQilbaLks"
      },
      "execution_count": null,
      "outputs": []
    },
    {
      "cell_type": "code",
      "source": [],
      "metadata": {
        "id": "G2kEP216aLoG"
      },
      "execution_count": null,
      "outputs": []
    }
  ]
}